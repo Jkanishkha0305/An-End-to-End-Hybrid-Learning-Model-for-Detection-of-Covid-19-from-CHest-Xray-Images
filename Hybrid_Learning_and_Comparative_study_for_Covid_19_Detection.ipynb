{
  "cells": [
    {
      "cell_type": "markdown",
      "metadata": {
        "id": "view-in-github",
        "colab_type": "text"
      },
      "source": [
        "<a href=\"https://colab.research.google.com/github/Jkanishkha0305/Detection-of-Covid-19-from-Chest-Xray-using-Custom-CNN-and-Transfer-Learning/blob/main/Hybrid_Learning_and_Comparative_study_for_Covid_19_Detection.ipynb\" target=\"_parent\"><img src=\"https://colab.research.google.com/assets/colab-badge.svg\" alt=\"Open In Colab\"/></a>"
      ]
    },
    {
      "cell_type": "markdown",
      "metadata": {
        "id": "umG7_fcnqjKi"
      },
      "source": [
        "## Creating a Hybrid Learning Model (CNN+LSTM) and comparing the model performance with modified Xception, MobileNet, VGG19 for detection of Covid-19 form Chest X-ray images"
      ]
    },
    {
      "cell_type": "code",
      "execution_count": null,
      "metadata": {
        "colab": {
          "base_uri": "https://localhost:8080/"
        },
        "id": "rdYoVx81qkoA",
        "outputId": "5f1cf704-69ee-4405-8eab-15e50fa158ff"
      },
      "outputs": [
        {
          "output_type": "stream",
          "name": "stdout",
          "text": [
            "Mounted at /content/drive\n"
          ]
        }
      ],
      "source": [
        "#mounting the drive so that it will be easier to read datasets and no need to upload in the colab everytime\n",
        "from google.colab import drive \n",
        "drive.mount('/content/drive')"
      ]
    },
    {
      "cell_type": "code",
      "execution_count": null,
      "metadata": {
        "id": "RGUDIjesqjKo"
      },
      "outputs": [],
      "source": [
        "# importing the requiredlibraries \n",
        "\n",
        "from tensorflow.keras.layers import Input, Lambda, Dense, Flatten,Conv2D\n",
        "from tensorflow.keras.models import Model\n",
        "from tensorflow.keras.applications.vgg19 import VGG19\n",
        "from tensorflow.keras.applications.resnet50 import preprocess_input\n",
        "from tensorflow.keras.preprocessing import image\n",
        "from tensorflow.keras.preprocessing.image import ImageDataGenerator,load_img\n",
        "from tensorflow.keras.models import Sequential\n",
        "import numpy as np\n",
        "from glob import glob\n",
        "import matplotlib.pyplot as plt\n",
        "from sklearn.metrics import confusion_matrix, classification_report, recall_score, precision_score, f1_score, roc_auc_score, roc_curve"
      ]
    },
    {
      "cell_type": "code",
      "execution_count": null,
      "metadata": {
        "id": "_8cG6dBIqjKq"
      },
      "outputs": [],
      "source": [
        "# re-size all the images to this\n",
        "IMAGE_SIZE = [224, 224]\n",
        "\n",
        "train_path = 'drive/MyDrive/Colab_Assignments/ML/CovidDataset/Train'\n",
        "valid_path = 'drive/MyDrive/Colab_Assignments/ML/CovidDataset/Test'\n"
      ]
    },
    {
      "cell_type": "code",
      "source": [
        "import os\n",
        "\n",
        "# Replace 'path_to_subdirectory' with your subdirectory path\n",
        "path = '/content/drive/MyDrive/Colab_Assignments/ML/CovidDataset/Test/Normal'\n",
        "\n",
        "# Initialize counters\n",
        "num_jpg = 0\n",
        "num_png = 0\n",
        "num_jpeg = 0\n",
        "\n",
        "# Loop over all files in the subdirectory\n",
        "for file in os.listdir(path):\n",
        "    if file.endswith('.jpg'):\n",
        "        num_jpg += 1\n",
        "    elif file.endswith('.png'):\n",
        "        num_png += 1\n",
        "    elif file.endswith('.jpeg'):\n",
        "        num_png += 1\n",
        "\n",
        "print(f'Total number of .jpg files: {num_jpg}')\n",
        "print(f'Total number of .png files: {num_png}')\n",
        "print(f'Total number of .png files: {num_jpeg}')"
      ],
      "metadata": {
        "colab": {
          "base_uri": "https://localhost:8080/"
        },
        "id": "irq-wBdlBUDU",
        "outputId": "fac2123c-c255-4252-b471-0a7154efe36b"
      },
      "execution_count": null,
      "outputs": [
        {
          "output_type": "stream",
          "name": "stdout",
          "text": [
            "Total number of .jpg files: 0\n",
            "Total number of .png files: 30\n",
            "Total number of .png files: 0\n"
          ]
        }
      ]
    },
    {
      "cell_type": "code",
      "source": [
        "a = 151\n",
        "b = 112\n",
        "c = 30\n",
        "d = 30"
      ],
      "metadata": {
        "id": "j8BPIAz1Dx7i"
      },
      "execution_count": null,
      "outputs": []
    },
    {
      "cell_type": "markdown",
      "metadata": {
        "id": "U2SmvZ0Eqoo0"
      },
      "source": [
        "Creating a CNN Model from Scratch"
      ]
    },
    {
      "cell_type": "code",
      "execution_count": null,
      "metadata": {
        "id": "HMRTc5w2qjKq"
      },
      "outputs": [],
      "source": [
        "from tensorflow.keras.layers import MaxPooling2D"
      ]
    },
    {
      "cell_type": "code",
      "execution_count": null,
      "metadata": {
        "colab": {
          "base_uri": "https://localhost:8080/"
        },
        "id": "buylAqdPqjKr",
        "outputId": "f05b3a5c-783b-4751-d78f-58fde0fe70c3"
      },
      "outputs": [
        {
          "name": "stdout",
          "output_type": "stream",
          "text": [
            "Model: \"sequential\"\n",
            "_________________________________________________________________\n",
            " Layer (type)                Output Shape              Param #   \n",
            "=================================================================\n",
            " conv2d (Conv2D)             (None, 224, 224, 16)      208       \n",
            "                                                                 \n",
            " max_pooling2d (MaxPooling2D  (None, 112, 112, 16)     0         \n",
            " )                                                               \n",
            "                                                                 \n",
            " conv2d_1 (Conv2D)           (None, 112, 112, 32)      2080      \n",
            "                                                                 \n",
            " max_pooling2d_1 (MaxPooling  (None, 56, 56, 32)       0         \n",
            " 2D)                                                             \n",
            "                                                                 \n",
            " conv2d_2 (Conv2D)           (None, 56, 56, 64)        8256      \n",
            "                                                                 \n",
            " max_pooling2d_2 (MaxPooling  (None, 28, 28, 64)       0         \n",
            " 2D)                                                             \n",
            "                                                                 \n",
            " flatten (Flatten)           (None, 50176)             0         \n",
            "                                                                 \n",
            " dense (Dense)               (None, 500)               25088500  \n",
            "                                                                 \n",
            " dense_1 (Dense)             (None, 2)                 1002      \n",
            "                                                                 \n",
            "=================================================================\n",
            "Total params: 25,100,046\n",
            "Trainable params: 25,100,046\n",
            "Non-trainable params: 0\n",
            "_________________________________________________________________\n"
          ]
        }
      ],
      "source": [
        "### Create Model architecture from scratch using CNN (5 layers)\n",
        "model=Sequential()\n",
        "model.add(Conv2D(filters=16,kernel_size=2,padding=\"same\",activation=\"relu\",input_shape=(224,224,3)))\n",
        "model.add(MaxPooling2D(pool_size=2))\n",
        "model.add(Conv2D(filters=32,kernel_size=2,padding=\"same\",activation =\"relu\"))\n",
        "model.add(MaxPooling2D(pool_size=2))\n",
        "model.add(Conv2D(filters=64,kernel_size=2,padding=\"same\",activation=\"relu\"))\n",
        "model.add(MaxPooling2D(pool_size=2))\n",
        "model.add(Flatten())\n",
        "model.add(Dense(500,activation=\"relu\"))\n",
        "model.add(Dense(2,activation=\"softmax\"))\n",
        "model.summary()"
      ]
    },
    {
      "cell_type": "code",
      "execution_count": null,
      "metadata": {
        "id": "a3Wlwn7NqjKr"
      },
      "outputs": [],
      "source": [
        "# tell the model what cost and optimization method to use\n",
        "model.compile(\n",
        "  loss='categorical_crossentropy',\n",
        "  optimizer='adam',\n",
        "  metrics=['accuracy']\n",
        ")\n"
      ]
    },
    {
      "cell_type": "code",
      "execution_count": null,
      "metadata": {
        "id": "9CyDsBfLqjKs"
      },
      "outputs": [],
      "source": [
        "# We use the Image Data Generator to import the images from the dataset\n",
        "from tensorflow.keras.preprocessing.image import ImageDataGenerator\n",
        "#Here we are augmenting the images\n",
        "train_datagen = ImageDataGenerator(rescale = 1./255,\n",
        "                                   shear_range = 0.2,\n",
        "                                   zoom_range = 0.2,\n",
        "                                   horizontal_flip = True)\n",
        "\n",
        "test_datagen = ImageDataGenerator(rescale = 1./255)"
      ]
    },
    {
      "cell_type": "code",
      "execution_count": null,
      "metadata": {
        "colab": {
          "base_uri": "https://localhost:8080/"
        },
        "id": "jKo_onS4qjKt",
        "outputId": "6bc4065f-69fa-40a4-a8d0-d2532e83aa0c"
      },
      "outputs": [
        {
          "output_type": "stream",
          "name": "stdout",
          "text": [
            "Found 224 images belonging to 2 classes.\n"
          ]
        }
      ],
      "source": [
        "# Creating trainset with image size of dimension (224,224)\n",
        "training_set = train_datagen.flow_from_directory('drive/MyDrive/Colab_Assignments/ML/CovidDataset/Train',\n",
        "                                                 target_size = (224, 224),\n",
        "                                                 batch_size = 32,\n",
        "                                                 class_mode = 'categorical')"
      ]
    },
    {
      "cell_type": "code",
      "execution_count": null,
      "metadata": {
        "colab": {
          "base_uri": "https://localhost:8080/"
        },
        "id": "VadclGemqjKu",
        "outputId": "965db393-95b1-4a39-cd80-135e37af828a"
      },
      "outputs": [
        {
          "output_type": "stream",
          "name": "stdout",
          "text": [
            "Found 60 images belonging to 2 classes.\n"
          ]
        }
      ],
      "source": [
        "# Creating testset with image size of dimension (224,224)\n",
        "test_set = test_datagen.flow_from_directory('drive/MyDrive/Colab_Assignments/ML/CovidDataset/Test',\n",
        "                                            target_size = (224, 224),\n",
        "                                            batch_size = 32,\n",
        "                                            class_mode = 'categorical')"
      ]
    },
    {
      "cell_type": "code",
      "execution_count": null,
      "metadata": {
        "colab": {
          "base_uri": "https://localhost:8080/"
        },
        "id": "UuXSMqXYqjKv",
        "outputId": "537d49b1-4c26-467e-ce32-d2b4c34acd4a",
        "scrolled": true
      },
      "outputs": [
        {
          "name": "stderr",
          "output_type": "stream",
          "text": [
            "/usr/local/lib/python3.7/dist-packages/ipykernel_launcher.py:8: UserWarning: `Model.fit_generator` is deprecated and will be removed in a future version. Please use `Model.fit`, which supports generators.\n",
            "  \n"
          ]
        },
        {
          "name": "stdout",
          "output_type": "stream",
          "text": [
            "Epoch 1/50\n",
            "7/7 [==============================] - 13s 2s/step - loss: 0.0386 - accuracy: 0.9866 - val_loss: 0.2057 - val_accuracy: 0.9667\n",
            "Epoch 2/50\n",
            "7/7 [==============================] - 11s 2s/step - loss: 0.0232 - accuracy: 0.9955 - val_loss: 0.0950 - val_accuracy: 0.9667\n",
            "Epoch 3/50\n",
            "7/7 [==============================] - 11s 2s/step - loss: 0.0437 - accuracy: 0.9866 - val_loss: 0.0838 - val_accuracy: 0.9667\n",
            "Epoch 4/50\n",
            "7/7 [==============================] - 11s 2s/step - loss: 0.0643 - accuracy: 0.9777 - val_loss: 0.1177 - val_accuracy: 0.9667\n",
            "Epoch 5/50\n",
            "7/7 [==============================] - 13s 2s/step - loss: 0.0167 - accuracy: 0.9911 - val_loss: 0.0491 - val_accuracy: 0.9667\n",
            "Epoch 6/50\n",
            "7/7 [==============================] - 12s 2s/step - loss: 0.0171 - accuracy: 0.9955 - val_loss: 0.1677 - val_accuracy: 0.9667\n",
            "Epoch 7/50\n",
            "7/7 [==============================] - 11s 2s/step - loss: 0.0098 - accuracy: 0.9955 - val_loss: 0.1092 - val_accuracy: 0.9667\n",
            "Epoch 8/50\n",
            "7/7 [==============================] - 12s 2s/step - loss: 0.0076 - accuracy: 1.0000 - val_loss: 0.1205 - val_accuracy: 0.9667\n",
            "Epoch 9/50\n",
            "7/7 [==============================] - 11s 2s/step - loss: 0.0122 - accuracy: 0.9955 - val_loss: 0.2087 - val_accuracy: 0.9667\n",
            "Epoch 10/50\n",
            "7/7 [==============================] - 13s 2s/step - loss: 0.0065 - accuracy: 1.0000 - val_loss: 0.0679 - val_accuracy: 0.9667\n",
            "Epoch 11/50\n",
            "7/7 [==============================] - 11s 2s/step - loss: 0.0071 - accuracy: 0.9955 - val_loss: 0.1049 - val_accuracy: 0.9667\n",
            "Epoch 12/50\n",
            "7/7 [==============================] - 11s 2s/step - loss: 0.0038 - accuracy: 1.0000 - val_loss: 0.1591 - val_accuracy: 0.9667\n",
            "Epoch 13/50\n",
            "7/7 [==============================] - 11s 2s/step - loss: 0.0068 - accuracy: 1.0000 - val_loss: 0.0674 - val_accuracy: 0.9667\n",
            "Epoch 14/50\n",
            "7/7 [==============================] - 11s 2s/step - loss: 0.0064 - accuracy: 1.0000 - val_loss: 0.1499 - val_accuracy: 0.9667\n",
            "Epoch 15/50\n",
            "7/7 [==============================] - 11s 2s/step - loss: 0.0032 - accuracy: 1.0000 - val_loss: 0.1208 - val_accuracy: 0.9667\n",
            "Epoch 16/50\n",
            "7/7 [==============================] - 12s 2s/step - loss: 0.0101 - accuracy: 0.9911 - val_loss: 0.1332 - val_accuracy: 0.9667\n",
            "Epoch 17/50\n",
            "7/7 [==============================] - 11s 2s/step - loss: 0.0044 - accuracy: 1.0000 - val_loss: 0.2645 - val_accuracy: 0.9667\n",
            "Epoch 18/50\n",
            "7/7 [==============================] - 11s 2s/step - loss: 0.0075 - accuracy: 0.9955 - val_loss: 0.2654 - val_accuracy: 0.9667\n",
            "Epoch 19/50\n",
            "7/7 [==============================] - 11s 2s/step - loss: 0.0030 - accuracy: 1.0000 - val_loss: 0.1290 - val_accuracy: 0.9667\n",
            "Epoch 20/50\n",
            "7/7 [==============================] - 11s 2s/step - loss: 0.0205 - accuracy: 0.9911 - val_loss: 0.0982 - val_accuracy: 0.9500\n",
            "Epoch 21/50\n",
            "7/7 [==============================] - 11s 2s/step - loss: 0.0125 - accuracy: 0.9911 - val_loss: 0.3336 - val_accuracy: 0.9667\n",
            "Epoch 22/50\n",
            "7/7 [==============================] - 11s 2s/step - loss: 0.0051 - accuracy: 1.0000 - val_loss: 0.1205 - val_accuracy: 0.9667\n",
            "Epoch 23/50\n",
            "7/7 [==============================] - 11s 2s/step - loss: 0.0210 - accuracy: 0.9911 - val_loss: 0.2321 - val_accuracy: 0.9667\n",
            "Epoch 24/50\n",
            "7/7 [==============================] - 11s 2s/step - loss: 0.0226 - accuracy: 0.9955 - val_loss: 0.1298 - val_accuracy: 0.9667\n",
            "Epoch 25/50\n",
            "7/7 [==============================] - 11s 2s/step - loss: 0.0216 - accuracy: 0.9866 - val_loss: 0.0835 - val_accuracy: 0.9667\n",
            "Epoch 26/50\n",
            "7/7 [==============================] - 11s 2s/step - loss: 0.0256 - accuracy: 0.9866 - val_loss: 0.1937 - val_accuracy: 0.9667\n",
            "Epoch 27/50\n",
            "7/7 [==============================] - 11s 2s/step - loss: 0.0175 - accuracy: 0.9911 - val_loss: 0.0330 - val_accuracy: 0.9833\n",
            "Epoch 28/50\n",
            "7/7 [==============================] - 11s 2s/step - loss: 0.0260 - accuracy: 0.9866 - val_loss: 0.0568 - val_accuracy: 0.9667\n",
            "Epoch 29/50\n",
            "7/7 [==============================] - 11s 2s/step - loss: 0.0047 - accuracy: 1.0000 - val_loss: 0.1052 - val_accuracy: 0.9667\n",
            "Epoch 30/50\n",
            "7/7 [==============================] - 11s 2s/step - loss: 0.0037 - accuracy: 1.0000 - val_loss: 0.1146 - val_accuracy: 0.9667\n",
            "Epoch 31/50\n",
            "7/7 [==============================] - 11s 2s/step - loss: 0.0067 - accuracy: 0.9955 - val_loss: 0.1388 - val_accuracy: 0.9667\n",
            "Epoch 32/50\n",
            "7/7 [==============================] - 11s 2s/step - loss: 0.0146 - accuracy: 0.9955 - val_loss: 0.3186 - val_accuracy: 0.9667\n",
            "Epoch 33/50\n",
            "7/7 [==============================] - 11s 2s/step - loss: 0.0100 - accuracy: 0.9955 - val_loss: 0.1952 - val_accuracy: 0.9667\n",
            "Epoch 34/50\n",
            "7/7 [==============================] - 11s 2s/step - loss: 0.0056 - accuracy: 1.0000 - val_loss: 0.1149 - val_accuracy: 0.9667\n",
            "Epoch 35/50\n",
            "7/7 [==============================] - 11s 2s/step - loss: 0.0175 - accuracy: 0.9911 - val_loss: 0.1471 - val_accuracy: 0.9667\n",
            "Epoch 36/50\n",
            "7/7 [==============================] - 11s 2s/step - loss: 0.0031 - accuracy: 1.0000 - val_loss: 0.2445 - val_accuracy: 0.9667\n",
            "Epoch 37/50\n",
            "7/7 [==============================] - 11s 2s/step - loss: 0.0020 - accuracy: 1.0000 - val_loss: 0.2485 - val_accuracy: 0.9667\n",
            "Epoch 38/50\n",
            "7/7 [==============================] - 11s 2s/step - loss: 0.0165 - accuracy: 0.9955 - val_loss: 0.2464 - val_accuracy: 0.9667\n",
            "Epoch 39/50\n",
            "7/7 [==============================] - 11s 2s/step - loss: 0.0052 - accuracy: 1.0000 - val_loss: 0.2381 - val_accuracy: 0.9667\n",
            "Epoch 40/50\n",
            "7/7 [==============================] - 11s 2s/step - loss: 0.0061 - accuracy: 0.9955 - val_loss: 0.0526 - val_accuracy: 0.9667\n",
            "Epoch 41/50\n",
            "7/7 [==============================] - 11s 2s/step - loss: 0.0137 - accuracy: 0.9911 - val_loss: 0.3113 - val_accuracy: 0.9667\n",
            "Epoch 42/50\n",
            "7/7 [==============================] - 11s 2s/step - loss: 0.0116 - accuracy: 1.0000 - val_loss: 0.2707 - val_accuracy: 0.9667\n",
            "Epoch 43/50\n",
            "7/7 [==============================] - 11s 2s/step - loss: 0.0108 - accuracy: 0.9955 - val_loss: 0.1135 - val_accuracy: 0.9500\n",
            "Epoch 44/50\n",
            "7/7 [==============================] - 11s 2s/step - loss: 0.0143 - accuracy: 0.9911 - val_loss: 0.2546 - val_accuracy: 0.9500\n",
            "Epoch 45/50\n",
            "7/7 [==============================] - 11s 2s/step - loss: 0.0037 - accuracy: 1.0000 - val_loss: 0.1406 - val_accuracy: 0.9500\n",
            "Epoch 46/50\n",
            "7/7 [==============================] - 11s 2s/step - loss: 0.0133 - accuracy: 0.9955 - val_loss: 0.2369 - val_accuracy: 0.9667\n",
            "Epoch 47/50\n",
            "7/7 [==============================] - 11s 2s/step - loss: 0.0030 - accuracy: 1.0000 - val_loss: 0.2154 - val_accuracy: 0.9667\n",
            "Epoch 48/50\n",
            "7/7 [==============================] - 11s 2s/step - loss: 5.9547e-04 - accuracy: 1.0000 - val_loss: 0.1670 - val_accuracy: 0.9667\n",
            "Epoch 49/50\n",
            "7/7 [==============================] - 11s 2s/step - loss: 0.0014 - accuracy: 1.0000 - val_loss: 0.1718 - val_accuracy: 0.9667\n",
            "Epoch 50/50\n",
            "7/7 [==============================] - 11s 2s/step - loss: 2.9019e-04 - accuracy: 1.0000 - val_loss: 0.1743 - val_accuracy: 0.9667\n"
          ]
        }
      ],
      "source": [
        "# fit the model\n",
        "# Training the model with 50 epochs\n",
        "r = model.fit_generator(\n",
        "  training_set,\n",
        "  validation_data=test_set,\n",
        "  epochs=50,\n",
        "  steps_per_epoch=len(training_set),\n",
        "  validation_steps=len(test_set)\n",
        ")"
      ]
    },
    {
      "cell_type": "code",
      "execution_count": null,
      "metadata": {
        "colab": {
          "base_uri": "https://localhost:8080/",
          "height": 562
        },
        "id": "qddC-MOTqjKv",
        "outputId": "a4e567f9-db84-4713-cf4a-5a1a2af82ca0"
      },
      "outputs": [
        {
          "data": {
            "image/png": "[encoded data removed]",
            "text/plain": [
              "<Figure size 432x288 with 1 Axes>"
            ]
          },
          "metadata": {},
          "output_type": "display_data"
        },
        {
          "data": {
            "image/png": "[encoded data removed]",
            "text/plain": [
              "<Figure size 432x288 with 1 Axes>"
            ]
          },
          "metadata": {},
          "output_type": "display_data"
        },
        {
          "data": {
            "text/plain": [
              "<Figure size 432x288 with 0 Axes>"
            ]
          },
          "metadata": {},
          "output_type": "display_data"
        }
      ],
      "source": [
        "# plot the loss\n",
        "plt.plot(r.history['loss'], label='train loss')\n",
        "plt.plot(r.history['val_loss'], label='val loss')\n",
        "plt.title('Training and validation loss')\n",
        "plt.legend()\n",
        "plt.show()\n",
        "plt.savefig('LossVal_loss')\n",
        "\n",
        "# plot the accuracy\n",
        "plt.plot(r.history['accuracy'], label='train acc')\n",
        "plt.plot(r.history['val_accuracy'], label='val acc')\n",
        "plt.title('Training and validation accuracy')\n",
        "plt.legend()\n",
        "plt.show()\n",
        "plt.savefig('AccVal_acc')"
      ]
    },
    {
      "cell_type": "code",
      "execution_count": null,
      "metadata": {
        "colab": {
          "base_uri": "https://localhost:8080/"
        },
        "id": "Nq1r-sQqqjKw",
        "outputId": "ca705c41-96d7-4c65-c4bf-9aa5b74d8b4d"
      },
      "outputs": [
        {
          "name": "stdout",
          "output_type": "stream",
          "text": [
            "2/2 [==============================] - 2s 1s/step - loss: 0.1743 - accuracy: 0.9667\n"
          ]
        }
      ],
      "source": [
        "loss,accuracy = model.evaluate(test_set)"
      ]
    },
    {
      "cell_type": "code",
      "execution_count": null,
      "metadata": {
        "colab": {
          "base_uri": "https://localhost:8080/"
        },
        "id": "WDDvnYCLqjKw",
        "outputId": "9ff431b5-75e3-44e3-e9df-bf212e7d79ee"
      },
      "outputs": [
        {
          "name": "stdout",
          "output_type": "stream",
          "text": [
            "test accuracy: 96.66666388511658\n",
            "test loss: 17.43311583995819\n"
          ]
        }
      ],
      "source": [
        "print(\"test accuracy: \"+ str(accuracy*100))\n",
        "print(\"test loss: \"+ str(loss*100))"
      ]
    },
    {
      "cell_type": "code",
      "execution_count": null,
      "metadata": {
        "id": "pGdUoos1qjKw"
      },
      "outputs": [],
      "source": [
        "# save the model as a h5 file\n",
        "\n",
        "from tensorflow.keras.models import load_model\n",
        "\n",
        "model.save('CNN.h5')"
      ]
    },
    {
      "cell_type": "code",
      "execution_count": null,
      "metadata": {
        "id": "yUac56qmqjKx"
      },
      "outputs": [],
      "source": [
        "\n",
        "y_pred = model.predict(test_set)\n"
      ]
    },
    {
      "cell_type": "code",
      "execution_count": null,
      "metadata": {
        "colab": {
          "base_uri": "https://localhost:8080/"
        },
        "id": "Z4sTI29oqjKx",
        "outputId": "92975482-a058-489c-e464-699b148158a6"
      },
      "outputs": [
        {
          "data": {
            "text/plain": [
              "array([[7.4955139e-08, 9.9999988e-01],\n",
              "       [5.7730642e-07, 9.9999940e-01],\n",
              "       [9.9845231e-01, 1.5476849e-03],\n",
              "       [9.7518116e-10, 1.0000000e+00],\n",
              "       [2.5203661e-07, 9.9999976e-01],\n",
              "       [1.0000000e+00, 3.8444327e-08],\n",
              "       [3.6477243e-07, 9.9999964e-01],\n",
              "       [1.0000000e+00, 4.2068653e-08],\n",
              "       [1.0000000e+00, 2.3409907e-08],\n",
              "       [8.6694610e-07, 9.9999917e-01],\n",
              "       [2.2939057e-06, 9.9999774e-01],\n",
              "       [1.0000000e+00, 1.0420802e-09],\n",
              "       [9.9998343e-01, 1.6559194e-05],\n",
              "       [1.0000000e+00, 2.0631850e-11],\n",
              "       [1.0000000e+00, 3.8370501e-11],\n",
              "       [2.2686978e-08, 1.0000000e+00],\n",
              "       [1.0000000e+00, 2.4724470e-08],\n",
              "       [1.0000000e+00, 5.6925419e-11],\n",
              "       [2.3199301e-04, 9.9976796e-01],\n",
              "       [1.0408254e-08, 1.0000000e+00],\n",
              "       [3.2220280e-06, 9.9999678e-01],\n",
              "       [1.0000000e+00, 4.9784682e-10],\n",
              "       [8.2764348e-07, 9.9999917e-01],\n",
              "       [1.0000000e+00, 1.2148640e-10],\n",
              "       [1.0000000e+00, 4.2049731e-15],\n",
              "       [1.5546560e-10, 1.0000000e+00],\n",
              "       [1.0000000e+00, 5.0248751e-08],\n",
              "       [1.8778342e-08, 1.0000000e+00],\n",
              "       [3.2726848e-07, 9.9999964e-01],\n",
              "       [1.0000000e+00, 3.3166533e-10],\n",
              "       [9.9999034e-01, 9.7132279e-06],\n",
              "       [1.0000000e+00, 5.6374494e-10],\n",
              "       [1.0000000e+00, 2.7996536e-14],\n",
              "       [7.1306454e-07, 9.9999928e-01],\n",
              "       [1.0000000e+00, 1.5789101e-09],\n",
              "       [2.0545076e-06, 9.9999797e-01],\n",
              "       [2.5098273e-06, 9.9999750e-01],\n",
              "       [4.6419169e-07, 9.9999952e-01],\n",
              "       [9.5672524e-01, 4.3274757e-02],\n",
              "       [1.1973999e-06, 9.9999881e-01],\n",
              "       [1.0016291e-06, 9.9999905e-01],\n",
              "       [9.5746940e-01, 4.2530522e-02],\n",
              "       [9.9999988e-01, 1.1864247e-07],\n",
              "       [9.9999988e-01, 1.6848479e-07],\n",
              "       [9.9999678e-01, 3.2611215e-06],\n",
              "       [1.0000000e+00, 5.0833211e-08],\n",
              "       [2.8475020e-07, 9.9999976e-01],\n",
              "       [1.8859176e-08, 1.0000000e+00],\n",
              "       [9.9999964e-01, 3.0573420e-07],\n",
              "       [1.0000000e+00, 5.9503656e-12],\n",
              "       [5.7219968e-06, 9.9999428e-01],\n",
              "       [9.9999189e-01, 8.1562439e-06],\n",
              "       [2.2019902e-08, 1.0000000e+00],\n",
              "       [3.9578660e-09, 1.0000000e+00],\n",
              "       [9.9999154e-01, 8.4860603e-06],\n",
              "       [9.9929416e-01, 7.0578785e-04],\n",
              "       [9.9994969e-01, 5.0281582e-05],\n",
              "       [1.0000000e+00, 1.0410417e-08],\n",
              "       [9.8875104e-09, 1.0000000e+00],\n",
              "       [1.7957136e-06, 9.9999821e-01]], dtype=float32)"
            ]
          },
          "execution_count": 36,
          "metadata": {},
          "output_type": "execute_result"
        }
      ],
      "source": [
        "y_pred"
      ]
    },
    {
      "cell_type": "code",
      "execution_count": null,
      "metadata": {
        "id": "iGup4GUAqjKx"
      },
      "outputs": [],
      "source": [
        "import numpy as np\n",
        "y_pred = np.argmax(y_pred, axis=1)"
      ]
    },
    {
      "cell_type": "code",
      "execution_count": null,
      "metadata": {
        "colab": {
          "base_uri": "https://localhost:8080/"
        },
        "id": "t7__X2CgqjKx",
        "outputId": "152a077c-9d7d-47c9-a5bc-5317f5687857"
      },
      "outputs": [
        {
          "data": {
            "text/plain": [
              "array([1, 1, 0, 1, 1, 0, 1, 0, 0, 1, 1, 0, 0, 0, 0, 1, 0, 0, 1, 1, 1, 0,\n",
              "       1, 0, 0, 1, 0, 1, 1, 0, 0, 0, 0, 1, 0, 1, 1, 1, 0, 1, 1, 0, 0, 0,\n",
              "       0, 0, 1, 1, 0, 0, 1, 0, 1, 1, 0, 0, 0, 0, 1, 1])"
            ]
          },
          "execution_count": 38,
          "metadata": {},
          "output_type": "execute_result"
        }
      ],
      "source": [
        "y_pred"
      ]
    },
    {
      "cell_type": "code",
      "execution_count": null,
      "metadata": {
        "id": "oYDXvLpwqjKy"
      },
      "outputs": [],
      "source": [
        "from tensorflow.keras.models import load_model\n",
        "from tensorflow.keras.preprocessing import image"
      ]
    },
    {
      "cell_type": "code",
      "execution_count": null,
      "metadata": {
        "id": "BO2YV5U2qjKy"
      },
      "outputs": [],
      "source": [
        "model=load_model('CNN.h5')"
      ]
    },
    {
      "cell_type": "code",
      "execution_count": null,
      "metadata": {
        "id": "Ps0qtf0QqjKy"
      },
      "outputs": [],
      "source": []
    },
    {
      "cell_type": "code",
      "execution_count": null,
      "metadata": {
        "id": "RVf32EOJqjKy"
      },
      "outputs": [],
      "source": [
        "#img=image.load_img('drive/MyDrive/Colab_Assignments/ML/CovidDataset/Test/Normal/NORMAL2-IM-0894-0001.jpeg',target_size=(224,224))\n",
        "\n",
        "img=image.load_img('drive/MyDrive/Colab_Assignments/ML/CovidDataset/Test/Covid/4e43e48d52c9e2d4c6c1fb9bc1544f_jumbo.jpeg',target_size=(224,224))\n"
      ]
    },
    {
      "cell_type": "code",
      "execution_count": null,
      "metadata": {
        "colab": {
          "base_uri": "https://localhost:8080/"
        },
        "id": "beukSsxqqjKy",
        "outputId": "9ba01857-f03a-49b2-94f8-75b5a255047c"
      },
      "outputs": [
        {
          "data": {
            "text/plain": [
              "array([[[ 0.,  0.,  0.],\n",
              "        [ 0.,  0.,  0.],\n",
              "        [ 0.,  0.,  0.],\n",
              "        ...,\n",
              "        [ 0.,  0.,  0.],\n",
              "        [ 0.,  0.,  0.],\n",
              "        [ 0.,  0.,  0.]],\n",
              "\n",
              "       [[ 0.,  0.,  0.],\n",
              "        [ 0.,  0.,  0.],\n",
              "        [ 0.,  0.,  0.],\n",
              "        ...,\n",
              "        [ 0.,  0.,  0.],\n",
              "        [ 0.,  0.,  0.],\n",
              "        [ 0.,  0.,  0.]],\n",
              "\n",
              "       [[ 0.,  0.,  0.],\n",
              "        [ 1.,  1.,  1.],\n",
              "        [ 1.,  1.,  1.],\n",
              "        ...,\n",
              "        [ 0.,  0.,  0.],\n",
              "        [ 0.,  0.,  0.],\n",
              "        [ 0.,  0.,  0.]],\n",
              "\n",
              "       ...,\n",
              "\n",
              "       [[37., 37., 37.],\n",
              "        [32., 32., 32.],\n",
              "        [35., 35., 35.],\n",
              "        ...,\n",
              "        [55., 55., 55.],\n",
              "        [43., 43., 43.],\n",
              "        [55., 55., 55.]],\n",
              "\n",
              "       [[32., 32., 32.],\n",
              "        [30., 30., 30.],\n",
              "        [35., 35., 35.],\n",
              "        ...,\n",
              "        [55., 55., 55.],\n",
              "        [43., 43., 43.],\n",
              "        [55., 55., 55.]],\n",
              "\n",
              "       [[30., 30., 30.],\n",
              "        [27., 27., 27.],\n",
              "        [32., 32., 32.],\n",
              "        ...,\n",
              "        [55., 55., 55.],\n",
              "        [43., 43., 43.],\n",
              "        [55., 55., 55.]]], dtype=float32)"
            ]
          },
          "execution_count": 81,
          "metadata": {},
          "output_type": "execute_result"
        }
      ],
      "source": [
        "x=image.img_to_array(img)\n",
        "x"
      ]
    },
    {
      "cell_type": "code",
      "execution_count": null,
      "metadata": {
        "colab": {
          "base_uri": "https://localhost:8080/"
        },
        "id": "qZDHEIIFqjKy",
        "outputId": "4d6f9964-ea29-413b-c1ce-b65d9d3b2c1a"
      },
      "outputs": [
        {
          "data": {
            "text/plain": [
              "(224, 224, 3)"
            ]
          },
          "execution_count": 82,
          "metadata": {},
          "output_type": "execute_result"
        }
      ],
      "source": [
        "x.shape"
      ]
    },
    {
      "cell_type": "code",
      "execution_count": null,
      "metadata": {
        "id": "FPS81BPZqjKz"
      },
      "outputs": [],
      "source": [
        "x=x/255"
      ]
    },
    {
      "cell_type": "code",
      "execution_count": null,
      "metadata": {
        "colab": {
          "base_uri": "https://localhost:8080/"
        },
        "id": "eSPmIxQEqjKz",
        "outputId": "98d48dbe-81fe-4f99-d51e-0acdeefbe4a9"
      },
      "outputs": [
        {
          "data": {
            "text/plain": [
              "(1, 224, 224, 3)"
            ]
          },
          "execution_count": 84,
          "metadata": {},
          "output_type": "execute_result"
        }
      ],
      "source": [
        "x=np.expand_dims(x,axis=0)\n",
        "img_data=preprocess_input(x)\n",
        "img_data.shape"
      ]
    },
    {
      "cell_type": "code",
      "execution_count": null,
      "metadata": {
        "colab": {
          "base_uri": "https://localhost:8080/"
        },
        "id": "w4akqSYfqjKz",
        "outputId": "2bb83dda-fd35-41cc-934d-2efeeca4895f"
      },
      "outputs": [
        {
          "data": {
            "text/plain": [
              "array([[1., 0.]], dtype=float32)"
            ]
          },
          "execution_count": 85,
          "metadata": {},
          "output_type": "execute_result"
        }
      ],
      "source": [
        "model.predict(img_data)"
      ]
    },
    {
      "cell_type": "code",
      "execution_count": null,
      "metadata": {
        "id": "L7koDNItqjKz"
      },
      "outputs": [],
      "source": [
        "a=np.argmax(model.predict(img_data), axis=1)"
      ]
    },
    {
      "cell_type": "code",
      "execution_count": null,
      "metadata": {
        "colab": {
          "base_uri": "https://localhost:8080/"
        },
        "id": "QT9CH9yoqjKz",
        "outputId": "831e2259-05ec-4bdc-9a9d-fe4ae1d5f95f"
      },
      "outputs": [
        {
          "name": "stdout",
          "output_type": "stream",
          "text": [
            "COVID-19 Positive\n"
          ]
        }
      ],
      "source": [
        "if(a==1):\n",
        "    print(\"COVID-19 Negative\")\n",
        "else:\n",
        "    print(\"COVID-19 Positive\")"
      ]
    },
    {
      "cell_type": "markdown",
      "metadata": {
        "id": "LXAkPm4Crx5o"
      },
      "source": [
        "Creating a VGG19 Model"
      ]
    },
    {
      "cell_type": "code",
      "execution_count": null,
      "metadata": {
        "colab": {
          "base_uri": "https://localhost:8080/"
        },
        "id": "lkXE5C4DAER3",
        "outputId": "559fafd0-4400-40dd-9a68-34a2f3fb3189"
      },
      "outputs": [
        {
          "name": "stdout",
          "output_type": "stream",
          "text": [
            "Downloading data from https://storage.googleapis.com/tensorflow/keras-applications/vgg19/vgg19_weights_tf_dim_ordering_tf_kernels_notop.h5\n",
            "80134624/80134624 [==============================] - 3s 0us/step\n"
          ]
        }
      ],
      "source": [
        "vgg19 = VGG19(input_shape = IMAGE_SIZE + [3],weights = 'imagenet',include_top = False)"
      ]
    },
    {
      "cell_type": "code",
      "execution_count": null,
      "metadata": {
        "id": "AQPtZnS1qjK0"
      },
      "outputs": [],
      "source": [
        "# don't train existing weights\n",
        "\n",
        "for layer in vgg19.layers:\n",
        "    layer.trainable = False"
      ]
    },
    {
      "cell_type": "code",
      "execution_count": null,
      "metadata": {
        "id": "nOJUU0iWqjK0"
      },
      "outputs": [],
      "source": [
        "  # useful for getting number of output classes\n",
        "folders = glob('drive/MyDrive/Colab_Assignments/ML/CovidDataset/Train/*')"
      ]
    },
    {
      "cell_type": "code",
      "execution_count": null,
      "metadata": {
        "colab": {
          "base_uri": "https://localhost:8080/"
        },
        "id": "fLFmP7yZqjK0",
        "outputId": "c887199a-a701-4088-d2b8-c116ed49d2d8"
      },
      "outputs": [
        {
          "output_type": "execute_result",
          "data": {
            "text/plain": [
              "['drive/MyDrive/Colab_Assignments/ML/CovidDataset/Train/Covid',\n",
              " 'drive/MyDrive/Colab_Assignments/ML/CovidDataset/Train/Normal']"
            ]
          },
          "metadata": {},
          "execution_count": 26
        }
      ],
      "source": [
        "folders"
      ]
    },
    {
      "cell_type": "code",
      "execution_count": null,
      "metadata": {
        "id": "CvtPre6wqjK0"
      },
      "outputs": [],
      "source": [
        "# our layers - you can add more if you want\n",
        "x = Flatten()(vgg19.output)"
      ]
    },
    {
      "cell_type": "code",
      "execution_count": null,
      "metadata": {
        "id": "DVk81E5uqjK0"
      },
      "outputs": [],
      "source": [
        "# Import the Vgg 19 library as shown below and add preprocessing layer to the front of VGG\n",
        "# Here we will be using imagenet weights\n",
        "\n",
        "vgg19 = VGG19(input_shape=IMAGE_SIZE + [3], weights='imagenet', include_top=False)\n",
        "\n",
        "\n"
      ]
    },
    {
      "cell_type": "code",
      "execution_count": null,
      "metadata": {
        "colab": {
          "base_uri": "https://localhost:8080/",
          "height": 198
        },
        "id": "s3h96rK4NUFz",
        "outputId": "6fc148b5-0b9f-4a04-a047-fb6df856a047"
      },
      "outputs": [
        {
          "ename": "TypeError",
          "evalue": "ignored",
          "output_type": "error",
          "traceback": [
            "\u001b[0;31m---------------------------------------------------------------------------\u001b[0m",
            "\u001b[0;31mTypeError\u001b[0m                                 Traceback (most recent call last)",
            "\u001b[0;32m<ipython-input-13-204c12d03462>\u001b[0m in \u001b[0;36m<module>\u001b[0;34m\u001b[0m\n\u001b[0;32m----> 1\u001b[0;31m \u001b[0mvgg19\u001b[0m\u001b[0;34m.\u001b[0m\u001b[0minput_shape\u001b[0m\u001b[0;34m(\u001b[0m\u001b[0;34m)\u001b[0m\u001b[0;34m\u001b[0m\u001b[0;34m\u001b[0m\u001b[0m\n\u001b[0m",
            "\u001b[0;31mTypeError\u001b[0m: 'tuple' object is not callable"
          ]
        }
      ],
      "source": [
        "vgg19.input_shape()"
      ]
    },
    {
      "cell_type": "code",
      "execution_count": null,
      "metadata": {
        "colab": {
          "base_uri": "https://localhost:8080/",
          "height": 494
        },
        "id": "QOq7_XctqjK1",
        "outputId": "f7d58c6f-508a-40e6-c83d-32ce48692167"
      },
      "outputs": [
        {
          "ename": "ValueError",
          "evalue": "ignored",
          "output_type": "error",
          "traceback": [
            "\u001b[0;31m---------------------------------------------------------------------------\u001b[0m",
            "\u001b[0;31mValueError\u001b[0m                                Traceback (most recent call last)",
            "\u001b[0;32m<ipython-input-10-6d30dd792a5d>\u001b[0m in \u001b[0;36m<module>\u001b[0;34m\u001b[0m\n\u001b[1;32m      2\u001b[0m \u001b[0;34m\u001b[0m\u001b[0m\n\u001b[1;32m      3\u001b[0m \u001b[0;31m# create a model object\u001b[0m\u001b[0;34m\u001b[0m\u001b[0;34m\u001b[0m\u001b[0;34m\u001b[0m\u001b[0m\n\u001b[0;32m----> 4\u001b[0;31m \u001b[0mmodel\u001b[0m \u001b[0;34m=\u001b[0m \u001b[0mModel\u001b[0m\u001b[0;34m(\u001b[0m\u001b[0minputs\u001b[0m\u001b[0;34m=\u001b[0m\u001b[0mvgg19\u001b[0m\u001b[0;34m.\u001b[0m\u001b[0minput\u001b[0m\u001b[0;34m,\u001b[0m \u001b[0moutputs\u001b[0m\u001b[0;34m=\u001b[0m\u001b[0mprediction\u001b[0m\u001b[0;34m)\u001b[0m\u001b[0;34m\u001b[0m\u001b[0;34m\u001b[0m\u001b[0m\n\u001b[0m",
            "\u001b[0;32m/usr/local/lib/python3.8/dist-packages/tensorflow/python/training/tracking/base.py\u001b[0m in \u001b[0;36m_method_wrapper\u001b[0;34m(self, *args, **kwargs)\u001b[0m\n\u001b[1;32m    585\u001b[0m     \u001b[0mself\u001b[0m\u001b[0;34m.\u001b[0m\u001b[0m_self_setattr_tracking\u001b[0m \u001b[0;34m=\u001b[0m \u001b[0;32mFalse\u001b[0m  \u001b[0;31m# pylint: disable=protected-access\u001b[0m\u001b[0;34m\u001b[0m\u001b[0;34m\u001b[0m\u001b[0m\n\u001b[1;32m    586\u001b[0m     \u001b[0;32mtry\u001b[0m\u001b[0;34m:\u001b[0m\u001b[0;34m\u001b[0m\u001b[0;34m\u001b[0m\u001b[0m\n\u001b[0;32m--> 587\u001b[0;31m       \u001b[0mresult\u001b[0m \u001b[0;34m=\u001b[0m \u001b[0mmethod\u001b[0m\u001b[0;34m(\u001b[0m\u001b[0mself\u001b[0m\u001b[0;34m,\u001b[0m \u001b[0;34m*\u001b[0m\u001b[0margs\u001b[0m\u001b[0;34m,\u001b[0m \u001b[0;34m**\u001b[0m\u001b[0mkwargs\u001b[0m\u001b[0;34m)\u001b[0m\u001b[0;34m\u001b[0m\u001b[0;34m\u001b[0m\u001b[0m\n\u001b[0m\u001b[1;32m    588\u001b[0m     \u001b[0;32mfinally\u001b[0m\u001b[0;34m:\u001b[0m\u001b[0;34m\u001b[0m\u001b[0;34m\u001b[0m\u001b[0m\n\u001b[1;32m    589\u001b[0m       \u001b[0mself\u001b[0m\u001b[0;34m.\u001b[0m\u001b[0m_self_setattr_tracking\u001b[0m \u001b[0;34m=\u001b[0m \u001b[0mprevious_value\u001b[0m  \u001b[0;31m# pylint: disable=protected-access\u001b[0m\u001b[0;34m\u001b[0m\u001b[0;34m\u001b[0m\u001b[0m\n",
            "\u001b[0;32m/usr/local/lib/python3.8/dist-packages/keras/engine/functional.py\u001b[0m in \u001b[0;36m__init__\u001b[0;34m(self, inputs, outputs, name, trainable, **kwargs)\u001b[0m\n\u001b[1;32m    146\u001b[0m                   for t in tf.nest.flatten(inputs)]):\n\u001b[1;32m    147\u001b[0m         \u001b[0minputs\u001b[0m\u001b[0;34m,\u001b[0m \u001b[0moutputs\u001b[0m \u001b[0;34m=\u001b[0m \u001b[0mfunctional_utils\u001b[0m\u001b[0;34m.\u001b[0m\u001b[0mclone_graph_nodes\u001b[0m\u001b[0;34m(\u001b[0m\u001b[0minputs\u001b[0m\u001b[0;34m,\u001b[0m \u001b[0moutputs\u001b[0m\u001b[0;34m)\u001b[0m\u001b[0;34m\u001b[0m\u001b[0;34m\u001b[0m\u001b[0m\n\u001b[0;32m--> 148\u001b[0;31m     \u001b[0mself\u001b[0m\u001b[0;34m.\u001b[0m\u001b[0m_init_graph_network\u001b[0m\u001b[0;34m(\u001b[0m\u001b[0minputs\u001b[0m\u001b[0;34m,\u001b[0m \u001b[0moutputs\u001b[0m\u001b[0;34m)\u001b[0m\u001b[0;34m\u001b[0m\u001b[0;34m\u001b[0m\u001b[0m\n\u001b[0m\u001b[1;32m    149\u001b[0m \u001b[0;34m\u001b[0m\u001b[0m\n\u001b[1;32m    150\u001b[0m   \u001b[0;34m@\u001b[0m\u001b[0mtf\u001b[0m\u001b[0;34m.\u001b[0m\u001b[0m__internal__\u001b[0m\u001b[0;34m.\u001b[0m\u001b[0mtracking\u001b[0m\u001b[0;34m.\u001b[0m\u001b[0mno_automatic_dependency_tracking\u001b[0m\u001b[0;34m\u001b[0m\u001b[0;34m\u001b[0m\u001b[0m\n",
            "\u001b[0;32m/usr/local/lib/python3.8/dist-packages/tensorflow/python/training/tracking/base.py\u001b[0m in \u001b[0;36m_method_wrapper\u001b[0;34m(self, *args, **kwargs)\u001b[0m\n\u001b[1;32m    585\u001b[0m     \u001b[0mself\u001b[0m\u001b[0;34m.\u001b[0m\u001b[0m_self_setattr_tracking\u001b[0m \u001b[0;34m=\u001b[0m \u001b[0;32mFalse\u001b[0m  \u001b[0;31m# pylint: disable=protected-access\u001b[0m\u001b[0;34m\u001b[0m\u001b[0;34m\u001b[0m\u001b[0m\n\u001b[1;32m    586\u001b[0m     \u001b[0;32mtry\u001b[0m\u001b[0;34m:\u001b[0m\u001b[0;34m\u001b[0m\u001b[0;34m\u001b[0m\u001b[0m\n\u001b[0;32m--> 587\u001b[0;31m       \u001b[0mresult\u001b[0m \u001b[0;34m=\u001b[0m \u001b[0mmethod\u001b[0m\u001b[0;34m(\u001b[0m\u001b[0mself\u001b[0m\u001b[0;34m,\u001b[0m \u001b[0;34m*\u001b[0m\u001b[0margs\u001b[0m\u001b[0;34m,\u001b[0m \u001b[0;34m**\u001b[0m\u001b[0mkwargs\u001b[0m\u001b[0;34m)\u001b[0m\u001b[0;34m\u001b[0m\u001b[0;34m\u001b[0m\u001b[0m\n\u001b[0m\u001b[1;32m    588\u001b[0m     \u001b[0;32mfinally\u001b[0m\u001b[0;34m:\u001b[0m\u001b[0;34m\u001b[0m\u001b[0;34m\u001b[0m\u001b[0m\n\u001b[1;32m    589\u001b[0m       \u001b[0mself\u001b[0m\u001b[0;34m.\u001b[0m\u001b[0m_self_setattr_tracking\u001b[0m \u001b[0;34m=\u001b[0m \u001b[0mprevious_value\u001b[0m  \u001b[0;31m# pylint: disable=protected-access\u001b[0m\u001b[0;34m\u001b[0m\u001b[0;34m\u001b[0m\u001b[0m\n",
            "\u001b[0;32m/usr/local/lib/python3.8/dist-packages/keras/engine/functional.py\u001b[0m in \u001b[0;36m_init_graph_network\u001b[0;34m(self, inputs, outputs)\u001b[0m\n\u001b[1;32m    230\u001b[0m \u001b[0;34m\u001b[0m\u001b[0m\n\u001b[1;32m    231\u001b[0m     \u001b[0;31m# Keep track of the network's nodes and layers.\u001b[0m\u001b[0;34m\u001b[0m\u001b[0;34m\u001b[0m\u001b[0;34m\u001b[0m\u001b[0m\n\u001b[0;32m--> 232\u001b[0;31m     nodes, nodes_by_depth, layers, _ = _map_graph_network(\n\u001b[0m\u001b[1;32m    233\u001b[0m         self.inputs, self.outputs)\n\u001b[1;32m    234\u001b[0m     \u001b[0mself\u001b[0m\u001b[0;34m.\u001b[0m\u001b[0m_network_nodes\u001b[0m \u001b[0;34m=\u001b[0m \u001b[0mnodes\u001b[0m\u001b[0;34m\u001b[0m\u001b[0;34m\u001b[0m\u001b[0m\n",
            "\u001b[0;32m/usr/local/lib/python3.8/dist-packages/keras/engine/functional.py\u001b[0m in \u001b[0;36m_map_graph_network\u001b[0;34m(inputs, outputs)\u001b[0m\n\u001b[1;32m    996\u001b[0m         \u001b[0;32mfor\u001b[0m \u001b[0mx\u001b[0m \u001b[0;32min\u001b[0m \u001b[0mtf\u001b[0m\u001b[0;34m.\u001b[0m\u001b[0mnest\u001b[0m\u001b[0;34m.\u001b[0m\u001b[0mflatten\u001b[0m\u001b[0;34m(\u001b[0m\u001b[0mnode\u001b[0m\u001b[0;34m.\u001b[0m\u001b[0mkeras_inputs\u001b[0m\u001b[0;34m)\u001b[0m\u001b[0;34m:\u001b[0m\u001b[0;34m\u001b[0m\u001b[0;34m\u001b[0m\u001b[0m\n\u001b[1;32m    997\u001b[0m           \u001b[0;32mif\u001b[0m \u001b[0mid\u001b[0m\u001b[0;34m(\u001b[0m\u001b[0mx\u001b[0m\u001b[0;34m)\u001b[0m \u001b[0;32mnot\u001b[0m \u001b[0;32min\u001b[0m \u001b[0mcomputable_tensors\u001b[0m\u001b[0;34m:\u001b[0m\u001b[0;34m\u001b[0m\u001b[0;34m\u001b[0m\u001b[0m\n\u001b[0;32m--> 998\u001b[0;31m             raise ValueError(\n\u001b[0m\u001b[1;32m    999\u001b[0m                 \u001b[0;34mf'Graph disconnected: cannot obtain value for tensor {x} '\u001b[0m\u001b[0;34m\u001b[0m\u001b[0;34m\u001b[0m\u001b[0m\n\u001b[1;32m   1000\u001b[0m                 \u001b[0;34mf'at layer \"{layer.name}\". The following previous layers '\u001b[0m\u001b[0;34m\u001b[0m\u001b[0;34m\u001b[0m\u001b[0m\n",
            "\u001b[0;31mValueError\u001b[0m: Graph disconnected: cannot obtain value for tensor KerasTensor(type_spec=TensorSpec(shape=(None, 224, 224, 3), dtype=tf.float32, name='input_1'), name='input_1', description=\"created by layer 'input_1'\") at layer \"block1_conv1\". The following previous layers were accessed without issue: []"
          ]
        }
      ],
      "source": [
        "prediction = Dense(len(folders), activation='softmax')(x)\n",
        "\n",
        "# create a model object\n",
        "model = Model(inputs=vgg19.input, outputs=prediction)"
      ]
    },
    {
      "cell_type": "code",
      "execution_count": null,
      "metadata": {
        "id": "7uFc5rllJSTl"
      },
      "outputs": [],
      "source": [
        "# view the structure of the model\n",
        "model.summary()"
      ]
    },
    {
      "cell_type": "code",
      "execution_count": null,
      "metadata": {
        "id": "c2-hN2CdqjK1"
      },
      "outputs": [],
      "source": [
        "# tell the model what cost and optimization method to use\n",
        "model.compile(\n",
        "  loss='categorical_crossentropy',\n",
        "  optimizer='adam',\n",
        "  metrics=['accuracy']\n",
        ")\n"
      ]
    },
    {
      "cell_type": "code",
      "execution_count": null,
      "metadata": {
        "id": "q6vu-5u9qjK1"
      },
      "outputs": [],
      "source": [
        "# Use the Image Data Generator to import the images from the dataset\n",
        "from tensorflow.keras.preprocessing.image import ImageDataGenerator\n",
        "\n",
        "train_datagen = ImageDataGenerator(rescale = 1./255,\n",
        "                                   shear_range = 0.2,\n",
        "                                   zoom_range = 0.2,\n",
        "                                   horizontal_flip = True)\n",
        "\n",
        "test_datagen = ImageDataGenerator(rescale = 1./255)"
      ]
    },
    {
      "cell_type": "code",
      "execution_count": null,
      "metadata": {
        "id": "Xt5U728GqjK2",
        "outputId": "dc70ff37-ca92-454d-dcc1-154d9dd4b570"
      },
      "outputs": [
        {
          "name": "stdout",
          "output_type": "stream",
          "text": [
            "Found 416 images belonging to 2 classes.\n"
          ]
        }
      ],
      "source": [
        "# Make sure you provide the same target size as initialied for the image size\n",
        "training_set = train_datagen.flow_from_directory('Dataset/Train',\n",
        "                                                 target_size = (224, 224),\n",
        "                                                 batch_size = 32,\n",
        "                                                 class_mode = 'categorical')"
      ]
    },
    {
      "cell_type": "code",
      "execution_count": null,
      "metadata": {
        "id": "pnrk5G5eqjK2",
        "outputId": "88fea847-5214-4b0b-9ec0-9251cb1a3039"
      },
      "outputs": [
        {
          "data": {
            "text/plain": [
              "<keras_preprocessing.image.directory_iterator.DirectoryIterator at 0x2bccf0d8488>"
            ]
          },
          "execution_count": 104,
          "metadata": {},
          "output_type": "execute_result"
        }
      ],
      "source": [
        "training_set"
      ]
    },
    {
      "cell_type": "code",
      "execution_count": null,
      "metadata": {
        "id": "0hSLspSLqjK2",
        "outputId": "727a32cb-cc13-4166-f90d-b2bac8db5e97"
      },
      "outputs": [
        {
          "name": "stdout",
          "output_type": "stream",
          "text": [
            "Found 134 images belonging to 2 classes.\n"
          ]
        }
      ],
      "source": [
        "test_set = test_datagen.flow_from_directory('Dataset/Test',\n",
        "                                            target_size = (224, 224),\n",
        "                                            batch_size = 32,\n",
        "                                            class_mode = 'categorical')"
      ]
    },
    {
      "cell_type": "code",
      "execution_count": null,
      "metadata": {
        "id": "rl1rD4ziqjK2",
        "outputId": "cc4a0c90-1ff7-46cf-e63a-f44b042ec328",
        "scrolled": true
      },
      "outputs": [
        {
          "name": "stdout",
          "output_type": "stream",
          "text": [
            "WARNING:tensorflow:sample_weight modes were coerced from\n",
            "  ...\n",
            "    to  \n",
            "  ['...']\n",
            "WARNING:tensorflow:sample_weight modes were coerced from\n",
            "  ...\n",
            "    to  \n",
            "  ['...']\n",
            "Train for 13 steps, validate for 5 steps\n",
            "Epoch 1/50\n",
            "13/13 [==============================] - 6s 490ms/step - loss: 1.4529 - accuracy: 0.5048 - val_loss: 0.9426 - val_accuracy: 0.4179\n",
            "Epoch 2/50\n",
            "13/13 [==============================] - 6s 498ms/step - loss: 0.7403 - accuracy: 0.6010 - val_loss: 0.6418 - val_accuracy: 0.6791\n",
            "Epoch 3/50\n",
            "13/13 [==============================] - 6s 495ms/step - loss: 0.5256 - accuracy: 0.7524 - val_loss: 0.9822 - val_accuracy: 0.5224\n",
            "Epoch 4/50\n",
            "13/13 [==============================] - 6s 459ms/step - loss: 0.4426 - accuracy: 0.7788 - val_loss: 0.4205 - val_accuracy: 0.7761\n",
            "Epoch 5/50\n",
            "13/13 [==============================] - 6s 466ms/step - loss: 0.3296 - accuracy: 0.8630 - val_loss: 0.5563 - val_accuracy: 0.7015\n",
            "Epoch 6/50\n",
            "13/13 [==============================] - 6s 473ms/step - loss: 0.3186 - accuracy: 0.8654 - val_loss: 0.3651 - val_accuracy: 0.8358\n",
            "Epoch 7/50\n",
            "13/13 [==============================] - 6s 468ms/step - loss: 0.2774 - accuracy: 0.9014 - val_loss: 0.3622 - val_accuracy: 0.7910\n",
            "Epoch 8/50\n",
            "13/13 [==============================] - 6s 473ms/step - loss: 0.2810 - accuracy: 0.8822 - val_loss: 0.3307 - val_accuracy: 0.8433\n",
            "Epoch 9/50\n",
            "13/13 [==============================] - 6s 475ms/step - loss: 0.2592 - accuracy: 0.9135 - val_loss: 0.3152 - val_accuracy: 0.8284\n",
            "Epoch 10/50\n",
            "13/13 [==============================] - 6s 463ms/step - loss: 0.2235 - accuracy: 0.9279 - val_loss: 0.2885 - val_accuracy: 0.8881\n",
            "Epoch 11/50\n",
            "13/13 [==============================] - 6s 480ms/step - loss: 0.2190 - accuracy: 0.9255 - val_loss: 0.2744 - val_accuracy: 0.8731\n",
            "Epoch 12/50\n",
            "13/13 [==============================] - 6s 464ms/step - loss: 0.2206 - accuracy: 0.9303 - val_loss: 0.3062 - val_accuracy: 0.8731\n",
            "Epoch 13/50\n",
            "13/13 [==============================] - 6s 474ms/step - loss: 0.1917 - accuracy: 0.9495 - val_loss: 0.2626 - val_accuracy: 0.8881\n",
            "Epoch 14/50\n",
            "13/13 [==============================] - 6s 484ms/step - loss: 0.2047 - accuracy: 0.9351 - val_loss: 0.3098 - val_accuracy: 0.8507\n",
            "Epoch 15/50\n",
            "13/13 [==============================] - 6s 490ms/step - loss: 0.2383 - accuracy: 0.8966 - val_loss: 0.2602 - val_accuracy: 0.9104\n",
            "Epoch 16/50\n",
            "13/13 [==============================] - 6s 481ms/step - loss: 0.2286 - accuracy: 0.9087 - val_loss: 0.3670 - val_accuracy: 0.7910\n",
            "Epoch 17/50\n",
            "13/13 [==============================] - 6s 478ms/step - loss: 0.1809 - accuracy: 0.9423 - val_loss: 0.2570 - val_accuracy: 0.8955\n",
            "Epoch 18/50\n",
            " 2/13 [===>..........................] - ETA: 5s - loss: 0.1943 - accuracy: 0.9062"
          ]
        },
        {
          "ename": "KeyboardInterrupt",
          "evalue": "",
          "output_type": "error",
          "traceback": [
            "\u001b[1;31m---------------------------------------------------------------------------\u001b[0m",
            "\u001b[1;31mKeyboardInterrupt\u001b[0m                         Traceback (most recent call last)",
            "\u001b[1;32m<ipython-input-53-69229fe26ea3>\u001b[0m in \u001b[0;36m<module>\u001b[1;34m\u001b[0m\n\u001b[0;32m      6\u001b[0m   \u001b[0mepochs\u001b[0m\u001b[1;33m=\u001b[0m\u001b[1;36m50\u001b[0m\u001b[1;33m,\u001b[0m\u001b[1;33m\u001b[0m\u001b[1;33m\u001b[0m\u001b[0m\n\u001b[0;32m      7\u001b[0m   \u001b[0msteps_per_epoch\u001b[0m\u001b[1;33m=\u001b[0m\u001b[0mlen\u001b[0m\u001b[1;33m(\u001b[0m\u001b[0mtraining_set\u001b[0m\u001b[1;33m)\u001b[0m\u001b[1;33m,\u001b[0m\u001b[1;33m\u001b[0m\u001b[1;33m\u001b[0m\u001b[0m\n\u001b[1;32m----> 8\u001b[1;33m   \u001b[0mvalidation_steps\u001b[0m\u001b[1;33m=\u001b[0m\u001b[0mlen\u001b[0m\u001b[1;33m(\u001b[0m\u001b[0mtest_set\u001b[0m\u001b[1;33m)\u001b[0m\u001b[1;33m\u001b[0m\u001b[1;33m\u001b[0m\u001b[0m\n\u001b[0m\u001b[0;32m      9\u001b[0m )\n",
            "\u001b[1;32m~\\Anaconda3\\lib\\site-packages\\tensorflow_core\\python\\util\\deprecation.py\u001b[0m in \u001b[0;36mnew_func\u001b[1;34m(*args, **kwargs)\u001b[0m\n\u001b[0;32m    322\u001b[0m               \u001b[1;34m'in a future version'\u001b[0m \u001b[1;32mif\u001b[0m \u001b[0mdate\u001b[0m \u001b[1;32mis\u001b[0m \u001b[1;32mNone\u001b[0m \u001b[1;32melse\u001b[0m \u001b[1;33m(\u001b[0m\u001b[1;34m'after %s'\u001b[0m \u001b[1;33m%\u001b[0m \u001b[0mdate\u001b[0m\u001b[1;33m)\u001b[0m\u001b[1;33m,\u001b[0m\u001b[1;33m\u001b[0m\u001b[1;33m\u001b[0m\u001b[0m\n\u001b[0;32m    323\u001b[0m               instructions)\n\u001b[1;32m--> 324\u001b[1;33m       \u001b[1;32mreturn\u001b[0m \u001b[0mfunc\u001b[0m\u001b[1;33m(\u001b[0m\u001b[1;33m*\u001b[0m\u001b[0margs\u001b[0m\u001b[1;33m,\u001b[0m \u001b[1;33m**\u001b[0m\u001b[0mkwargs\u001b[0m\u001b[1;33m)\u001b[0m\u001b[1;33m\u001b[0m\u001b[1;33m\u001b[0m\u001b[0m\n\u001b[0m\u001b[0;32m    325\u001b[0m     return tf_decorator.make_decorator(\n\u001b[0;32m    326\u001b[0m         \u001b[0mfunc\u001b[0m\u001b[1;33m,\u001b[0m \u001b[0mnew_func\u001b[0m\u001b[1;33m,\u001b[0m \u001b[1;34m'deprecated'\u001b[0m\u001b[1;33m,\u001b[0m\u001b[1;33m\u001b[0m\u001b[1;33m\u001b[0m\u001b[0m\n",
            "\u001b[1;32m~\\Anaconda3\\lib\\site-packages\\tensorflow_core\\python\\keras\\engine\\training.py\u001b[0m in \u001b[0;36mfit_generator\u001b[1;34m(self, generator, steps_per_epoch, epochs, verbose, callbacks, validation_data, validation_steps, validation_freq, class_weight, max_queue_size, workers, use_multiprocessing, shuffle, initial_epoch)\u001b[0m\n\u001b[0;32m   1304\u001b[0m         \u001b[0muse_multiprocessing\u001b[0m\u001b[1;33m=\u001b[0m\u001b[0muse_multiprocessing\u001b[0m\u001b[1;33m,\u001b[0m\u001b[1;33m\u001b[0m\u001b[1;33m\u001b[0m\u001b[0m\n\u001b[0;32m   1305\u001b[0m         \u001b[0mshuffle\u001b[0m\u001b[1;33m=\u001b[0m\u001b[0mshuffle\u001b[0m\u001b[1;33m,\u001b[0m\u001b[1;33m\u001b[0m\u001b[1;33m\u001b[0m\u001b[0m\n\u001b[1;32m-> 1306\u001b[1;33m         initial_epoch=initial_epoch)\n\u001b[0m\u001b[0;32m   1307\u001b[0m \u001b[1;33m\u001b[0m\u001b[0m\n\u001b[0;32m   1308\u001b[0m   @deprecation.deprecated(\n",
            "\u001b[1;32m~\\Anaconda3\\lib\\site-packages\\tensorflow_core\\python\\keras\\engine\\training.py\u001b[0m in \u001b[0;36mfit\u001b[1;34m(self, x, y, batch_size, epochs, verbose, callbacks, validation_split, validation_data, shuffle, class_weight, sample_weight, initial_epoch, steps_per_epoch, validation_steps, validation_freq, max_queue_size, workers, use_multiprocessing, **kwargs)\u001b[0m\n\u001b[0;32m    817\u001b[0m         \u001b[0mmax_queue_size\u001b[0m\u001b[1;33m=\u001b[0m\u001b[0mmax_queue_size\u001b[0m\u001b[1;33m,\u001b[0m\u001b[1;33m\u001b[0m\u001b[1;33m\u001b[0m\u001b[0m\n\u001b[0;32m    818\u001b[0m         \u001b[0mworkers\u001b[0m\u001b[1;33m=\u001b[0m\u001b[0mworkers\u001b[0m\u001b[1;33m,\u001b[0m\u001b[1;33m\u001b[0m\u001b[1;33m\u001b[0m\u001b[0m\n\u001b[1;32m--> 819\u001b[1;33m         use_multiprocessing=use_multiprocessing)\n\u001b[0m\u001b[0;32m    820\u001b[0m \u001b[1;33m\u001b[0m\u001b[0m\n\u001b[0;32m    821\u001b[0m   def evaluate(self,\n",
            "\u001b[1;32m~\\Anaconda3\\lib\\site-packages\\tensorflow_core\\python\\keras\\engine\\training_v2.py\u001b[0m in \u001b[0;36mfit\u001b[1;34m(self, model, x, y, batch_size, epochs, verbose, callbacks, validation_split, validation_data, shuffle, class_weight, sample_weight, initial_epoch, steps_per_epoch, validation_steps, validation_freq, max_queue_size, workers, use_multiprocessing, **kwargs)\u001b[0m\n\u001b[0;32m    340\u001b[0m                 \u001b[0mmode\u001b[0m\u001b[1;33m=\u001b[0m\u001b[0mModeKeys\u001b[0m\u001b[1;33m.\u001b[0m\u001b[0mTRAIN\u001b[0m\u001b[1;33m,\u001b[0m\u001b[1;33m\u001b[0m\u001b[1;33m\u001b[0m\u001b[0m\n\u001b[0;32m    341\u001b[0m                 \u001b[0mtraining_context\u001b[0m\u001b[1;33m=\u001b[0m\u001b[0mtraining_context\u001b[0m\u001b[1;33m,\u001b[0m\u001b[1;33m\u001b[0m\u001b[1;33m\u001b[0m\u001b[0m\n\u001b[1;32m--> 342\u001b[1;33m                 total_epochs=epochs)\n\u001b[0m\u001b[0;32m    343\u001b[0m             \u001b[0mcbks\u001b[0m\u001b[1;33m.\u001b[0m\u001b[0mmake_logs\u001b[0m\u001b[1;33m(\u001b[0m\u001b[0mmodel\u001b[0m\u001b[1;33m,\u001b[0m \u001b[0mepoch_logs\u001b[0m\u001b[1;33m,\u001b[0m \u001b[0mtraining_result\u001b[0m\u001b[1;33m,\u001b[0m \u001b[0mModeKeys\u001b[0m\u001b[1;33m.\u001b[0m\u001b[0mTRAIN\u001b[0m\u001b[1;33m)\u001b[0m\u001b[1;33m\u001b[0m\u001b[1;33m\u001b[0m\u001b[0m\n\u001b[0;32m    344\u001b[0m \u001b[1;33m\u001b[0m\u001b[0m\n",
            "\u001b[1;32m~\\Anaconda3\\lib\\site-packages\\tensorflow_core\\python\\keras\\engine\\training_v2.py\u001b[0m in \u001b[0;36mrun_one_epoch\u001b[1;34m(model, iterator, execution_function, dataset_size, batch_size, strategy, steps_per_epoch, num_samples, mode, training_context, total_epochs)\u001b[0m\n\u001b[0;32m    126\u001b[0m         step=step, mode=mode, size=current_batch_size) as batch_logs:\n\u001b[0;32m    127\u001b[0m       \u001b[1;32mtry\u001b[0m\u001b[1;33m:\u001b[0m\u001b[1;33m\u001b[0m\u001b[1;33m\u001b[0m\u001b[0m\n\u001b[1;32m--> 128\u001b[1;33m         \u001b[0mbatch_outs\u001b[0m \u001b[1;33m=\u001b[0m \u001b[0mexecution_function\u001b[0m\u001b[1;33m(\u001b[0m\u001b[0miterator\u001b[0m\u001b[1;33m)\u001b[0m\u001b[1;33m\u001b[0m\u001b[1;33m\u001b[0m\u001b[0m\n\u001b[0m\u001b[0;32m    129\u001b[0m       \u001b[1;32mexcept\u001b[0m \u001b[1;33m(\u001b[0m\u001b[0mStopIteration\u001b[0m\u001b[1;33m,\u001b[0m \u001b[0merrors\u001b[0m\u001b[1;33m.\u001b[0m\u001b[0mOutOfRangeError\u001b[0m\u001b[1;33m)\u001b[0m\u001b[1;33m:\u001b[0m\u001b[1;33m\u001b[0m\u001b[1;33m\u001b[0m\u001b[0m\n\u001b[0;32m    130\u001b[0m         \u001b[1;31m# TODO(kaftan): File bug about tf function and errors.OutOfRangeError?\u001b[0m\u001b[1;33m\u001b[0m\u001b[1;33m\u001b[0m\u001b[1;33m\u001b[0m\u001b[0m\n",
            "\u001b[1;32m~\\Anaconda3\\lib\\site-packages\\tensorflow_core\\python\\keras\\engine\\training_v2_utils.py\u001b[0m in \u001b[0;36mexecution_function\u001b[1;34m(input_fn)\u001b[0m\n\u001b[0;32m     96\u001b[0m     \u001b[1;31m# `numpy` translates Tensors to values in Eager mode.\u001b[0m\u001b[1;33m\u001b[0m\u001b[1;33m\u001b[0m\u001b[1;33m\u001b[0m\u001b[0m\n\u001b[0;32m     97\u001b[0m     return nest.map_structure(_non_none_constant_value,\n\u001b[1;32m---> 98\u001b[1;33m                               distributed_function(input_fn))\n\u001b[0m\u001b[0;32m     99\u001b[0m \u001b[1;33m\u001b[0m\u001b[0m\n\u001b[0;32m    100\u001b[0m   \u001b[1;32mreturn\u001b[0m \u001b[0mexecution_function\u001b[0m\u001b[1;33m\u001b[0m\u001b[1;33m\u001b[0m\u001b[0m\n",
            "\u001b[1;32m~\\Anaconda3\\lib\\site-packages\\tensorflow_core\\python\\eager\\def_function.py\u001b[0m in \u001b[0;36m__call__\u001b[1;34m(self, *args, **kwds)\u001b[0m\n\u001b[0;32m    566\u001b[0m         \u001b[0mxla_context\u001b[0m\u001b[1;33m.\u001b[0m\u001b[0mExit\u001b[0m\u001b[1;33m(\u001b[0m\u001b[1;33m)\u001b[0m\u001b[1;33m\u001b[0m\u001b[1;33m\u001b[0m\u001b[0m\n\u001b[0;32m    567\u001b[0m     \u001b[1;32melse\u001b[0m\u001b[1;33m:\u001b[0m\u001b[1;33m\u001b[0m\u001b[1;33m\u001b[0m\u001b[0m\n\u001b[1;32m--> 568\u001b[1;33m       \u001b[0mresult\u001b[0m \u001b[1;33m=\u001b[0m \u001b[0mself\u001b[0m\u001b[1;33m.\u001b[0m\u001b[0m_call\u001b[0m\u001b[1;33m(\u001b[0m\u001b[1;33m*\u001b[0m\u001b[0margs\u001b[0m\u001b[1;33m,\u001b[0m \u001b[1;33m**\u001b[0m\u001b[0mkwds\u001b[0m\u001b[1;33m)\u001b[0m\u001b[1;33m\u001b[0m\u001b[1;33m\u001b[0m\u001b[0m\n\u001b[0m\u001b[0;32m    569\u001b[0m \u001b[1;33m\u001b[0m\u001b[0m\n\u001b[0;32m    570\u001b[0m     \u001b[1;32mif\u001b[0m \u001b[0mtracing_count\u001b[0m \u001b[1;33m==\u001b[0m \u001b[0mself\u001b[0m\u001b[1;33m.\u001b[0m\u001b[0m_get_tracing_count\u001b[0m\u001b[1;33m(\u001b[0m\u001b[1;33m)\u001b[0m\u001b[1;33m:\u001b[0m\u001b[1;33m\u001b[0m\u001b[1;33m\u001b[0m\u001b[0m\n",
            "\u001b[1;32m~\\Anaconda3\\lib\\site-packages\\tensorflow_core\\python\\eager\\def_function.py\u001b[0m in \u001b[0;36m_call\u001b[1;34m(self, *args, **kwds)\u001b[0m\n\u001b[0;32m    597\u001b[0m       \u001b[1;31m# In this case we have created variables on the first call, so we run the\u001b[0m\u001b[1;33m\u001b[0m\u001b[1;33m\u001b[0m\u001b[1;33m\u001b[0m\u001b[0m\n\u001b[0;32m    598\u001b[0m       \u001b[1;31m# defunned version which is guaranteed to never create variables.\u001b[0m\u001b[1;33m\u001b[0m\u001b[1;33m\u001b[0m\u001b[1;33m\u001b[0m\u001b[0m\n\u001b[1;32m--> 599\u001b[1;33m       \u001b[1;32mreturn\u001b[0m \u001b[0mself\u001b[0m\u001b[1;33m.\u001b[0m\u001b[0m_stateless_fn\u001b[0m\u001b[1;33m(\u001b[0m\u001b[1;33m*\u001b[0m\u001b[0margs\u001b[0m\u001b[1;33m,\u001b[0m \u001b[1;33m**\u001b[0m\u001b[0mkwds\u001b[0m\u001b[1;33m)\u001b[0m  \u001b[1;31m# pylint: disable=not-callable\u001b[0m\u001b[1;33m\u001b[0m\u001b[1;33m\u001b[0m\u001b[0m\n\u001b[0m\u001b[0;32m    600\u001b[0m     \u001b[1;32melif\u001b[0m \u001b[0mself\u001b[0m\u001b[1;33m.\u001b[0m\u001b[0m_stateful_fn\u001b[0m \u001b[1;32mis\u001b[0m \u001b[1;32mnot\u001b[0m \u001b[1;32mNone\u001b[0m\u001b[1;33m:\u001b[0m\u001b[1;33m\u001b[0m\u001b[1;33m\u001b[0m\u001b[0m\n\u001b[0;32m    601\u001b[0m       \u001b[1;31m# Release the lock early so that multiple threads can perform the call\u001b[0m\u001b[1;33m\u001b[0m\u001b[1;33m\u001b[0m\u001b[1;33m\u001b[0m\u001b[0m\n",
            "\u001b[1;32m~\\Anaconda3\\lib\\site-packages\\tensorflow_core\\python\\eager\\function.py\u001b[0m in \u001b[0;36m__call__\u001b[1;34m(self, *args, **kwargs)\u001b[0m\n\u001b[0;32m   2361\u001b[0m     \u001b[1;32mwith\u001b[0m \u001b[0mself\u001b[0m\u001b[1;33m.\u001b[0m\u001b[0m_lock\u001b[0m\u001b[1;33m:\u001b[0m\u001b[1;33m\u001b[0m\u001b[1;33m\u001b[0m\u001b[0m\n\u001b[0;32m   2362\u001b[0m       \u001b[0mgraph_function\u001b[0m\u001b[1;33m,\u001b[0m \u001b[0margs\u001b[0m\u001b[1;33m,\u001b[0m \u001b[0mkwargs\u001b[0m \u001b[1;33m=\u001b[0m \u001b[0mself\u001b[0m\u001b[1;33m.\u001b[0m\u001b[0m_maybe_define_function\u001b[0m\u001b[1;33m(\u001b[0m\u001b[0margs\u001b[0m\u001b[1;33m,\u001b[0m \u001b[0mkwargs\u001b[0m\u001b[1;33m)\u001b[0m\u001b[1;33m\u001b[0m\u001b[1;33m\u001b[0m\u001b[0m\n\u001b[1;32m-> 2363\u001b[1;33m     \u001b[1;32mreturn\u001b[0m \u001b[0mgraph_function\u001b[0m\u001b[1;33m.\u001b[0m\u001b[0m_filtered_call\u001b[0m\u001b[1;33m(\u001b[0m\u001b[0margs\u001b[0m\u001b[1;33m,\u001b[0m \u001b[0mkwargs\u001b[0m\u001b[1;33m)\u001b[0m  \u001b[1;31m# pylint: disable=protected-access\u001b[0m\u001b[1;33m\u001b[0m\u001b[1;33m\u001b[0m\u001b[0m\n\u001b[0m\u001b[0;32m   2364\u001b[0m \u001b[1;33m\u001b[0m\u001b[0m\n\u001b[0;32m   2365\u001b[0m   \u001b[1;33m@\u001b[0m\u001b[0mproperty\u001b[0m\u001b[1;33m\u001b[0m\u001b[1;33m\u001b[0m\u001b[0m\n",
            "\u001b[1;32m~\\Anaconda3\\lib\\site-packages\\tensorflow_core\\python\\eager\\function.py\u001b[0m in \u001b[0;36m_filtered_call\u001b[1;34m(self, args, kwargs)\u001b[0m\n\u001b[0;32m   1609\u001b[0m          if isinstance(t, (ops.Tensor,\n\u001b[0;32m   1610\u001b[0m                            resource_variable_ops.BaseResourceVariable))),\n\u001b[1;32m-> 1611\u001b[1;33m         self.captured_inputs)\n\u001b[0m\u001b[0;32m   1612\u001b[0m \u001b[1;33m\u001b[0m\u001b[0m\n\u001b[0;32m   1613\u001b[0m   \u001b[1;32mdef\u001b[0m \u001b[0m_call_flat\u001b[0m\u001b[1;33m(\u001b[0m\u001b[0mself\u001b[0m\u001b[1;33m,\u001b[0m \u001b[0margs\u001b[0m\u001b[1;33m,\u001b[0m \u001b[0mcaptured_inputs\u001b[0m\u001b[1;33m,\u001b[0m \u001b[0mcancellation_manager\u001b[0m\u001b[1;33m=\u001b[0m\u001b[1;32mNone\u001b[0m\u001b[1;33m)\u001b[0m\u001b[1;33m:\u001b[0m\u001b[1;33m\u001b[0m\u001b[1;33m\u001b[0m\u001b[0m\n",
            "\u001b[1;32m~\\Anaconda3\\lib\\site-packages\\tensorflow_core\\python\\eager\\function.py\u001b[0m in \u001b[0;36m_call_flat\u001b[1;34m(self, args, captured_inputs, cancellation_manager)\u001b[0m\n\u001b[0;32m   1690\u001b[0m       \u001b[1;31m# No tape is watching; skip to running the function.\u001b[0m\u001b[1;33m\u001b[0m\u001b[1;33m\u001b[0m\u001b[1;33m\u001b[0m\u001b[0m\n\u001b[0;32m   1691\u001b[0m       return self._build_call_outputs(self._inference_function.call(\n\u001b[1;32m-> 1692\u001b[1;33m           ctx, args, cancellation_manager=cancellation_manager))\n\u001b[0m\u001b[0;32m   1693\u001b[0m     forward_backward = self._select_forward_and_backward_functions(\n\u001b[0;32m   1694\u001b[0m         \u001b[0margs\u001b[0m\u001b[1;33m,\u001b[0m\u001b[1;33m\u001b[0m\u001b[1;33m\u001b[0m\u001b[0m\n",
            "\u001b[1;32m~\\Anaconda3\\lib\\site-packages\\tensorflow_core\\python\\eager\\function.py\u001b[0m in \u001b[0;36mcall\u001b[1;34m(self, ctx, args, cancellation_manager)\u001b[0m\n\u001b[0;32m    543\u001b[0m               \u001b[0minputs\u001b[0m\u001b[1;33m=\u001b[0m\u001b[0margs\u001b[0m\u001b[1;33m,\u001b[0m\u001b[1;33m\u001b[0m\u001b[1;33m\u001b[0m\u001b[0m\n\u001b[0;32m    544\u001b[0m               \u001b[0mattrs\u001b[0m\u001b[1;33m=\u001b[0m\u001b[1;33m(\u001b[0m\u001b[1;34m\"executor_type\"\u001b[0m\u001b[1;33m,\u001b[0m \u001b[0mexecutor_type\u001b[0m\u001b[1;33m,\u001b[0m \u001b[1;34m\"config_proto\"\u001b[0m\u001b[1;33m,\u001b[0m \u001b[0mconfig\u001b[0m\u001b[1;33m)\u001b[0m\u001b[1;33m,\u001b[0m\u001b[1;33m\u001b[0m\u001b[1;33m\u001b[0m\u001b[0m\n\u001b[1;32m--> 545\u001b[1;33m               ctx=ctx)\n\u001b[0m\u001b[0;32m    546\u001b[0m         \u001b[1;32melse\u001b[0m\u001b[1;33m:\u001b[0m\u001b[1;33m\u001b[0m\u001b[1;33m\u001b[0m\u001b[0m\n\u001b[0;32m    547\u001b[0m           outputs = execute.execute_with_cancellation(\n",
            "\u001b[1;32m~\\Anaconda3\\lib\\site-packages\\tensorflow_core\\python\\eager\\execute.py\u001b[0m in \u001b[0;36mquick_execute\u001b[1;34m(op_name, num_outputs, inputs, attrs, ctx, name)\u001b[0m\n\u001b[0;32m     59\u001b[0m     tensors = pywrap_tensorflow.TFE_Py_Execute(ctx._handle, device_name,\n\u001b[0;32m     60\u001b[0m                                                \u001b[0mop_name\u001b[0m\u001b[1;33m,\u001b[0m \u001b[0minputs\u001b[0m\u001b[1;33m,\u001b[0m \u001b[0mattrs\u001b[0m\u001b[1;33m,\u001b[0m\u001b[1;33m\u001b[0m\u001b[1;33m\u001b[0m\u001b[0m\n\u001b[1;32m---> 61\u001b[1;33m                                                num_outputs)\n\u001b[0m\u001b[0;32m     62\u001b[0m   \u001b[1;32mexcept\u001b[0m \u001b[0mcore\u001b[0m\u001b[1;33m.\u001b[0m\u001b[0m_NotOkStatusException\u001b[0m \u001b[1;32mas\u001b[0m \u001b[0me\u001b[0m\u001b[1;33m:\u001b[0m\u001b[1;33m\u001b[0m\u001b[1;33m\u001b[0m\u001b[0m\n\u001b[0;32m     63\u001b[0m     \u001b[1;32mif\u001b[0m \u001b[0mname\u001b[0m \u001b[1;32mis\u001b[0m \u001b[1;32mnot\u001b[0m \u001b[1;32mNone\u001b[0m\u001b[1;33m:\u001b[0m\u001b[1;33m\u001b[0m\u001b[1;33m\u001b[0m\u001b[0m\n",
            "\u001b[1;31mKeyboardInterrupt\u001b[0m: "
          ]
        }
      ],
      "source": [
        "# fit the model\n",
        "# Run the cell. It will take some time to execute\n",
        "r = model.fit_generator(\n",
        "  training_set,\n",
        "  validation_data=test_set,\n",
        "  epochs=25,\n",
        "  steps_per_epoch=len(training_set),\n",
        "  validation_steps=len(test_set)\n",
        ")"
      ]
    },
    {
      "cell_type": "code",
      "execution_count": null,
      "metadata": {
        "id": "29TYKbQ2qjK2",
        "outputId": "de4905e5-e832-4acc-f9cb-03821d800141"
      },
      "outputs": [
        {
          "data": {
            "image/png": "[encoded data removed]",
            "text/plain": [
              "<Figure size 432x288 with 1 Axes>"
            ]
          },
          "metadata": {},
          "output_type": "display_data"
        },
        {
          "data": {
            "image/png": "[encoded data removed]",
            "text/plain": [
              "<Figure size 432x288 with 1 Axes>"
            ]
          },
          "metadata": {},
          "output_type": "display_data"
        },
        {
          "data": {
            "text/plain": [
              "<Figure size 432x288 with 0 Axes>"
            ]
          },
          "metadata": {},
          "output_type": "display_data"
        }
      ],
      "source": [
        "# plot the loss\n",
        "plt.plot(r.history['loss'], label='train loss')\n",
        "plt.plot(r.history['val_loss'], label='val loss')\n",
        "plt.legend()\n",
        "plt.show()\n",
        "plt.savefig('LossVal_loss')\n",
        "\n",
        "# plot the accuracy\n",
        "plt.plot(r.history['accuracy'], label='train acc')\n",
        "plt.plot(r.history['val_accuracy'], label='val acc')\n",
        "plt.legend()\n",
        "plt.show()\n",
        "plt.savefig('AccVal_acc')"
      ]
    },
    {
      "cell_type": "code",
      "execution_count": null,
      "metadata": {
        "id": "he6neryFKbLM"
      },
      "outputs": [],
      "source": [
        "loss,accuracy = model.evaluate(test_set)"
      ]
    },
    {
      "cell_type": "code",
      "execution_count": null,
      "metadata": {
        "id": "b_VM165oqjK3"
      },
      "outputs": [],
      "source": [
        "print(\"test accuracy: \"+ str(accuracy*100))\n",
        "print(\"test loss: \"+ str(loss*100))"
      ]
    },
    {
      "cell_type": "code",
      "execution_count": null,
      "metadata": {
        "id": "h5FGdMd7qjK3"
      },
      "outputs": [],
      "source": [
        "# save it as a h5 file\n",
        "\n",
        "\n",
        "from tensorflow.keras.models import load_model\n",
        "\n",
        "model.save('model_vgg19.h5')"
      ]
    },
    {
      "cell_type": "code",
      "execution_count": null,
      "metadata": {
        "id": "RWblrJa-qjK3"
      },
      "outputs": [],
      "source": []
    },
    {
      "cell_type": "code",
      "execution_count": null,
      "metadata": {
        "id": "izBB-AqSqjK3"
      },
      "outputs": [],
      "source": [
        "\n",
        "y_pred = model.predict(test_set)\n"
      ]
    },
    {
      "cell_type": "code",
      "execution_count": null,
      "metadata": {
        "id": "CG2jNP5rqjK3",
        "outputId": "7a2bd20d-acd0-4364-84ef-2be045921a9a"
      },
      "outputs": [
        {
          "data": {
            "text/plain": [
              "array([[9.99876857e-01, 1.23175341e-04],\n",
              "       [9.99977112e-01, 2.29190919e-05],\n",
              "       [7.58346558e-01, 2.41653457e-01],\n",
              "       [9.99925494e-01, 7.45595753e-05],\n",
              "       [9.90784764e-01, 9.21520963e-03],\n",
              "       [9.12076458e-02, 9.08792377e-01],\n",
              "       [2.70295113e-01, 7.29704857e-01],\n",
              "       [3.21944878e-02, 9.67805505e-01],\n",
              "       [9.62613881e-01, 3.73861678e-02],\n",
              "       [5.13265312e-01, 4.86734688e-01],\n",
              "       [9.87143576e-01, 1.28563549e-02],\n",
              "       [9.97780263e-01, 2.21971911e-03],\n",
              "       [9.32238042e-01, 6.77619576e-02],\n",
              "       [9.21115577e-01, 7.88843632e-02],\n",
              "       [3.17853913e-02, 9.68214571e-01],\n",
              "       [1.00000000e+00, 9.47071488e-09],\n",
              "       [2.65438944e-01, 7.34561086e-01],\n",
              "       [9.99419808e-01, 5.80202264e-04],\n",
              "       [9.40651655e-01, 5.93483634e-02],\n",
              "       [9.85742450e-01, 1.42575456e-02],\n",
              "       [9.99954581e-01, 4.54339461e-05],\n",
              "       [9.99656916e-01, 3.43117106e-04],\n",
              "       [5.88945560e-02, 9.41105425e-01],\n",
              "       [9.99902725e-01, 9.72729686e-05],\n",
              "       [7.31766939e-01, 2.68233061e-01],\n",
              "       [9.99747813e-01, 2.52151629e-04],\n",
              "       [1.64933771e-01, 8.35066259e-01],\n",
              "       [9.99608934e-01, 3.91100359e-04],\n",
              "       [9.99930501e-01, 6.94626651e-05],\n",
              "       [9.82600868e-01, 1.73991676e-02],\n",
              "       [9.97824430e-01, 2.17563682e-03],\n",
              "       [8.57747495e-02, 9.14225221e-01],\n",
              "       [8.22690725e-01, 1.77309304e-01],\n",
              "       [2.20711201e-01, 7.79288828e-01],\n",
              "       [1.74620345e-01, 8.25379610e-01],\n",
              "       [9.97595489e-01, 2.40448676e-03],\n",
              "       [9.78304744e-01, 2.16952953e-02],\n",
              "       [9.96270061e-01, 3.72986798e-03],\n",
              "       [9.99968529e-01, 3.14996905e-05],\n",
              "       [2.06163585e-01, 7.93836474e-01],\n",
              "       [2.74875015e-01, 7.25125015e-01],\n",
              "       [6.29736423e-01, 3.70263547e-01],\n",
              "       [7.74357736e-01, 2.25642264e-01],\n",
              "       [9.99867320e-01, 1.32690737e-04],\n",
              "       [9.60264862e-01, 3.97351012e-02],\n",
              "       [7.71383643e-01, 2.28616387e-01],\n",
              "       [6.15290999e-01, 3.84708971e-01],\n",
              "       [9.99967098e-01, 3.28774731e-05],\n",
              "       [9.95145261e-01, 4.85474942e-03],\n",
              "       [1.08196318e-01, 8.91803682e-01],\n",
              "       [3.59025478e-01, 6.40974522e-01],\n",
              "       [1.10499725e-01, 8.89500201e-01],\n",
              "       [2.25538373e-01, 7.74461687e-01],\n",
              "       [9.98749137e-01, 1.25089986e-03],\n",
              "       [1.90371588e-01, 8.09628427e-01],\n",
              "       [9.37200725e-01, 6.27992526e-02],\n",
              "       [9.99367177e-01, 6.32850570e-04],\n",
              "       [9.99963284e-01, 3.66732384e-05],\n",
              "       [9.48564351e-01, 5.14356568e-02],\n",
              "       [9.56201553e-01, 4.37984206e-02],\n",
              "       [6.51602149e-02, 9.34839785e-01],\n",
              "       [9.99999046e-01, 1.00051784e-06],\n",
              "       [9.98620391e-01, 1.37962191e-03],\n",
              "       [9.47624370e-02, 9.05237496e-01],\n",
              "       [7.12222219e-01, 2.87777781e-01],\n",
              "       [4.08830613e-01, 5.91169357e-01],\n",
              "       [4.01257932e-01, 5.98742008e-01],\n",
              "       [9.99981642e-01, 1.84092059e-05],\n",
              "       [9.86927807e-01, 1.30722430e-02],\n",
              "       [9.73069012e-01, 2.69310307e-02],\n",
              "       [9.92525339e-01, 7.47464644e-03],\n",
              "       [4.22180533e-01, 5.77819526e-01],\n",
              "       [3.74090314e-01, 6.25909686e-01],\n",
              "       [9.00554836e-01, 9.94452089e-02],\n",
              "       [9.96229827e-01, 3.77019821e-03],\n",
              "       [8.69540453e-01, 1.30459592e-01],\n",
              "       [9.18236852e-01, 8.17631558e-02],\n",
              "       [6.71503171e-02, 9.32849705e-01],\n",
              "       [2.67355323e-01, 7.32644677e-01],\n",
              "       [9.99998689e-01, 1.25849306e-06],\n",
              "       [9.99991894e-01, 8.13550105e-06],\n",
              "       [9.63819861e-01, 3.61801200e-02],\n",
              "       [1.12400115e-01, 8.87599885e-01],\n",
              "       [8.96893084e-01, 1.03106916e-01],\n",
              "       [9.99994040e-01, 5.97917688e-06],\n",
              "       [9.99433100e-01, 5.66851115e-04],\n",
              "       [9.99959230e-01, 4.08172818e-05],\n",
              "       [9.99471962e-01, 5.28042321e-04],\n",
              "       [1.00907192e-01, 8.99092853e-01],\n",
              "       [7.78602958e-01, 2.21397042e-01],\n",
              "       [9.42606330e-01, 5.73936440e-02],\n",
              "       [9.56334770e-02, 9.04366493e-01],\n",
              "       [7.15143263e-01, 2.84856737e-01],\n",
              "       [3.28363180e-01, 6.71636820e-01],\n",
              "       [1.33568943e-01, 8.66431057e-01],\n",
              "       [7.44434819e-02, 9.25556600e-01],\n",
              "       [9.26322997e-01, 7.36770183e-02],\n",
              "       [9.69936788e-01, 3.00631654e-02],\n",
              "       [4.12148356e-01, 5.87851644e-01],\n",
              "       [9.98996079e-01, 1.00392464e-03],\n",
              "       [9.97383654e-01, 2.61637894e-03],\n",
              "       [9.99999642e-01, 3.66045072e-07],\n",
              "       [8.30568254e-01, 1.69431791e-01],\n",
              "       [1.25899151e-01, 8.74100864e-01],\n",
              "       [6.11705780e-02, 9.38829422e-01],\n",
              "       [9.99969840e-01, 3.01911859e-05],\n",
              "       [9.97462153e-01, 2.53788382e-03],\n",
              "       [8.31490874e-01, 1.68509126e-01],\n",
              "       [2.56192029e-01, 7.43807971e-01],\n",
              "       [9.99974728e-01, 2.52405061e-05],\n",
              "       [7.60781288e-01, 2.39218742e-01],\n",
              "       [5.35193384e-01, 4.64806587e-01],\n",
              "       [9.99709666e-01, 2.90352647e-04],\n",
              "       [2.36094102e-01, 7.63905883e-01],\n",
              "       [9.99740064e-01, 2.59921653e-04],\n",
              "       [9.99999285e-01, 6.80445339e-07],\n",
              "       [1.00000000e+00, 8.55684501e-09],\n",
              "       [9.99842644e-01, 1.57280505e-04],\n",
              "       [9.69608068e-01, 3.03919483e-02],\n",
              "       [9.99734938e-01, 2.65098090e-04],\n",
              "       [8.61145318e-01, 1.38854623e-01],\n",
              "       [8.84838045e-01, 1.15161963e-01],\n",
              "       [1.26957521e-01, 8.73042524e-01],\n",
              "       [1.08776897e-01, 8.91223073e-01],\n",
              "       [9.85367537e-01, 1.46324970e-02],\n",
              "       [9.99420404e-01, 5.79623622e-04],\n",
              "       [2.22981453e-01, 7.77018547e-01],\n",
              "       [1.97749451e-01, 8.02250564e-01],\n",
              "       [9.99945760e-01, 5.42549496e-05],\n",
              "       [2.38410935e-01, 7.61589050e-01],\n",
              "       [9.18569207e-01, 8.14308450e-02],\n",
              "       [9.98411298e-01, 1.58868567e-03],\n",
              "       [1.78226024e-01, 8.21774006e-01],\n",
              "       [1.95776328e-01, 8.04223716e-01]], dtype=float32)"
            ]
          },
          "execution_count": 19,
          "metadata": {},
          "output_type": "execute_result"
        }
      ],
      "source": [
        "y_pred"
      ]
    },
    {
      "cell_type": "code",
      "execution_count": null,
      "metadata": {
        "id": "LGOGzTfqqjK3"
      },
      "outputs": [],
      "source": [
        "import numpy as np\n",
        "y_pred = np.argmax(y_pred, axis=1)"
      ]
    },
    {
      "cell_type": "code",
      "execution_count": null,
      "metadata": {
        "id": "482SqosZqjK3",
        "outputId": "5cadea34-bab3-45ab-8510-9b03447ec1ab"
      },
      "outputs": [
        {
          "data": {
            "text/plain": [
              "array([0, 0, 0, 0, 0, 1, 1, 1, 0, 0, 0, 0, 0, 0, 1, 0, 1, 0, 0, 0, 0, 0,\n",
              "       1, 0, 0, 0, 1, 0, 0, 0, 0, 1, 0, 1, 1, 0, 0, 0, 0, 1, 1, 0, 0, 0,\n",
              "       0, 0, 0, 0, 0, 1, 1, 1, 1, 0, 1, 0, 0, 0, 0, 0, 1, 0, 0, 1, 0, 1,\n",
              "       1, 0, 0, 0, 0, 1, 1, 0, 0, 0, 0, 1, 1, 0, 0, 0, 1, 0, 0, 0, 0, 0,\n",
              "       1, 0, 0, 1, 0, 1, 1, 1, 0, 0, 1, 0, 0, 0, 0, 1, 1, 0, 0, 0, 1, 0,\n",
              "       0, 0, 0, 1, 0, 0, 0, 0, 0, 0, 0, 0, 1, 1, 0, 0, 1, 1, 0, 1, 0, 0,\n",
              "       1, 1], dtype=int64)"
            ]
          },
          "execution_count": 21,
          "metadata": {},
          "output_type": "execute_result"
        }
      ],
      "source": [
        "y_pred"
      ]
    },
    {
      "cell_type": "code",
      "execution_count": null,
      "metadata": {
        "id": "EuY9HPkmqjK4"
      },
      "outputs": [],
      "source": []
    },
    {
      "cell_type": "code",
      "execution_count": null,
      "metadata": {
        "id": "6ch3f5SAqjK4"
      },
      "outputs": [],
      "source": [
        "from tensorflow.keras.models import load_model\n",
        "from tensorflow.keras.preprocessing import image"
      ]
    },
    {
      "cell_type": "code",
      "execution_count": null,
      "metadata": {
        "id": "QuEp5kdRqjK4"
      },
      "outputs": [],
      "source": [
        "model=load_model('model_vgg19.h5')"
      ]
    },
    {
      "cell_type": "code",
      "execution_count": null,
      "metadata": {
        "id": "Zu4nrd5UqjK4"
      },
      "outputs": [],
      "source": []
    },
    {
      "cell_type": "code",
      "execution_count": null,
      "metadata": {
        "id": "mtCD4HfNqjK4"
      },
      "outputs": [],
      "source": [
        "#img=image.load_img('drive/MyDrive/Colab_Assignments/ML/CovidDataset/Test/Normal/NORMAL2-IM-0894-0001.jpeg',target_size=(224,224))\n",
        "\n",
        "img=image.load_img('drive/MyDrive/Colab_Assignments/ML/CovidDataset/Test/Covid/4e43e48d52c9e2d4c6c1fb9bc1544f_jumbo.jpeg',target_size=(224,224))\n"
      ]
    },
    {
      "cell_type": "code",
      "execution_count": null,
      "metadata": {
        "id": "aqHCdfewqjK4",
        "outputId": "692a7a7e-baee-4d7b-9bad-aab7dbe74ce2"
      },
      "outputs": [
        {
          "data": {
            "text/plain": [
              "array([[[0., 0., 0.],\n",
              "        [0., 0., 0.],\n",
              "        [0., 0., 0.],\n",
              "        ...,\n",
              "        [0., 0., 0.],\n",
              "        [0., 0., 0.],\n",
              "        [0., 0., 0.]],\n",
              "\n",
              "       [[0., 0., 0.],\n",
              "        [0., 0., 0.],\n",
              "        [0., 0., 0.],\n",
              "        ...,\n",
              "        [0., 0., 0.],\n",
              "        [0., 0., 0.],\n",
              "        [0., 0., 0.]],\n",
              "\n",
              "       [[0., 0., 0.],\n",
              "        [0., 0., 0.],\n",
              "        [0., 0., 0.],\n",
              "        ...,\n",
              "        [0., 0., 0.],\n",
              "        [0., 0., 0.],\n",
              "        [0., 0., 0.]],\n",
              "\n",
              "       ...,\n",
              "\n",
              "       [[0., 0., 0.],\n",
              "        [0., 0., 0.],\n",
              "        [0., 0., 0.],\n",
              "        ...,\n",
              "        [0., 0., 0.],\n",
              "        [0., 0., 0.],\n",
              "        [0., 0., 0.]],\n",
              "\n",
              "       [[0., 0., 0.],\n",
              "        [0., 0., 0.],\n",
              "        [0., 0., 0.],\n",
              "        ...,\n",
              "        [0., 0., 0.],\n",
              "        [0., 0., 0.],\n",
              "        [0., 0., 0.]],\n",
              "\n",
              "       [[0., 0., 0.],\n",
              "        [0., 0., 0.],\n",
              "        [0., 0., 0.],\n",
              "        ...,\n",
              "        [0., 0., 0.],\n",
              "        [0., 0., 0.],\n",
              "        [0., 0., 0.]]], dtype=float32)"
            ]
          },
          "execution_count": 27,
          "metadata": {},
          "output_type": "execute_result"
        }
      ],
      "source": [
        "x=image.img_to_array(img)\n",
        "x"
      ]
    },
    {
      "cell_type": "code",
      "execution_count": null,
      "metadata": {
        "id": "PzIlcWd3qjK4",
        "outputId": "d591839f-2805-4d21-da2d-1310138b322f"
      },
      "outputs": [
        {
          "data": {
            "text/plain": [
              "(224, 224, 3)"
            ]
          },
          "execution_count": 28,
          "metadata": {},
          "output_type": "execute_result"
        }
      ],
      "source": [
        "x.shape"
      ]
    },
    {
      "cell_type": "code",
      "execution_count": null,
      "metadata": {
        "id": "MaS2FH_WqjK4"
      },
      "outputs": [],
      "source": [
        "x=x/255"
      ]
    },
    {
      "cell_type": "code",
      "execution_count": null,
      "metadata": {
        "id": "4ExhuxClqjK5",
        "outputId": "0e75d506-62f3-4562-99ee-e0398d706311"
      },
      "outputs": [
        {
          "data": {
            "text/plain": [
              "(1, 224, 224, 3)"
            ]
          },
          "execution_count": 30,
          "metadata": {},
          "output_type": "execute_result"
        }
      ],
      "source": [
        "x=np.expand_dims(x,axis=0)\n",
        "img_data=preprocess_input(x)\n",
        "img_data.shape"
      ]
    },
    {
      "cell_type": "code",
      "execution_count": null,
      "metadata": {
        "id": "CihJEEkqqjK5",
        "outputId": "eccce13d-061b-4e8f-9ec2-87ce9259048b"
      },
      "outputs": [
        {
          "data": {
            "text/plain": [
              "array([[0.01155142, 0.98844856]], dtype=float32)"
            ]
          },
          "execution_count": 31,
          "metadata": {},
          "output_type": "execute_result"
        }
      ],
      "source": [
        "model.predict(img_data)"
      ]
    },
    {
      "cell_type": "code",
      "execution_count": null,
      "metadata": {
        "id": "aohQF3WTqjK5"
      },
      "outputs": [],
      "source": [
        "a=np.argmax(model.predict(img_data), axis=1)"
      ]
    },
    {
      "cell_type": "code",
      "execution_count": null,
      "metadata": {
        "id": "icOjf8DYqjK5",
        "outputId": "96bb8b10-ec8b-4aa1-8e96-836a79a74740"
      },
      "outputs": [
        {
          "name": "stdout",
          "output_type": "stream",
          "text": [
            "Uninfected\n"
          ]
        }
      ],
      "source": [
        "if(a==1):\n",
        "    print(\"COVID-19 Negative\")\n",
        "else:\n",
        "    print(\"COVID-19 Positive\")"
      ]
    },
    {
      "cell_type": "code",
      "execution_count": null,
      "metadata": {
        "colab": {
          "base_uri": "https://localhost:8080/"
        },
        "id": "tarqRNJbUYnw",
        "outputId": "b1a4422d-6a02-45a5-8b47-318b300cab41"
      },
      "outputs": [
        {
          "data": {
            "text/plain": [
              "2"
            ]
          },
          "execution_count": 23,
          "metadata": {},
          "output_type": "execute_result"
        }
      ],
      "source": [
        "len(folders)"
      ]
    },
    {
      "cell_type": "markdown",
      "metadata": {
        "id": "RwzyoK6ON95L"
      },
      "source": [
        "#Testing "
      ]
    },
    {
      "cell_type": "code",
      "source": [
        "# We use the Image Data Generator to import the images from the dataset\n",
        "from tensorflow.keras.preprocessing.image import ImageDataGenerator\n",
        "#Here we are augmenting the images\n",
        "train_datagen = ImageDataGenerator(rescale = 1./255,\n",
        "                                   shear_range = 0.2,\n",
        "                                   zoom_range = 0.2,\n",
        "                                   horizontal_flip = True)\n",
        "\n",
        "test_datagen = ImageDataGenerator(rescale = 1./255)"
      ],
      "metadata": {
        "id": "fFFKmsGZHcmU"
      },
      "execution_count": null,
      "outputs": []
    },
    {
      "cell_type": "code",
      "source": [
        "\n",
        "# Creating trainset with image size of dimension (224,224)\n",
        "training_set = train_datagen.flow_from_directory('drive/MyDrive/Colab_Assignments/ML/CovidDataset/Train',\n",
        "                                                 target_size = (224, 224),\n",
        "                                                 batch_size = 32,\n",
        "                                                 class_mode = 'categorical')"
      ],
      "metadata": {
        "colab": {
          "base_uri": "https://localhost:8080/"
        },
        "id": "65ahEr88Hf01",
        "outputId": "0a48fca4-4dd9-4dc5-f115-002f05508dfe"
      },
      "execution_count": null,
      "outputs": [
        {
          "output_type": "stream",
          "name": "stdout",
          "text": [
            "Found 224 images belonging to 2 classes.\n"
          ]
        }
      ]
    },
    {
      "cell_type": "code",
      "source": [
        "# Creating testset with image size of dimension (224,224)\n",
        "test_set = test_datagen.flow_from_directory('drive/MyDrive/Colab_Assignments/ML/CovidDataset/Test',\n",
        "                                            target_size = (224, 224),\n",
        "                                            batch_size = 32,\n",
        "                                            class_mode = 'categorical')"
      ],
      "metadata": {
        "colab": {
          "base_uri": "https://localhost:8080/"
        },
        "id": "VdS-QKEFHi9q",
        "outputId": "a6fe3cc4-6a33-48e7-e604-ffc9de4c3f9c"
      },
      "execution_count": null,
      "outputs": [
        {
          "output_type": "stream",
          "name": "stdout",
          "text": [
            "Found 60 images belonging to 2 classes.\n"
          ]
        }
      ]
    },
    {
      "cell_type": "markdown",
      "metadata": {
        "id": "Igq7ZvYTOvbm"
      },
      "source": [
        "VGG19"
      ]
    },
    {
      "cell_type": "code",
      "execution_count": null,
      "metadata": {
        "id": "Sq3t0ESLqjK5",
        "colab": {
          "base_uri": "https://localhost:8080/",
          "height": 698
        },
        "outputId": "6e545a94-a9db-4454-f294-6fb7ccdd693b"
      },
      "outputs": [
        {
          "output_type": "stream",
          "name": "stdout",
          "text": [
            "Downloading data from https://storage.googleapis.com/tensorflow/keras-applications/vgg19/vgg19_weights_tf_dim_ordering_tf_kernels_notop.h5\n",
            "80134624/80134624 [==============================] - 1s 0us/step\n"
          ]
        },
        {
          "output_type": "execute_result",
          "data": {
            "image/png": "[encoded data removed]",
            "text/plain": [
              "<IPython.core.display.Image object>"
            ]
          },
          "metadata": {},
          "execution_count": 15
        }
      ],
      "source": [
        "from keras.applications.vgg19 import VGG19\n",
        "from keras.layers import Dense, Dropout, Flatten\n",
        "from keras.models import Model\n",
        "\n",
        "vgg19 = VGG19(weights='imagenet', include_top=False, input_shape=(224, 224, 3))\n",
        "\n",
        "# x = vgg19.output\n",
        "# x = Flatten()(x)\n",
        "# #x = Dense(512, activation='relu')(x)\n",
        "# #x = Dropout(0.4)(x)\n",
        "# #x = Dense(256, activation='relu')(x)\n",
        "# #x = Dropout(0.4)(x)\n",
        "# x = Dense(128, activation='relu')(x)\n",
        "# x = Dropout(0.2)(x)\n",
        "# predictions = Dense(2, activation='softmax')(x)\n",
        "\n",
        "#model1 = Model(inputs=vgg19.input, outputs=predictions)\n",
        "\n",
        "CNN_vgg19 = Sequential()\n",
        "#CNN_mobilenet.add(BatchNormalization(input_shape = (224, 224, 3)))\n",
        "CNN_vgg19.add(vgg19)\n",
        "CNN_vgg19.add(Flatten())\n",
        "CNN_vgg19.add(Dense(128, activation = 'relu'))\n",
        "CNN_vgg19.add(Dropout(0.2))\n",
        "CNN_vgg19.add(Dense(2, activation = 'softmax'))\n",
        "\n",
        "plot_model(CNN_vgg19, to_file = 'vgg19mod.png', show_layer_names = True , show_shapes = True)"
      ]
    },
    {
      "cell_type": "code",
      "execution_count": null,
      "metadata": {
        "id": "YSwyNpeiQoQN"
      },
      "outputs": [],
      "source": [
        "CNN_vgg19.compile(\n",
        "  loss='categorical_crossentropy',\n",
        "  optimizer='adam',\n",
        "  metrics=['accuracy']\n",
        ")"
      ]
    },
    {
      "cell_type": "code",
      "execution_count": null,
      "metadata": {
        "colab": {
          "base_uri": "https://localhost:8080/"
        },
        "id": "uq68z8NFPaQy",
        "outputId": "a00b41f3-80bd-4026-ec4b-da4807da2888"
      },
      "outputs": [
        {
          "output_type": "stream",
          "name": "stdout",
          "text": [
            "Epoch 1/50\n",
            "7/7 [==============================] - 38s 3s/step - loss: 7.7805 - accuracy: 0.4955 - val_loss: 3.9305 - val_accuracy: 0.5000\n",
            "Epoch 2/50\n",
            "7/7 [==============================] - 15s 2s/step - loss: 1.2665 - accuracy: 0.4911 - val_loss: 0.7544 - val_accuracy: 0.5000\n",
            "Epoch 3/50\n",
            "7/7 [==============================] - 13s 2s/step - loss: 0.7401 - accuracy: 0.4375 - val_loss: 0.7135 - val_accuracy: 0.5000\n",
            "Epoch 4/50\n",
            "7/7 [==============================] - 21s 3s/step - loss: 0.7182 - accuracy: 0.4821 - val_loss: 0.6982 - val_accuracy: 0.5000\n",
            "Epoch 5/50\n",
            "7/7 [==============================] - 14s 2s/step - loss: 0.7024 - accuracy: 0.5000 - val_loss: 0.6909 - val_accuracy: 0.5000\n",
            "Epoch 6/50\n",
            "7/7 [==============================] - 13s 2s/step - loss: 0.7281 - accuracy: 0.4643 - val_loss: 0.6992 - val_accuracy: 0.5000\n",
            "Epoch 7/50\n",
            "7/7 [==============================] - 15s 2s/step - loss: 0.7206 - accuracy: 0.4911 - val_loss: 0.6941 - val_accuracy: 0.5000\n",
            "Epoch 8/50\n",
            "7/7 [==============================] - 13s 2s/step - loss: 0.6993 - accuracy: 0.4777 - val_loss: 0.6899 - val_accuracy: 0.6000\n",
            "Epoch 9/50\n",
            "7/7 [==============================] - 13s 2s/step - loss: 0.6899 - accuracy: 0.5625 - val_loss: 0.6892 - val_accuracy: 0.7167\n",
            "Epoch 10/50\n",
            "7/7 [==============================] - 13s 2s/step - loss: 0.6946 - accuracy: 0.5134 - val_loss: 0.6912 - val_accuracy: 0.5000\n",
            "Epoch 11/50\n",
            "7/7 [==============================] - 20s 3s/step - loss: 0.6907 - accuracy: 0.5625 - val_loss: 0.6870 - val_accuracy: 0.9000\n",
            "Epoch 12/50\n",
            "7/7 [==============================] - 14s 2s/step - loss: 0.6794 - accuracy: 0.5580 - val_loss: 0.5942 - val_accuracy: 0.9000\n",
            "Epoch 13/50\n",
            "7/7 [==============================] - 15s 2s/step - loss: 0.5728 - accuracy: 0.7321 - val_loss: 0.3744 - val_accuracy: 0.9167\n",
            "Epoch 14/50\n",
            "7/7 [==============================] - 13s 2s/step - loss: 0.6287 - accuracy: 0.6652 - val_loss: 0.6397 - val_accuracy: 0.5500\n",
            "Epoch 15/50\n",
            "7/7 [==============================] - 20s 3s/step - loss: 0.4996 - accuracy: 0.7188 - val_loss: 0.4569 - val_accuracy: 0.9000\n",
            "Epoch 16/50\n",
            "7/7 [==============================] - 15s 2s/step - loss: 0.5259 - accuracy: 0.8259 - val_loss: 0.5178 - val_accuracy: 0.7667\n",
            "Epoch 17/50\n",
            "7/7 [==============================] - 14s 2s/step - loss: 0.3837 - accuracy: 0.8170 - val_loss: 0.3220 - val_accuracy: 0.9333\n",
            "Epoch 18/50\n",
            "7/7 [==============================] - 14s 2s/step - loss: 0.2883 - accuracy: 0.8795 - val_loss: 0.3224 - val_accuracy: 0.9667\n",
            "Epoch 19/50\n",
            "7/7 [==============================] - 14s 2s/step - loss: 0.2391 - accuracy: 0.9152 - val_loss: 11.6775 - val_accuracy: 0.5000\n",
            "Epoch 20/50\n",
            "7/7 [==============================] - 14s 2s/step - loss: 2.1275 - accuracy: 0.5223 - val_loss: 0.6949 - val_accuracy: 0.5000\n",
            "Epoch 21/50\n",
            "7/7 [==============================] - 14s 2s/step - loss: 0.7729 - accuracy: 0.5089 - val_loss: 0.6935 - val_accuracy: 0.5000\n",
            "Epoch 22/50\n",
            "7/7 [==============================] - 15s 2s/step - loss: 0.7054 - accuracy: 0.5491 - val_loss: 0.7076 - val_accuracy: 0.5000\n",
            "Epoch 23/50\n",
            "7/7 [==============================] - 14s 2s/step - loss: 0.6949 - accuracy: 0.5000 - val_loss: 0.6926 - val_accuracy: 0.5000\n",
            "Epoch 24/50\n",
            "7/7 [==============================] - 13s 2s/step - loss: 0.7006 - accuracy: 0.4643 - val_loss: 0.6936 - val_accuracy: 0.5000\n",
            "Epoch 25/50\n",
            "7/7 [==============================] - 13s 2s/step - loss: 0.7186 - accuracy: 0.5268 - val_loss: 0.6934 - val_accuracy: 0.5000\n",
            "Epoch 26/50\n",
            "7/7 [==============================] - 14s 2s/step - loss: 0.7020 - accuracy: 0.5491 - val_loss: 0.6926 - val_accuracy: 0.5000\n",
            "Epoch 27/50\n",
            "7/7 [==============================] - 15s 2s/step - loss: 0.6954 - accuracy: 0.4286 - val_loss: 0.6930 - val_accuracy: 0.5000\n",
            "Epoch 28/50\n",
            "7/7 [==============================] - 13s 2s/step - loss: 0.6934 - accuracy: 0.5312 - val_loss: 0.6929 - val_accuracy: 0.5000\n",
            "Epoch 29/50\n",
            "7/7 [==============================] - 14s 2s/step - loss: 0.6952 - accuracy: 0.5223 - val_loss: 0.6921 - val_accuracy: 0.5000\n",
            "Epoch 30/50\n",
            "7/7 [==============================] - 13s 2s/step - loss: 0.6965 - accuracy: 0.4777 - val_loss: 0.6934 - val_accuracy: 0.5000\n",
            "Epoch 31/50\n",
            "7/7 [==============================] - 13s 2s/step - loss: 0.6942 - accuracy: 0.4911 - val_loss: 0.6933 - val_accuracy: 0.5000\n",
            "Epoch 32/50\n",
            "7/7 [==============================] - 15s 2s/step - loss: 0.6935 - accuracy: 0.5045 - val_loss: 0.6931 - val_accuracy: 0.5000\n",
            "Epoch 33/50\n",
            "7/7 [==============================] - 13s 2s/step - loss: 0.6932 - accuracy: 0.5000 - val_loss: 0.6931 - val_accuracy: 0.5000\n",
            "Epoch 34/50\n",
            "7/7 [==============================] - 13s 2s/step - loss: 0.6932 - accuracy: 0.4464 - val_loss: 0.6931 - val_accuracy: 0.5000\n",
            "Epoch 35/50\n",
            "7/7 [==============================] - 13s 2s/step - loss: 0.6955 - accuracy: 0.4911 - val_loss: 0.6931 - val_accuracy: 0.5000\n",
            "Epoch 36/50\n",
            "7/7 [==============================] - 13s 2s/step - loss: 0.6932 - accuracy: 0.5000 - val_loss: 0.6931 - val_accuracy: 0.5000\n",
            "Epoch 37/50\n",
            "7/7 [==============================] - 14s 2s/step - loss: 0.6932 - accuracy: 0.5000 - val_loss: 0.6931 - val_accuracy: 0.5000\n",
            "Epoch 38/50\n",
            "7/7 [==============================] - 14s 2s/step - loss: 0.6932 - accuracy: 0.5000 - val_loss: 0.6931 - val_accuracy: 0.5000\n",
            "Epoch 39/50\n",
            "7/7 [==============================] - 13s 2s/step - loss: 0.6932 - accuracy: 0.5000 - val_loss: 0.6931 - val_accuracy: 0.5000\n",
            "Epoch 40/50\n",
            "7/7 [==============================] - 14s 2s/step - loss: 0.6932 - accuracy: 0.5000 - val_loss: 0.6931 - val_accuracy: 0.5000\n",
            "Epoch 41/50\n",
            "7/7 [==============================] - 13s 2s/step - loss: 0.6932 - accuracy: 0.5000 - val_loss: 0.6931 - val_accuracy: 0.5000\n",
            "Epoch 42/50\n",
            "7/7 [==============================] - 13s 2s/step - loss: 0.6932 - accuracy: 0.5000 - val_loss: 0.6931 - val_accuracy: 0.5000\n",
            "Epoch 43/50\n",
            "7/7 [==============================] - 13s 2s/step - loss: 0.6932 - accuracy: 0.5000 - val_loss: 0.6931 - val_accuracy: 0.5000\n",
            "Epoch 44/50\n",
            "7/7 [==============================] - 14s 2s/step - loss: 0.6932 - accuracy: 0.5000 - val_loss: 0.6931 - val_accuracy: 0.5000\n",
            "Epoch 45/50\n",
            "7/7 [==============================] - 13s 2s/step - loss: 0.6931 - accuracy: 0.5000 - val_loss: 0.6931 - val_accuracy: 0.5000\n",
            "Epoch 46/50\n",
            "7/7 [==============================] - 13s 2s/step - loss: 0.6932 - accuracy: 0.5000 - val_loss: 0.6931 - val_accuracy: 0.5000\n",
            "Epoch 47/50\n",
            "7/7 [==============================] - 15s 2s/step - loss: 0.6932 - accuracy: 0.5000 - val_loss: 0.6931 - val_accuracy: 0.5000\n",
            "Epoch 48/50\n",
            "7/7 [==============================] - 13s 2s/step - loss: 0.6932 - accuracy: 0.5000 - val_loss: 0.6931 - val_accuracy: 0.5000\n",
            "Epoch 49/50\n",
            "7/7 [==============================] - 15s 2s/step - loss: 0.6932 - accuracy: 0.5000 - val_loss: 0.6931 - val_accuracy: 0.5000\n",
            "Epoch 50/50\n",
            "7/7 [==============================] - 13s 2s/step - loss: 0.6932 - accuracy: 0.5000 - val_loss: 0.6931 - val_accuracy: 0.5000\n",
            "Total time taken for training: 802.9483780860901 seconds\n"
          ]
        }
      ],
      "source": [
        "import time\n",
        "\n",
        "start_time = time.time()\n",
        "\n",
        "# fit the model\n",
        "# Training the model with 50 epochs\n",
        "r = CNN_vgg19.fit(\n",
        "  training_set,\n",
        "  validation_data=test_set,\n",
        "  epochs=50,\n",
        "  steps_per_epoch=len(training_set),\n",
        "  validation_steps=len(test_set)\n",
        ")\n",
        "\n",
        "end_time = time.time()\n",
        "time_taken = end_time - start_time\n",
        "\n",
        "print(f\"Total time taken for training: {time_taken} seconds\")"
      ]
    },
    {
      "cell_type": "code",
      "execution_count": null,
      "metadata": {
        "id": "bpjM2KQFSJJ7"
      },
      "outputs": [],
      "source": [
        "from sklearn.metrics import f1_score, accuracy_score, precision_score, recall_score\n",
        "\n",
        "# predict the output of test set\n",
        "predictions = model1.predict(x_test)\n",
        "predictions = np.argmax(predictions, axis=-1)\n",
        "y_test = np.argmax(y_test, axis=-1)\n",
        "\n",
        "# calculate the evaluation metrics\n",
        "f1 = f1_score(y_test, predictions)\n",
        "acc = accuracy_score(y_test, predictions)\n",
        "prec = precision_score(y_test, predictions)\n",
        "recall = recall_score(y_test, predictions)\n",
        "\n",
        "# print the evaluation metrics\n",
        "print(\"F1-score: \", f1)\n",
        "print(\"Accuracy: \", acc)\n",
        "print(\"Precision: \", prec)\n",
        "print(\"Recall: \", recall)\n"
      ]
    },
    {
      "cell_type": "code",
      "source": [
        "##################################\n",
        "import numpy as np\n",
        "\n",
        "# Generate predictions for test set\n",
        "y_pred = CNN_vgg19.predict(test_set)\n",
        "\n",
        "# Convert predicted probabilities to binary class labels\n",
        "y_pred = np.argmax(y_pred, axis=1)\n",
        "\n",
        "# Get true labels\n",
        "y_true = test_set.classes\n",
        "\n",
        "# Calculate evaluation metrics\n",
        "from sklearn.metrics import accuracy_score, precision_score, recall_score, f1_score\n",
        "\n",
        "accuracy = accuracy_score(y_true, y_pred)\n",
        "precision = precision_score(y_true, y_pred)\n",
        "recall = recall_score(y_true, y_pred)\n",
        "f1score = f1_score(y_true, y_pred)\n",
        "\n",
        "print(\"Accuracy:\", accuracy)\n",
        "print(\"Precision:\", precision)\n",
        "print(\"Recall:\", recall)\n",
        "print(\"F1-Score:\", f1score)\n",
        "####################################"
      ],
      "metadata": {
        "id": "YdT073_PL74P"
      },
      "execution_count": null,
      "outputs": []
    },
    {
      "cell_type": "code",
      "execution_count": null,
      "metadata": {
        "id": "TUu4rDttRLax"
      },
      "outputs": [],
      "source": [
        "# train the model\n",
        "history = model.fit(x_train, y_train, epochs=10, batch_size=32, validation_data=(x_test, y_test))\n",
        "\n",
        "# evaluate the model\n",
        "test_loss, test_acc, test_recall, test_precision, test_f1 = model.evaluate(x_test, y_test, verbose=2)\n",
        "\n",
        "# print the evaluation metrics\n",
        "print(\"Test loss: \", test_loss)\n",
        "print(\"Test accuracy: \", test_acc)\n",
        "print(\"Test recall: \", test_recall)\n",
        "print(\"Test precision: \", test_precision)\n",
        "print(\"Test F1-score: \", test_f1)"
      ]
    },
    {
      "cell_type": "code",
      "execution_count": null,
      "metadata": {
        "id": "shVlx3-NPfCP"
      },
      "outputs": [],
      "source": [
        "acc = r.history['accuracy']\n",
        "val_acc = r.history['val_accuracy']\n",
        "loss = r.history['loss']\n",
        "val_loss = r.history['val_loss']\n",
        "epochs = range(1, len(acc) + 1)\n",
        "\n",
        "plt.title('Training and validation accuracy')\n",
        "plt.plot(epochs, acc, label='Training acc')\n",
        "plt.plot(epochs, val_acc, label='Validation acc')\n",
        "plt.legend()\n",
        "\n",
        "plt.figure()\n",
        "plt.title('Training and validation loss')\n",
        "plt.plot(epochs, loss, label='Training loss')\n",
        "plt.plot(epochs, val_loss, label='Validation loss')\n",
        "\n",
        "plt.legend()\n",
        "\n",
        "plt.show()"
      ]
    },
    {
      "cell_type": "code",
      "execution_count": null,
      "metadata": {
        "id": "yYu9dZb1PkHP"
      },
      "outputs": [],
      "source": [
        "score_inc = r.evaluate(test_set)\n",
        "print(\"Test Loss:\", score_inc[0])\n",
        "print(\"Test Accuracy:\", score_inc[1])"
      ]
    },
    {
      "cell_type": "code",
      "execution_count": null,
      "metadata": {
        "id": "vzL8hkuDWWVb"
      },
      "outputs": [],
      "source": [
        "y_pred_inc = CNN_inc.predict(test_set)\n",
        "y_pred_inc = np.round(y_pred_inc)\n",
        "\n",
        "recall_inc = recall_score(y_test, y_pred_inc)\n",
        "precision_inc = precision_score(y_test, y_pred_inc)\n",
        "f1_inc = f1_score(y_test, y_pred_inc)\n",
        "roc_inc = roc_auc_score(y_test, y_pred_inc)"
      ]
    },
    {
      "cell_type": "code",
      "execution_count": null,
      "metadata": {
        "id": "c958oqwAW1nS"
      },
      "outputs": [],
      "source": [
        "print(classification_report(y_test, y_pred_inc))"
      ]
    },
    {
      "cell_type": "code",
      "execution_count": null,
      "metadata": {
        "id": "cyZUf1AxW5X5"
      },
      "outputs": [],
      "source": [
        "plt.figure(figsize = (6, 4))\n",
        "\n",
        "sns.heatmap(confusion_matrix(y_test, y_pred_inc),annot = True, fmt = 'd')\n",
        "plt.title(\"Confusion Matrix\")\n",
        "plt.xlabel(\"Predicted\")\n",
        "plt.ylabel(\"True\")\n",
        "\n",
        "plt.show()"
      ]
    },
    {
      "cell_type": "markdown",
      "metadata": {
        "id": "GwWJzVFzPpd8"
      },
      "source": [
        "MobileNet "
      ]
    },
    {
      "cell_type": "code",
      "execution_count": null,
      "metadata": {
        "id": "x6HTar9iM1NZ"
      },
      "outputs": [],
      "source": [
        "from tensorflow.keras.models import Sequential\n",
        "from tensorflow.keras.layers import Conv2D, MaxPooling2D, Dropout, Flatten, Dense, BatchNormalization, GlobalAveragePooling2D, SpatialDropout2D"
      ]
    },
    {
      "cell_type": "code",
      "execution_count": null,
      "metadata": {
        "id": "2-kajpiiNMID"
      },
      "outputs": [],
      "source": [
        "from tensorflow.keras.applications.inception_v3 import InceptionV3\n",
        "from tensorflow.keras.applications.xception import Xception\n",
        "from tensorflow.keras.applications.vgg16 import VGG16\n",
        "from tensorflow.keras.applications.mobilenet import MobileNet\n",
        "from tensorflow.keras.optimizers import RMSprop\n",
        "from tensorflow.keras.models import Model\n",
        "from tensorflow.keras.utils import plot_model\n"
      ]
    },
    {
      "cell_type": "code",
      "execution_count": null,
      "metadata": {
        "colab": {
          "base_uri": "https://localhost:8080/"
        },
        "id": "bd4j37cUPrpy",
        "outputId": "1b8f5d99-7ebb-4c8c-e80e-d5d6e7f78341"
      },
      "outputs": [
        {
          "output_type": "stream",
          "name": "stdout",
          "text": [
            "Downloading data from https://storage.googleapis.com/tensorflow/keras-applications/mobilenet/mobilenet_1_0_224_tf_no_top.h5\n",
            "17225924/17225924 [==============================] - 0s 0us/step\n"
          ]
        }
      ],
      "source": [
        "from keras.applications.mobilenet import MobileNet\n",
        "from keras.layers import Dense, Dropout, GlobalAveragePooling2D\n",
        "from keras.models import Model\n",
        "\n",
        "mobilenet = MobileNet(weights='imagenet', include_top=False, input_shape=(224, 224, 3))\n",
        "\n",
        "x = mobilenet.output\n",
        "x = GlobalAveragePooling2D()(x)\n",
        "x = Dense(1024, activation='relu')(x)\n",
        "x = Dropout(0.5)(x)\n",
        "x = Dense(512, activation='relu')(x)\n",
        "x = Dropout(0.5)(x)\n",
        "predictions = Dense((2), activation='softmax')(x)\n",
        "\n",
        "model = Model(inputs=mobilenet.input, outputs=predictions)\n"
      ]
    },
    {
      "cell_type": "code",
      "execution_count": null,
      "metadata": {
        "id": "njfrzj_7JPzD"
      },
      "outputs": [],
      "source": [
        "CNN_base_mobilenet = MobileNet(input_shape = (224, 224, 3), include_top = False, weights = 'imagenet')"
      ]
    },
    {
      "cell_type": "code",
      "execution_count": null,
      "metadata": {
        "id": "DTXw-rZwJTwl"
      },
      "outputs": [],
      "source": [
        "for layer in CNN_base_mobilenet.layers:\n",
        "    layer.trainable = False"
      ]
    },
    {
      "cell_type": "code",
      "source": [
        "CNN_base_mobilenet.summary()"
      ],
      "metadata": {
        "id": "QgDjLgqrZTK1"
      },
      "execution_count": null,
      "outputs": []
    },
    {
      "cell_type": "code",
      "execution_count": null,
      "metadata": {
        "id": "f3UvrWVtLWNM"
      },
      "outputs": [],
      "source": [
        "CNN_mobilenet = Sequential()\n",
        "CNN_mobilenet.add(BatchNormalization(input_shape = (224, 224, 3)))\n",
        "CNN_mobilenet.add(CNN_base_mobilenet)\n",
        "CNN_mobilenet.add(BatchNormalization())\n",
        "CNN_mobilenet.add(GlobalAveragePooling2D())\n",
        "CNN_mobilenet.add(Dropout(0.5))\n",
        "CNN_mobilenet.add(Dense(2, activation = 'softmax'))\n",
        "\n",
        "CNN_mobilenet.summary()"
      ]
    },
    {
      "cell_type": "code",
      "execution_count": null,
      "metadata": {
        "id": "mmb_pbmdLZVA"
      },
      "outputs": [],
      "source": [
        "plot_model(CNN_mobilenet, to_file = \"mobmod.png\", show_layer_names = True , show_shapes = True)"
      ]
    },
    {
      "cell_type": "code",
      "source": [
        "CNN_mobilenet.compile(\n",
        "  loss='categorical_crossentropy',\n",
        "  optimizer='adam',\n",
        "  metrics=['accuracy']\n",
        ")"
      ],
      "metadata": {
        "id": "9eyOLL3Kj4_k"
      },
      "execution_count": null,
      "outputs": []
    },
    {
      "cell_type": "code",
      "source": [
        "import time\n",
        "\n",
        "start_time = time.time()\n",
        "\n",
        "# fit the model\n",
        "# Training the model with 50 epochs\n",
        "r = CNN_mobilenet.fit(\n",
        "  training_set,\n",
        "  validation_data=test_set,\n",
        "  epochs=50,\n",
        "  steps_per_epoch=len(training_set),\n",
        "  validation_steps=len(test_set)\n",
        ")\n",
        "\n",
        "end_time = time.time()\n",
        "time_taken = end_time - start_time\n",
        "\n",
        "print(f\"Total time taken for training: {time_taken} seconds\")"
      ],
      "metadata": {
        "colab": {
          "base_uri": "https://localhost:8080/"
        },
        "id": "G3VEPot_j4mO",
        "outputId": "84dd0eac-88e3-4b99-b458-7522ec8bcd64"
      },
      "execution_count": null,
      "outputs": [
        {
          "output_type": "stream",
          "name": "stdout",
          "text": [
            "Epoch 1/50\n",
            "7/7 [==============================] - 18s 2s/step - loss: 0.6015 - accuracy: 0.6741 - val_loss: 0.6462 - val_accuracy: 0.6000\n",
            "Epoch 2/50\n",
            "7/7 [==============================] - 13s 2s/step - loss: 0.2924 - accuracy: 0.9107 - val_loss: 0.1680 - val_accuracy: 0.9667\n",
            "Epoch 3/50\n",
            "7/7 [==============================] - 13s 2s/step - loss: 0.1404 - accuracy: 0.9777 - val_loss: 0.0935 - val_accuracy: 0.9833\n",
            "Epoch 4/50\n",
            "7/7 [==============================] - 13s 2s/step - loss: 0.1147 - accuracy: 0.9777 - val_loss: 0.0722 - val_accuracy: 0.9833\n",
            "Epoch 5/50\n",
            "7/7 [==============================] - 14s 2s/step - loss: 0.0823 - accuracy: 0.9777 - val_loss: 0.0619 - val_accuracy: 0.9833\n",
            "Epoch 6/50\n",
            "7/7 [==============================] - 14s 2s/step - loss: 0.0821 - accuracy: 0.9732 - val_loss: 0.0548 - val_accuracy: 0.9833\n",
            "Epoch 7/50\n",
            "7/7 [==============================] - 14s 2s/step - loss: 0.0719 - accuracy: 0.9777 - val_loss: 0.0503 - val_accuracy: 0.9833\n",
            "Epoch 8/50\n",
            "7/7 [==============================] - 16s 2s/step - loss: 0.0533 - accuracy: 0.9866 - val_loss: 0.0475 - val_accuracy: 0.9833\n",
            "Epoch 9/50\n",
            "7/7 [==============================] - 12s 2s/step - loss: 0.0450 - accuracy: 0.9955 - val_loss: 0.0459 - val_accuracy: 0.9833\n",
            "Epoch 10/50\n",
            "7/7 [==============================] - 13s 2s/step - loss: 0.0680 - accuracy: 0.9821 - val_loss: 0.0445 - val_accuracy: 0.9833\n",
            "Epoch 11/50\n",
            "7/7 [==============================] - 19s 3s/step - loss: 0.0663 - accuracy: 0.9688 - val_loss: 0.0434 - val_accuracy: 0.9833\n",
            "Epoch 12/50\n",
            "7/7 [==============================] - 18s 2s/step - loss: 0.0491 - accuracy: 0.9911 - val_loss: 0.0415 - val_accuracy: 0.9833\n",
            "Epoch 13/50\n",
            "7/7 [==============================] - 15s 2s/step - loss: 0.0613 - accuracy: 0.9866 - val_loss: 0.0410 - val_accuracy: 0.9833\n",
            "Epoch 14/50\n",
            "7/7 [==============================] - 12s 2s/step - loss: 0.0592 - accuracy: 0.9777 - val_loss: 0.0417 - val_accuracy: 0.9833\n",
            "Epoch 15/50\n",
            "7/7 [==============================] - 16s 2s/step - loss: 0.0323 - accuracy: 1.0000 - val_loss: 0.0430 - val_accuracy: 0.9833\n",
            "Epoch 16/50\n",
            "7/7 [==============================] - 12s 2s/step - loss: 0.0486 - accuracy: 0.9911 - val_loss: 0.0430 - val_accuracy: 0.9833\n",
            "Epoch 17/50\n",
            "7/7 [==============================] - 12s 2s/step - loss: 0.0360 - accuracy: 0.9911 - val_loss: 0.0413 - val_accuracy: 0.9833\n",
            "Epoch 18/50\n",
            "7/7 [==============================] - 12s 2s/step - loss: 0.0244 - accuracy: 1.0000 - val_loss: 0.0400 - val_accuracy: 0.9833\n",
            "Epoch 19/50\n",
            "7/7 [==============================] - 13s 2s/step - loss: 0.0250 - accuracy: 0.9955 - val_loss: 0.0393 - val_accuracy: 0.9833\n",
            "Epoch 20/50\n",
            "7/7 [==============================] - 12s 2s/step - loss: 0.0302 - accuracy: 0.9955 - val_loss: 0.0389 - val_accuracy: 0.9833\n",
            "Epoch 21/50\n",
            "7/7 [==============================] - 12s 2s/step - loss: 0.0296 - accuracy: 1.0000 - val_loss: 0.0388 - val_accuracy: 0.9833\n",
            "Epoch 22/50\n",
            "7/7 [==============================] - 12s 2s/step - loss: 0.0438 - accuracy: 0.9911 - val_loss: 0.0375 - val_accuracy: 0.9833\n",
            "Epoch 23/50\n",
            "7/7 [==============================] - 13s 2s/step - loss: 0.0385 - accuracy: 0.9911 - val_loss: 0.0376 - val_accuracy: 0.9833\n",
            "Epoch 24/50\n",
            "7/7 [==============================] - 13s 2s/step - loss: 0.0125 - accuracy: 1.0000 - val_loss: 0.0374 - val_accuracy: 0.9833\n",
            "Epoch 25/50\n",
            "7/7 [==============================] - 12s 2s/step - loss: 0.0282 - accuracy: 0.9911 - val_loss: 0.0357 - val_accuracy: 0.9833\n",
            "Epoch 26/50\n",
            "7/7 [==============================] - 12s 2s/step - loss: 0.0221 - accuracy: 0.9955 - val_loss: 0.0347 - val_accuracy: 0.9833\n",
            "Epoch 27/50\n",
            "7/7 [==============================] - 12s 2s/step - loss: 0.0238 - accuracy: 0.9955 - val_loss: 0.0351 - val_accuracy: 0.9833\n",
            "Epoch 28/50\n",
            "7/7 [==============================] - 14s 2s/step - loss: 0.0229 - accuracy: 0.9955 - val_loss: 0.0359 - val_accuracy: 0.9833\n",
            "Epoch 29/50\n",
            "7/7 [==============================] - 12s 2s/step - loss: 0.0370 - accuracy: 0.9777 - val_loss: 0.0350 - val_accuracy: 0.9833\n",
            "Epoch 30/50\n",
            "7/7 [==============================] - 13s 2s/step - loss: 0.0197 - accuracy: 0.9955 - val_loss: 0.0340 - val_accuracy: 0.9833\n",
            "Epoch 31/50\n",
            "7/7 [==============================] - 13s 2s/step - loss: 0.0196 - accuracy: 1.0000 - val_loss: 0.0337 - val_accuracy: 0.9833\n",
            "Epoch 32/50\n",
            "7/7 [==============================] - 12s 2s/step - loss: 0.0319 - accuracy: 0.9911 - val_loss: 0.0359 - val_accuracy: 0.9833\n",
            "Epoch 33/50\n",
            "7/7 [==============================] - 13s 2s/step - loss: 0.0220 - accuracy: 0.9911 - val_loss: 0.0359 - val_accuracy: 0.9833\n",
            "Epoch 34/50\n",
            "7/7 [==============================] - 11s 2s/step - loss: 0.0128 - accuracy: 1.0000 - val_loss: 0.0348 - val_accuracy: 0.9833\n",
            "Epoch 35/50\n",
            "7/7 [==============================] - 12s 2s/step - loss: 0.0119 - accuracy: 1.0000 - val_loss: 0.0344 - val_accuracy: 0.9833\n",
            "Epoch 36/50\n",
            "7/7 [==============================] - 12s 2s/step - loss: 0.0113 - accuracy: 1.0000 - val_loss: 0.0344 - val_accuracy: 0.9833\n",
            "Epoch 37/50\n",
            "7/7 [==============================] - 12s 2s/step - loss: 0.0074 - accuracy: 1.0000 - val_loss: 0.0336 - val_accuracy: 0.9833\n",
            "Epoch 38/50\n",
            "7/7 [==============================] - 13s 2s/step - loss: 0.0097 - accuracy: 1.0000 - val_loss: 0.0326 - val_accuracy: 0.9833\n",
            "Epoch 39/50\n",
            "7/7 [==============================] - 13s 2s/step - loss: 0.0390 - accuracy: 0.9821 - val_loss: 0.0308 - val_accuracy: 0.9833\n",
            "Epoch 40/50\n",
            "7/7 [==============================] - 13s 2s/step - loss: 0.0063 - accuracy: 1.0000 - val_loss: 0.0290 - val_accuracy: 0.9833\n",
            "Epoch 41/50\n",
            "7/7 [==============================] - 12s 2s/step - loss: 0.0385 - accuracy: 0.9911 - val_loss: 0.0302 - val_accuracy: 0.9833\n",
            "Epoch 42/50\n",
            "7/7 [==============================] - 13s 2s/step - loss: 0.0197 - accuracy: 0.9911 - val_loss: 0.0311 - val_accuracy: 0.9833\n",
            "Epoch 43/50\n",
            "7/7 [==============================] - 13s 2s/step - loss: 0.0227 - accuracy: 0.9955 - val_loss: 0.0310 - val_accuracy: 0.9833\n",
            "Epoch 44/50\n",
            "7/7 [==============================] - 12s 2s/step - loss: 0.0196 - accuracy: 0.9911 - val_loss: 0.0322 - val_accuracy: 0.9833\n",
            "Epoch 45/50\n",
            "7/7 [==============================] - 13s 2s/step - loss: 0.0085 - accuracy: 1.0000 - val_loss: 0.0307 - val_accuracy: 0.9833\n",
            "Epoch 46/50\n",
            "7/7 [==============================] - 13s 2s/step - loss: 0.0167 - accuracy: 1.0000 - val_loss: 0.0290 - val_accuracy: 0.9833\n",
            "Epoch 47/50\n",
            "7/7 [==============================] - 13s 2s/step - loss: 0.0136 - accuracy: 1.0000 - val_loss: 0.0276 - val_accuracy: 0.9833\n",
            "Epoch 48/50\n",
            "7/7 [==============================] - 12s 2s/step - loss: 0.0142 - accuracy: 0.9955 - val_loss: 0.0262 - val_accuracy: 0.9833\n",
            "Epoch 49/50\n",
            "7/7 [==============================] - 13s 2s/step - loss: 0.0072 - accuracy: 1.0000 - val_loss: 0.0253 - val_accuracy: 0.9833\n",
            "Epoch 50/50\n",
            "7/7 [==============================] - 13s 2s/step - loss: 0.0163 - accuracy: 0.9955 - val_loss: 0.0246 - val_accuracy: 0.9833\n",
            "Total time taken for training: 730.7816143035889 seconds\n"
          ]
        }
      ]
    },
    {
      "cell_type": "code",
      "source": [
        "acc = r.history['accuracy']\n",
        "val_acc = r.history['val_accuracy']\n",
        "loss = r.history['loss']\n",
        "val_loss = r.history['val_loss']\n",
        "epochs = range(1, len(acc) + 1)\n",
        "\n",
        "plt.title('Training and validation accuracy')\n",
        "plt.plot(epochs, acc, 'orange', label='Training acc')\n",
        "plt.plot(epochs, val_acc, 'blue', label='Validation acc')\n",
        "plt.legend()\n",
        "\n",
        "plt.figure()\n",
        "plt.title('Training and validation loss')\n",
        "plt.plot(epochs, loss, 'orange', label='Training loss')\n",
        "plt.plot(epochs, val_loss, 'blue', label='Validation loss')\n",
        "\n",
        "plt.legend()\n",
        "\n",
        "plt.show()"
      ],
      "metadata": {
        "colab": {
          "base_uri": "https://localhost:8080/",
          "height": 887
        },
        "id": "-WWYDfY2j6jp",
        "outputId": "d167eb64-b964-4723-994f-5c5d90c5cc38"
      },
      "execution_count": null,
      "outputs": [
        {
          "output_type": "display_data",
          "data": {
            "text/plain": [
              "<Figure size 640x480 with 1 Axes>"
            ],
            "image/png": "[encoded data removed]"
          },
          "metadata": {}
        },
        {
          "output_type": "display_data",
          "data": {
            "text/plain": [
              "<Figure size 640x480 with 1 Axes>"
            ],
            "image/png": "[encoded data removed]"
          },
          "metadata": {}
        }
      ]
    },
    {
      "cell_type": "code",
      "execution_count": null,
      "metadata": {
        "id": "BMPl4yLWONWV"
      },
      "outputs": [],
      "source": [
        "from tensorflow.keras.callbacks import EarlyStopping"
      ]
    },
    {
      "cell_type": "code",
      "execution_count": null,
      "metadata": {
        "id": "-SpX2q8GOBUp"
      },
      "outputs": [],
      "source": [
        "# Callbacks\n",
        "cb = [EarlyStopping(monitor = 'loss', mode = 'min', patience = 5, restore_best_weights = True)]"
      ]
    },
    {
      "cell_type": "code",
      "execution_count": null,
      "metadata": {
        "id": "bsj3t--3NhrT"
      },
      "outputs": [],
      "source": [
        "import datetime as dt"
      ]
    },
    {
      "cell_type": "code",
      "execution_count": null,
      "metadata": {
        "colab": {
          "base_uri": "https://localhost:8080/"
        },
        "id": "F7HEUwDoLayh",
        "outputId": "ad724a66-b1f0-4e03-b7ef-172eb0359f78"
      },
      "outputs": [
        {
          "name": "stdout",
          "output_type": "stream",
          "text": [
            "Epoch 1/50\n",
            "7/7 [==============================] - 14s 2s/step - loss: 0.0309 - accuracy: 0.9955 - val_loss: 0.0295 - val_accuracy: 1.0000\n",
            "Epoch 2/50\n",
            "7/7 [==============================] - 9s 1s/step - loss: 0.0231 - accuracy: 1.0000 - val_loss: 0.0257 - val_accuracy: 1.0000\n",
            "Epoch 3/50\n",
            "7/7 [==============================] - 9s 1s/step - loss: 0.0209 - accuracy: 0.9955 - val_loss: 0.0239 - val_accuracy: 0.9833\n",
            "Epoch 4/50\n",
            "7/7 [==============================] - 9s 1s/step - loss: 0.0306 - accuracy: 0.9777 - val_loss: 0.0222 - val_accuracy: 0.9833\n",
            "Epoch 5/50\n",
            "7/7 [==============================] - 9s 1s/step - loss: 0.0187 - accuracy: 0.9955 - val_loss: 0.0192 - val_accuracy: 1.0000\n",
            "Epoch 6/50\n",
            "7/7 [==============================] - 9s 1s/step - loss: 0.0150 - accuracy: 0.9955 - val_loss: 0.0172 - val_accuracy: 1.0000\n",
            "Epoch 7/50\n",
            "7/7 [==============================] - 10s 1s/step - loss: 0.0208 - accuracy: 0.9866 - val_loss: 0.0166 - val_accuracy: 1.0000\n",
            "Epoch 8/50\n",
            "7/7 [==============================] - 9s 1s/step - loss: 0.0199 - accuracy: 0.9955 - val_loss: 0.0173 - val_accuracy: 1.0000\n",
            "Epoch 9/50\n",
            "7/7 [==============================] - 9s 1s/step - loss: 0.0177 - accuracy: 0.9955 - val_loss: 0.0176 - val_accuracy: 1.0000\n",
            "Epoch 10/50\n",
            "7/7 [==============================] - 10s 1s/step - loss: 0.0099 - accuracy: 1.0000 - val_loss: 0.0187 - val_accuracy: 0.9833\n",
            "Epoch 11/50\n",
            "7/7 [==============================] - 9s 1s/step - loss: 0.0202 - accuracy: 1.0000 - val_loss: 0.0194 - val_accuracy: 0.9833\n",
            "Epoch 12/50\n",
            "7/7 [==============================] - 9s 1s/step - loss: 0.0087 - accuracy: 1.0000 - val_loss: 0.0181 - val_accuracy: 0.9833\n",
            "Epoch 13/50\n",
            "7/7 [==============================] - 9s 1s/step - loss: 0.0179 - accuracy: 0.9955 - val_loss: 0.0195 - val_accuracy: 0.9833\n",
            "Epoch 14/50\n",
            "7/7 [==============================] - 9s 1s/step - loss: 0.0171 - accuracy: 0.9955 - val_loss: 0.0205 - val_accuracy: 0.9833\n",
            "Epoch 15/50\n",
            "7/7 [==============================] - 9s 1s/step - loss: 0.0183 - accuracy: 0.9866 - val_loss: 0.0234 - val_accuracy: 0.9833\n",
            "Epoch 16/50\n",
            "7/7 [==============================] - 9s 1s/step - loss: 0.0114 - accuracy: 0.9955 - val_loss: 0.0221 - val_accuracy: 0.9833\n",
            "Epoch 17/50\n",
            "7/7 [==============================] - 9s 1s/step - loss: 0.0192 - accuracy: 0.9955 - val_loss: 0.0227 - val_accuracy: 0.9833\n",
            "\n",
            "Training and validation time:  0:02:42.302493\n"
          ]
        }
      ],
      "source": [
        "# Compilation\n",
        "CNN_mobilenet.compile(optimizer='adam',loss = 'categorical_crossentropy', metrics=['accuracy'])\n",
        "\n",
        "# Start of counting time\n",
        "start = dt.datetime.now()\n",
        "\n",
        "# Training and validation\n",
        "CNN_mobilenet_history = CNN_mobilenet.fit(training_set, epochs = 50, validation_data = test_set, callbacks = cb)\n",
        "\n",
        "# End of Time Counting\n",
        "end = dt.datetime.now()\n",
        "time_CNN_mobilenet = end - start\n",
        "print ('\\nTraining and validation time: ', time_CNN_mobilenet)"
      ]
    },
    {
      "cell_type": "code",
      "source": [
        "##################################\n",
        "import numpy as np\n",
        "\n",
        "# Generate predictions for test set\n",
        "y_pred = model.predict_generator(test_set)\n",
        "\n",
        "# Convert predicted probabilities to binary class labels\n",
        "y_pred = np.argmax(y_pred, axis=1)\n",
        "\n",
        "# Get true labels\n",
        "y_true = test_set.classes\n",
        "\n",
        "# Calculate evaluation metrics\n",
        "from sklearn.metrics import accuracy_score, precision_score, recall_score, f1_score\n",
        "\n",
        "accuracy = accuracy_score(y_true, y_pred)\n",
        "precision = precision_score(y_true, y_pred)\n",
        "recall = recall_score(y_true, y_pred)\n",
        "f1score = f1_score(y_true, y_pred)\n",
        "\n",
        "print(\"Accuracy:\", accuracy)\n",
        "print(\"Precision:\", precision)\n",
        "print(\"Recall:\", recall)\n",
        "print(\"F1-Score:\", f1score)\n",
        "####################################"
      ],
      "metadata": {
        "id": "N8ILB1i7b2s3"
      },
      "execution_count": null,
      "outputs": []
    },
    {
      "cell_type": "code",
      "execution_count": null,
      "metadata": {
        "colab": {
          "base_uri": "https://localhost:8080/",
          "height": 545
        },
        "id": "iNdoiSSYMkgz",
        "outputId": "7319fee6-bc41-4cf6-a3a7-4200b2704429"
      },
      "outputs": [
        {
          "data": {
            "image/png": "[encoded data removed]",
            "text/plain": [
              "<Figure size 432x288 with 1 Axes>"
            ]
          },
          "metadata": {},
          "output_type": "display_data"
        },
        {
          "data": {
            "image/png": "[encoded data removed]",
            "text/plain": [
              "<Figure size 432x288 with 1 Axes>"
            ]
          },
          "metadata": {},
          "output_type": "display_data"
        }
      ],
      "source": [
        "acc = CNN_mobilenet_history.history['accuracy']\n",
        "val_acc = CNN_mobilenet_history.history['val_accuracy']\n",
        "loss = CNN_mobilenet_history.history['loss']\n",
        "val_loss = CNN_mobilenet_history.history['val_loss']\n",
        "epochs = range(1, len(acc) + 1)\n",
        "\n",
        "plt.title('Training and validation accuracy')\n",
        "plt.plot(epochs, acc, 'red', label='Training acc')\n",
        "plt.plot(epochs, val_acc, 'blue', label='Validation acc')\n",
        "plt.legend()\n",
        "\n",
        "plt.figure()\n",
        "plt.title('Training and validation loss')\n",
        "plt.plot(epochs, loss, 'red', label='Training loss')\n",
        "plt.plot(epochs, val_loss, 'blue', label='Validation loss')\n",
        "\n",
        "plt.legend()\n",
        "\n",
        "plt.show()"
      ]
    },
    {
      "cell_type": "markdown",
      "metadata": {
        "id": "QyWtGaOaPsRX"
      },
      "source": [
        "InceptionV3 "
      ]
    },
    {
      "cell_type": "code",
      "execution_count": null,
      "metadata": {
        "id": "zt-3YoMYPw2W",
        "colab": {
          "base_uri": "https://localhost:8080/"
        },
        "outputId": "c1a16b51-cc52-46bb-cf54-7a58d943a5f8"
      },
      "outputs": [
        {
          "output_type": "stream",
          "name": "stdout",
          "text": [
            "Downloading data from https://storage.googleapis.com/tensorflow/keras-applications/inception_v3/inception_v3_weights_tf_dim_ordering_tf_kernels_notop.h5\n",
            "87910968/87910968 [==============================] - 1s 0us/step\n"
          ]
        }
      ],
      "source": [
        "CNN_base_inc = InceptionV3(input_shape = (224, 224, 3), include_top = False, weights = 'imagenet')"
      ]
    },
    {
      "cell_type": "code",
      "execution_count": null,
      "metadata": {
        "id": "xXJLChSyQmSp"
      },
      "outputs": [],
      "source": [
        "for layer in CNN_base_inc.layers:\n",
        "    layer.trainable = False"
      ]
    },
    {
      "cell_type": "code",
      "execution_count": null,
      "metadata": {
        "id": "ESXr3hmFQofQ"
      },
      "outputs": [],
      "source": [
        "x = layers.Flatten()(CNN_base_inc.output)"
      ]
    },
    {
      "cell_type": "code",
      "execution_count": null,
      "metadata": {
        "id": "4cS1cXqnQqKz"
      },
      "outputs": [],
      "source": [
        "x = layers.Dense(256, activation='relu')(x)\n",
        "x = layers.Dropout(0.1)(x)\n",
        "x = layers.Dense(1, activation='sigmoid')(x)\n",
        "\n",
        "CNN_inc = Model(CNN_base_inc.input, x)"
      ]
    },
    {
      "cell_type": "code",
      "execution_count": null,
      "metadata": {
        "id": "8KIs9narQuTq",
        "colab": {
          "base_uri": "https://localhost:8080/",
          "height": 1000
        },
        "outputId": "d7e8fb74-95da-4abf-9261-a65f04a2d231"
      },
      "outputs": [
        {
          "output_type": "stream",
          "name": "stdout",
          "text": [
            "Epoch 1/50\n"
          ]
        },
        {
          "output_type": "error",
          "ename": "InvalidArgumentError",
          "evalue": "ignored",
          "traceback": [
            "\u001b[0;31m---------------------------------------------------------------------------\u001b[0m",
            "\u001b[0;31mInvalidArgumentError\u001b[0m                      Traceback (most recent call last)",
            "\u001b[0;32m<ipython-input-22-064672e1bb4c>\u001b[0m in \u001b[0;36m<module>\u001b[0;34m\u001b[0m\n\u001b[1;32m      6\u001b[0m \u001b[0;34m\u001b[0m\u001b[0m\n\u001b[1;32m      7\u001b[0m \u001b[0;31m# Training and validation\u001b[0m\u001b[0;34m\u001b[0m\u001b[0;34m\u001b[0m\u001b[0;34m\u001b[0m\u001b[0m\n\u001b[0;32m----> 8\u001b[0;31m \u001b[0mCNN_inc_history\u001b[0m \u001b[0;34m=\u001b[0m \u001b[0mCNN_inc\u001b[0m\u001b[0;34m.\u001b[0m\u001b[0mfit\u001b[0m\u001b[0;34m(\u001b[0m\u001b[0mtraining_set\u001b[0m\u001b[0;34m,\u001b[0m \u001b[0mepochs\u001b[0m \u001b[0;34m=\u001b[0m \u001b[0;36m50\u001b[0m\u001b[0;34m,\u001b[0m \u001b[0mvalidation_data\u001b[0m \u001b[0;34m=\u001b[0m \u001b[0mtest_set\u001b[0m\u001b[0;34m)\u001b[0m\u001b[0;34m\u001b[0m\u001b[0;34m\u001b[0m\u001b[0m\n\u001b[0m\u001b[1;32m      9\u001b[0m \u001b[0;34m\u001b[0m\u001b[0m\n\u001b[1;32m     10\u001b[0m \u001b[0;31m# End of Time Counting\u001b[0m\u001b[0;34m\u001b[0m\u001b[0;34m\u001b[0m\u001b[0;34m\u001b[0m\u001b[0m\n",
            "\u001b[0;32m/usr/local/lib/python3.8/dist-packages/keras/utils/traceback_utils.py\u001b[0m in \u001b[0;36merror_handler\u001b[0;34m(*args, **kwargs)\u001b[0m\n\u001b[1;32m     65\u001b[0m     \u001b[0;32mexcept\u001b[0m \u001b[0mException\u001b[0m \u001b[0;32mas\u001b[0m \u001b[0me\u001b[0m\u001b[0;34m:\u001b[0m  \u001b[0;31m# pylint: disable=broad-except\u001b[0m\u001b[0;34m\u001b[0m\u001b[0;34m\u001b[0m\u001b[0m\n\u001b[1;32m     66\u001b[0m       \u001b[0mfiltered_tb\u001b[0m \u001b[0;34m=\u001b[0m \u001b[0m_process_traceback_frames\u001b[0m\u001b[0;34m(\u001b[0m\u001b[0me\u001b[0m\u001b[0;34m.\u001b[0m\u001b[0m__traceback__\u001b[0m\u001b[0;34m)\u001b[0m\u001b[0;34m\u001b[0m\u001b[0;34m\u001b[0m\u001b[0m\n\u001b[0;32m---> 67\u001b[0;31m       \u001b[0;32mraise\u001b[0m \u001b[0me\u001b[0m\u001b[0;34m.\u001b[0m\u001b[0mwith_traceback\u001b[0m\u001b[0;34m(\u001b[0m\u001b[0mfiltered_tb\u001b[0m\u001b[0;34m)\u001b[0m \u001b[0;32mfrom\u001b[0m \u001b[0;32mNone\u001b[0m\u001b[0;34m\u001b[0m\u001b[0;34m\u001b[0m\u001b[0m\n\u001b[0m\u001b[1;32m     68\u001b[0m     \u001b[0;32mfinally\u001b[0m\u001b[0;34m:\u001b[0m\u001b[0;34m\u001b[0m\u001b[0;34m\u001b[0m\u001b[0m\n\u001b[1;32m     69\u001b[0m       \u001b[0;32mdel\u001b[0m \u001b[0mfiltered_tb\u001b[0m\u001b[0;34m\u001b[0m\u001b[0;34m\u001b[0m\u001b[0m\n",
            "\u001b[0;32m/usr/local/lib/python3.8/dist-packages/tensorflow/python/eager/execute.py\u001b[0m in \u001b[0;36mquick_execute\u001b[0;34m(op_name, num_outputs, inputs, attrs, ctx, name)\u001b[0m\n\u001b[1;32m     52\u001b[0m   \u001b[0;32mtry\u001b[0m\u001b[0;34m:\u001b[0m\u001b[0;34m\u001b[0m\u001b[0;34m\u001b[0m\u001b[0m\n\u001b[1;32m     53\u001b[0m     \u001b[0mctx\u001b[0m\u001b[0;34m.\u001b[0m\u001b[0mensure_initialized\u001b[0m\u001b[0;34m(\u001b[0m\u001b[0;34m)\u001b[0m\u001b[0;34m\u001b[0m\u001b[0;34m\u001b[0m\u001b[0m\n\u001b[0;32m---> 54\u001b[0;31m     tensors = pywrap_tfe.TFE_Py_Execute(ctx._handle, device_name, op_name,\n\u001b[0m\u001b[1;32m     55\u001b[0m                                         inputs, attrs, num_outputs)\n\u001b[1;32m     56\u001b[0m   \u001b[0;32mexcept\u001b[0m \u001b[0mcore\u001b[0m\u001b[0;34m.\u001b[0m\u001b[0m_NotOkStatusException\u001b[0m \u001b[0;32mas\u001b[0m \u001b[0me\u001b[0m\u001b[0;34m:\u001b[0m\u001b[0;34m\u001b[0m\u001b[0;34m\u001b[0m\u001b[0m\n",
            "\u001b[0;31mInvalidArgumentError\u001b[0m: Graph execution error:\n\nDetected at node 'gradient_tape/model/dense_1/MatMul/MatMul' defined at (most recent call last):\n    File \"/usr/lib/python3.8/runpy.py\", line 194, in _run_module_as_main\n      return _run_code(code, main_globals, None,\n    File \"/usr/lib/python3.8/runpy.py\", line 87, in _run_code\n      exec(code, run_globals)\n    File \"/usr/local/lib/python3.8/dist-packages/ipykernel_launcher.py\", line 16, in <module>\n      app.launch_new_instance()\n    File \"/usr/local/lib/python3.8/dist-packages/traitlets/config/application.py\", line 992, in launch_instance\n      app.start()\n    File \"/usr/local/lib/python3.8/dist-packages/ipykernel/kernelapp.py\", line 612, in start\n      self.io_loop.start()\n    File \"/usr/local/lib/python3.8/dist-packages/tornado/platform/asyncio.py\", line 149, in start\n      self.asyncio_loop.run_forever()\n    File \"/usr/lib/python3.8/asyncio/base_events.py\", line 570, in run_forever\n      self._run_once()\n    File \"/usr/lib/python3.8/asyncio/base_events.py\", line 1859, in _run_once\n      handle._run()\n    File \"/usr/lib/python3.8/asyncio/events.py\", line 81, in _run\n      self._context.run(self._callback, *self._args)\n    File \"/usr/local/lib/python3.8/dist-packages/tornado/ioloop.py\", line 690, in <lambda>\n      lambda f: self._run_callback(functools.partial(callback, future))\n    File \"/usr/local/lib/python3.8/dist-packages/tornado/ioloop.py\", line 743, in _run_callback\n      ret = callback()\n    File \"/usr/local/lib/python3.8/dist-packages/tornado/gen.py\", line 787, in inner\n      self.run()\n    File \"/usr/local/lib/python3.8/dist-packages/tornado/gen.py\", line 748, in run\n      yielded = self.gen.send(value)\n    File \"/usr/local/lib/python3.8/dist-packages/ipykernel/kernelbase.py\", line 365, in process_one\n      yield gen.maybe_future(dispatch(*args))\n    File \"/usr/local/lib/python3.8/dist-packages/tornado/gen.py\", line 209, in wrapper\n      yielded = next(result)\n    File \"/usr/local/lib/python3.8/dist-packages/ipykernel/kernelbase.py\", line 268, in dispatch_shell\n      yield gen.maybe_future(handler(stream, idents, msg))\n    File \"/usr/local/lib/python3.8/dist-packages/tornado/gen.py\", line 209, in wrapper\n      yielded = next(result)\n    File \"/usr/local/lib/python3.8/dist-packages/ipykernel/kernelbase.py\", line 543, in execute_request\n      self.do_execute(\n    File \"/usr/local/lib/python3.8/dist-packages/tornado/gen.py\", line 209, in wrapper\n      yielded = next(result)\n    File \"/usr/local/lib/python3.8/dist-packages/ipykernel/ipkernel.py\", line 306, in do_execute\n      res = shell.run_cell(code, store_history=store_history, silent=silent)\n    File \"/usr/local/lib/python3.8/dist-packages/ipykernel/zmqshell.py\", line 536, in run_cell\n      return super(ZMQInteractiveShell, self).run_cell(*args, **kwargs)\n    File \"/usr/local/lib/python3.8/dist-packages/IPython/core/interactiveshell.py\", line 2854, in run_cell\n      result = self._run_cell(\n    File \"/usr/local/lib/python3.8/dist-packages/IPython/core/interactiveshell.py\", line 2881, in _run_cell\n      return runner(coro)\n    File \"/usr/local/lib/python3.8/dist-packages/IPython/core/async_helpers.py\", line 68, in _pseudo_sync_runner\n      coro.send(None)\n    File \"/usr/local/lib/python3.8/dist-packages/IPython/core/interactiveshell.py\", line 3057, in run_cell_async\n      has_raised = await self.run_ast_nodes(code_ast.body, cell_name,\n    File \"/usr/local/lib/python3.8/dist-packages/IPython/core/interactiveshell.py\", line 3249, in run_ast_nodes\n      if (await self.run_code(code, result,  async_=asy)):\n    File \"/usr/local/lib/python3.8/dist-packages/IPython/core/interactiveshell.py\", line 3326, in run_code\n      exec(code_obj, self.user_global_ns, self.user_ns)\n    File \"<ipython-input-22-064672e1bb4c>\", line 8, in <module>\n      CNN_inc_history = CNN_inc.fit(training_set, epochs = 50, validation_data = test_set)\n    File \"/usr/local/lib/python3.8/dist-packages/keras/utils/traceback_utils.py\", line 64, in error_handler\n      return fn(*args, **kwargs)\n    File \"/usr/local/lib/python3.8/dist-packages/keras/engine/training.py\", line 1409, in fit\n      tmp_logs = self.train_function(iterator)\n    File \"/usr/local/lib/python3.8/dist-packages/keras/engine/training.py\", line 1051, in train_function\n      return step_function(self, iterator)\n    File \"/usr/local/lib/python3.8/dist-packages/keras/engine/training.py\", line 1040, in step_function\n      outputs = model.distribute_strategy.run(run_step, args=(data,))\n    File \"/usr/local/lib/python3.8/dist-packages/keras/engine/training.py\", line 1030, in run_step\n      outputs = model.train_step(data)\n    File \"/usr/local/lib/python3.8/dist-packages/keras/engine/training.py\", line 893, in train_step\n      self.optimizer.minimize(loss, self.trainable_variables, tape=tape)\n    File \"/usr/local/lib/python3.8/dist-packages/keras/optimizers/optimizer_v2/optimizer_v2.py\", line 537, in minimize\n      grads_and_vars = self._compute_gradients(\n    File \"/usr/local/lib/python3.8/dist-packages/keras/optimizers/optimizer_v2/optimizer_v2.py\", line 590, in _compute_gradients\n      grads_and_vars = self._get_gradients(tape, loss, var_list, grad_loss)\n    File \"/usr/local/lib/python3.8/dist-packages/keras/optimizers/optimizer_v2/optimizer_v2.py\", line 471, in _get_gradients\n      grads = tape.gradient(loss, var_list, grad_loss)\nNode: 'gradient_tape/model/dense_1/MatMul/MatMul'\nMatrix size-incompatible: In[0]: [32,2], In[1]: [256,1]\n\t [[{{node gradient_tape/model/dense_1/MatMul/MatMul}}]] [Op:__inference_train_function_20051]"
          ]
        }
      ],
      "source": [
        "# Compilation\n",
        "CNN_inc.compile(optimizer = 'adam', loss = 'categorical_crossentropy', metrics = ['accuracy'])\n",
        "\n",
        "# Start of counting time\n",
        "start = dt.datetime.now()\n",
        "\n",
        "# Training and validation\n",
        "CNN_inc_history = CNN_inc.fit(training_set, epochs = 50, validation_data = test_set)\n",
        "\n",
        "# End of Time Counting\n",
        "end = dt.datetime.now()\n",
        "time_CNN_inc = end - start\n",
        "print ('\\nTraining and validation time is: ', time_CNN_inc)"
      ]
    },
    {
      "cell_type": "code",
      "execution_count": null,
      "metadata": {
        "colab": {
          "background_save": true
        },
        "id": "_CFncc2RQxN3",
        "outputId": "928cffc2-c419-46e3-f991-2ad8600f8b31"
      },
      "outputs": [
        {
          "data": {
            "image/png": "[encoded data removed]",
            "text/plain": [
              "<Figure size 432x288 with 1 Axes>"
            ]
          },
          "metadata": {},
          "output_type": "display_data"
        },
        {
          "data": {
            "image/png": "[encoded data removed]",
            "text/plain": [
              "<Figure size 432x288 with 1 Axes>"
            ]
          },
          "metadata": {},
          "output_type": "display_data"
        }
      ],
      "source": [
        "acc = CNN_inc_history.history['accuracy']\n",
        "val_acc = CNN_inc_history.history['val_accuracy']\n",
        "loss = CNN_inc_history.history['loss']\n",
        "val_loss = CNN_inc_history.history['val_loss']\n",
        "epochs = range(1, len(acc) + 1)\n",
        "\n",
        "plt.title('Training and validation accuracy')\n",
        "plt.plot(epochs, acc, 'red', label='Training acc')\n",
        "plt.plot(epochs, val_acc, 'blue', label='Validation acc')\n",
        "plt.legend()\n",
        "\n",
        "plt.figure()\n",
        "plt.title('Training and validation loss')\n",
        "plt.plot(epochs, loss, 'red', label='Training loss')\n",
        "plt.plot(epochs, val_loss, 'blue', label='Validation loss')\n",
        "\n",
        "plt.legend()\n",
        "\n",
        "plt.show()"
      ]
    },
    {
      "cell_type": "code",
      "execution_count": null,
      "metadata": {
        "id": "mmSNdAUPQ5OG"
      },
      "outputs": [],
      "source": [
        "score_inc = CNN_inc.evaluate(test_set)\n",
        "print(\"Test Loss:\", score_inc[0])\n",
        "print(\"Test Accuracy:\", score_inc[1])"
      ]
    },
    {
      "cell_type": "markdown",
      "metadata": {
        "id": "sqzhqfL3Purn"
      },
      "source": [
        "ResNet18"
      ]
    },
    {
      "cell_type": "code",
      "execution_count": null,
      "metadata": {
        "id": "yTefjrNjPxVr"
      },
      "outputs": [],
      "source": []
    },
    {
      "cell_type": "markdown",
      "source": [
        "Test "
      ],
      "metadata": {
        "id": "8h3F_cAxU1Nu"
      }
    },
    {
      "cell_type": "code",
      "source": [
        "from keras.layers import Input, Dropout, Conv2D, MaxPooling2D, LSTM, TimeDistributed, Flatten, Dense, BatchNormalization\n",
        "from keras.models import Model\n",
        "\n",
        "# Input layer\n",
        "inputs = Input(shape=(224, 224, 3))\n",
        "\n",
        "# CNN layer\n",
        "x = Conv2D(16, (2, 2), activation='relu', padding='same')(inputs)\n",
        "x = BatchNormalization()(x)\n",
        "x = MaxPooling2D(2,2)(x)\n",
        "x = (Dropout(0.2))(x)\n",
        "\n",
        "x = Conv2D(32, (2, 2), activation='relu', padding='same')(x)\n",
        "x = BatchNormalization()(x)\n",
        "x = MaxPooling2D(2,2)(x)\n",
        "x = (Dropout(0.2))(x)\n",
        "\n",
        "x = Conv2D(64, (2, 2), activation='relu', padding='same')(x)\n",
        "x = BatchNormalization()(x)\n",
        "x = MaxPooling2D(2,2)(x)\n",
        "x = (Dropout(0.2))(x)\n",
        "\n",
        "\n",
        "# LSTM layer\n",
        "x = TimeDistributed(Flatten())(x)\n",
        "x = LSTM(128)(x)\n",
        "x = (Dropout(0.2))(x)\n",
        "\n",
        "# Fully connected layer\n",
        "x = Dense(128, activation='relu')(x)\n",
        "x = (Dropout(0.2))(x)\n",
        "x = Dense(64, activation='relu')(x)\n",
        "x = (Dropout(0.2))(x)\n",
        "x = Dense(2, activation='softmax')(x)\n",
        "\n",
        "# Create model\n",
        "model = Model(inputs, x)\n",
        "model.summary()\n"
      ],
      "metadata": {
        "id": "9F2MbrWpU2OR"
      },
      "execution_count": null,
      "outputs": []
    },
    {
      "cell_type": "code",
      "source": [
        "model.compile(\n",
        "  loss='categorical_crossentropy',\n",
        "  optimizer='adam',\n",
        "  metrics=['accuracy']\n",
        ")"
      ],
      "metadata": {
        "id": "RwISDAMpGL3X"
      },
      "execution_count": null,
      "outputs": []
    },
    {
      "cell_type": "code",
      "source": [
        "import time\n",
        "\n",
        "# Start the timer\n",
        "start_time = time.time()\n",
        "\n",
        "# Compile the model\n",
        "model.compile(optimizer='adam', loss='categorical_crossentropy', metrics=['accuracy'])\n",
        "\n",
        "# Train the model\n",
        "#history = model.fit(train_images, train_labels, validation_data=(val_images, val_labels), epochs=10)\n",
        "history = model.fit(\n",
        "  training_set,\n",
        "  validation_data=test_set,\n",
        "  epochs=50,\n",
        "  steps_per_epoch=len(training_set),\n",
        "  validation_steps=len(test_set)\n",
        ")\n",
        "\n",
        "# End the timer and calculate the elapsed time\n",
        "end_time = time.time()\n",
        "elapsed_time = end_time - start_time\n",
        "print(\"Elapsed time: {:.2f} seconds\".format(elapsed_time))\n"
      ],
      "metadata": {
        "id": "Pg3Kce4PFx5u",
        "colab": {
          "base_uri": "https://localhost:8080/"
        },
        "outputId": "526b2e3c-d484-4aac-8c59-694380d10dc5"
      },
      "execution_count": null,
      "outputs": [
        {
          "output_type": "stream",
          "name": "stdout",
          "text": [
            "Epoch 1/50\n",
            "7/7 [==============================] - 94s 11s/step - loss: 0.6784 - accuracy: 0.5982 - val_loss: 0.6940 - val_accuracy: 0.5167\n",
            "Epoch 2/50\n",
            "7/7 [==============================] - 13s 2s/step - loss: 0.5675 - accuracy: 0.7188 - val_loss: 0.6773 - val_accuracy: 0.5000\n",
            "Epoch 3/50\n",
            "7/7 [==============================] - 12s 2s/step - loss: 0.4275 - accuracy: 0.8304 - val_loss: 0.6734 - val_accuracy: 0.5333\n",
            "Epoch 4/50\n",
            "7/7 [==============================] - 13s 2s/step - loss: 0.2971 - accuracy: 0.8973 - val_loss: 0.6736 - val_accuracy: 0.5333\n",
            "Epoch 5/50\n",
            "7/7 [==============================] - 12s 2s/step - loss: 0.3243 - accuracy: 0.8795 - val_loss: 0.6857 - val_accuracy: 0.5000\n",
            "Epoch 6/50\n",
            "7/7 [==============================] - 14s 2s/step - loss: 0.2548 - accuracy: 0.8929 - val_loss: 0.6879 - val_accuracy: 0.5000\n",
            "Epoch 7/50\n",
            "7/7 [==============================] - 14s 2s/step - loss: 0.1840 - accuracy: 0.9375 - val_loss: 0.6886 - val_accuracy: 0.5000\n",
            "Epoch 8/50\n",
            "7/7 [==============================] - 12s 2s/step - loss: 0.1343 - accuracy: 0.9509 - val_loss: 0.6780 - val_accuracy: 0.7000\n",
            "Epoch 9/50\n",
            "7/7 [==============================] - 12s 2s/step - loss: 0.1425 - accuracy: 0.9509 - val_loss: 0.6750 - val_accuracy: 0.6667\n",
            "Epoch 10/50\n",
            "7/7 [==============================] - 12s 2s/step - loss: 0.1370 - accuracy: 0.9464 - val_loss: 0.6805 - val_accuracy: 0.6000\n",
            "Epoch 11/50\n",
            "7/7 [==============================] - 13s 2s/step - loss: 0.1882 - accuracy: 0.9286 - val_loss: 0.6907 - val_accuracy: 0.5333\n",
            "Epoch 12/50\n",
            "7/7 [==============================] - 12s 2s/step - loss: 0.1311 - accuracy: 0.9598 - val_loss: 0.6932 - val_accuracy: 0.5667\n",
            "Epoch 13/50\n",
            "7/7 [==============================] - 12s 2s/step - loss: 0.1350 - accuracy: 0.9509 - val_loss: 0.6790 - val_accuracy: 0.5667\n",
            "Epoch 14/50\n",
            "7/7 [==============================] - 12s 2s/step - loss: 0.1520 - accuracy: 0.9420 - val_loss: 0.6714 - val_accuracy: 0.5500\n",
            "Epoch 15/50\n",
            "7/7 [==============================] - 17s 3s/step - loss: 0.1271 - accuracy: 0.9643 - val_loss: 0.6704 - val_accuracy: 0.6000\n",
            "Epoch 16/50\n",
            "7/7 [==============================] - 12s 2s/step - loss: 0.1004 - accuracy: 0.9598 - val_loss: 0.7386 - val_accuracy: 0.3167\n",
            "Epoch 17/50\n",
            "7/7 [==============================] - 19s 3s/step - loss: 0.1172 - accuracy: 0.9598 - val_loss: 0.7651 - val_accuracy: 0.3667\n",
            "Epoch 18/50\n",
            "7/7 [==============================] - 12s 2s/step - loss: 0.1358 - accuracy: 0.9554 - val_loss: 0.7346 - val_accuracy: 0.5000\n",
            "Epoch 19/50\n",
            "7/7 [==============================] - 12s 2s/step - loss: 0.0871 - accuracy: 0.9732 - val_loss: 0.7134 - val_accuracy: 0.5000\n",
            "Epoch 20/50\n",
            "7/7 [==============================] - 12s 2s/step - loss: 0.1169 - accuracy: 0.9554 - val_loss: 0.6976 - val_accuracy: 0.5000\n",
            "Epoch 21/50\n",
            "7/7 [==============================] - 13s 2s/step - loss: 0.0879 - accuracy: 0.9643 - val_loss: 0.7243 - val_accuracy: 0.5000\n",
            "Epoch 22/50\n",
            "7/7 [==============================] - 15s 2s/step - loss: 0.0809 - accuracy: 0.9688 - val_loss: 0.7724 - val_accuracy: 0.5000\n",
            "Epoch 23/50\n",
            "7/7 [==============================] - 13s 2s/step - loss: 0.1202 - accuracy: 0.9643 - val_loss: 0.7903 - val_accuracy: 0.5000\n",
            "Epoch 24/50\n",
            "7/7 [==============================] - 12s 2s/step - loss: 0.1452 - accuracy: 0.9554 - val_loss: 0.7971 - val_accuracy: 0.5000\n",
            "Epoch 25/50\n",
            "7/7 [==============================] - 13s 2s/step - loss: 0.0574 - accuracy: 0.9821 - val_loss: 0.7722 - val_accuracy: 0.5000\n",
            "Epoch 26/50\n",
            "7/7 [==============================] - 13s 2s/step - loss: 0.1458 - accuracy: 0.9554 - val_loss: 0.8050 - val_accuracy: 0.5000\n",
            "Epoch 27/50\n",
            "7/7 [==============================] - 12s 2s/step - loss: 0.1167 - accuracy: 0.9509 - val_loss: 0.8542 - val_accuracy: 0.5000\n",
            "Epoch 28/50\n",
            "7/7 [==============================] - 12s 2s/step - loss: 0.1062 - accuracy: 0.9643 - val_loss: 0.7995 - val_accuracy: 0.5000\n",
            "Epoch 29/50\n",
            "7/7 [==============================] - 12s 2s/step - loss: 0.0576 - accuracy: 0.9866 - val_loss: 0.7456 - val_accuracy: 0.5000\n",
            "Epoch 30/50\n",
            "7/7 [==============================] - 13s 2s/step - loss: 0.0772 - accuracy: 0.9688 - val_loss: 0.7922 - val_accuracy: 0.5000\n",
            "Epoch 31/50\n",
            "7/7 [==============================] - 12s 2s/step - loss: 0.0440 - accuracy: 0.9866 - val_loss: 0.8723 - val_accuracy: 0.5000\n",
            "Epoch 32/50\n",
            "7/7 [==============================] - 12s 2s/step - loss: 0.0538 - accuracy: 0.9866 - val_loss: 0.9215 - val_accuracy: 0.5000\n",
            "Epoch 33/50\n",
            "7/7 [==============================] - 12s 2s/step - loss: 0.0763 - accuracy: 0.9732 - val_loss: 0.9330 - val_accuracy: 0.5000\n",
            "Epoch 34/50\n",
            "7/7 [==============================] - 14s 2s/step - loss: 0.0631 - accuracy: 0.9777 - val_loss: 0.8930 - val_accuracy: 0.5000\n",
            "Epoch 35/50\n",
            "7/7 [==============================] - 12s 2s/step - loss: 0.0533 - accuracy: 0.9777 - val_loss: 0.9241 - val_accuracy: 0.5000\n",
            "Epoch 36/50\n",
            "7/7 [==============================] - 12s 2s/step - loss: 0.0495 - accuracy: 0.9777 - val_loss: 1.0228 - val_accuracy: 0.5000\n",
            "Epoch 37/50\n",
            "7/7 [==============================] - 12s 2s/step - loss: 0.0301 - accuracy: 0.9911 - val_loss: 1.1560 - val_accuracy: 0.5000\n",
            "Epoch 38/50\n",
            "7/7 [==============================] - 12s 2s/step - loss: 0.0466 - accuracy: 0.9821 - val_loss: 1.2105 - val_accuracy: 0.5000\n",
            "Epoch 39/50\n",
            "7/7 [==============================] - 12s 2s/step - loss: 0.0592 - accuracy: 0.9598 - val_loss: 1.1764 - val_accuracy: 0.5000\n",
            "Epoch 40/50\n",
            "7/7 [==============================] - 14s 2s/step - loss: 0.0669 - accuracy: 0.9777 - val_loss: 1.1234 - val_accuracy: 0.5000\n",
            "Epoch 41/50\n",
            "7/7 [==============================] - 12s 2s/step - loss: 0.0992 - accuracy: 0.9688 - val_loss: 1.0509 - val_accuracy: 0.5000\n",
            "Epoch 42/50\n",
            "7/7 [==============================] - 12s 2s/step - loss: 0.0655 - accuracy: 0.9732 - val_loss: 1.0049 - val_accuracy: 0.5000\n",
            "Epoch 43/50\n",
            "7/7 [==============================] - 12s 2s/step - loss: 0.0672 - accuracy: 0.9866 - val_loss: 0.9959 - val_accuracy: 0.5000\n",
            "Epoch 44/50\n",
            "7/7 [==============================] - 12s 2s/step - loss: 0.0807 - accuracy: 0.9777 - val_loss: 0.9738 - val_accuracy: 0.5000\n",
            "Epoch 45/50\n",
            "7/7 [==============================] - 12s 2s/step - loss: 0.0676 - accuracy: 0.9777 - val_loss: 0.9165 - val_accuracy: 0.5000\n",
            "Epoch 46/50\n",
            "7/7 [==============================] - 14s 2s/step - loss: 0.1079 - accuracy: 0.9688 - val_loss: 0.7771 - val_accuracy: 0.5000\n",
            "Epoch 47/50\n",
            "7/7 [==============================] - 12s 2s/step - loss: 0.0572 - accuracy: 0.9911 - val_loss: 0.6096 - val_accuracy: 0.6667\n",
            "Epoch 48/50\n",
            "7/7 [==============================] - 14s 2s/step - loss: 0.0787 - accuracy: 0.9598 - val_loss: 0.6727 - val_accuracy: 0.5000\n",
            "Epoch 49/50\n",
            "7/7 [==============================] - 12s 2s/step - loss: 0.0435 - accuracy: 0.9866 - val_loss: 1.4754 - val_accuracy: 0.5000\n",
            "Epoch 50/50\n",
            "7/7 [==============================] - 12s 2s/step - loss: 0.0407 - accuracy: 0.9866 - val_loss: 1.1764 - val_accuracy: 0.5333\n",
            "Elapsed time: 781.78 seconds\n"
          ]
        }
      ]
    },
    {
      "cell_type": "code",
      "source": [
        "##################################\n",
        "import numpy as np\n",
        "\n",
        "# Generate predictions for test set\n",
        "y_pred = model.predict(test_set)\n",
        "\n",
        "# Convert predicted probabilities to binary class labels\n",
        "y_pred = np.argmax(y_pred, axis=1)\n",
        "\n",
        "# Get true labels\n",
        "y_true = test_set.classes\n",
        "\n",
        "# Calculate evaluation metrics\n",
        "from sklearn.metrics import accuracy_score, precision_score, recall_score, f1_score\n",
        "\n",
        "accuracy = accuracy_score(y_true, y_pred)\n",
        "precision = precision_score(y_true, y_pred)\n",
        "recall = recall_score(y_true, y_pred)\n",
        "f1score = f1_score(y_true, y_pred)\n",
        "\n",
        "print(\"Accuracy:\", accuracy)\n",
        "print(\"Precision:\", precision)\n",
        "print(\"Recall:\", recall)\n",
        "print(\"F1-Score:\", f1score)\n",
        "####################################"
      ],
      "metadata": {
        "colab": {
          "base_uri": "https://localhost:8080/"
        },
        "id": "K2rwzyfyarRY",
        "outputId": "c44e1586-ee79-4c91-ae71-8b3ea52ac613"
      },
      "execution_count": null,
      "outputs": [
        {
          "output_type": "stream",
          "name": "stdout",
          "text": [
            "2/2 [==============================] - 3s 1s/step\n",
            "Accuracy: 0.5\n",
            "Precision: 0.5\n",
            "Recall: 0.03333333333333333\n",
            "F1-Score: 0.0625\n"
          ]
        }
      ]
    },
    {
      "cell_type": "code",
      "source": [
        "from tensorflow.keras.models import load_model\n",
        "\n",
        "model.save('my_model.h5')\n",
        "\n"
      ],
      "metadata": {
        "colab": {
          "base_uri": "https://localhost:8080/",
          "height": 1000
        },
        "id": "15gFl9Awa-2X",
        "outputId": "ed698802-2133-4eda-acd5-d64f54e5188f"
      },
      "execution_count": null,
      "outputs": [
        {
          "output_type": "stream",
          "name": "stderr",
          "text": [
            "WARNING:tensorflow:Compiled the loaded model, but the compiled metrics have yet to be built. `model.compile_metrics` will be empty until you train or evaluate the model.\n",
            "WARNING:tensorflow:No training configuration found in the save file, so the model was *not* compiled. Compile it manually.\n"
          ]
        },
        {
          "output_type": "stream",
          "name": "stdout",
          "text": [
            "Model: \"model_1\"\n",
            "_________________________________________________________________\n",
            " Layer (type)                Output Shape              Param #   \n",
            "=================================================================\n",
            " input_3 (InputLayer)        [(None, 224, 224, 3)]     0         \n",
            "                                                                 \n",
            " conv1 (Conv2D)              (None, 112, 112, 32)      864       \n",
            "                                                                 \n",
            " conv1_bn (BatchNormalizatio  (None, 112, 112, 32)     128       \n",
            " n)                                                              \n",
            "                                                                 \n",
            " conv1_relu (ReLU)           (None, 112, 112, 32)      0         \n",
            "                                                                 \n",
            " conv_dw_1 (DepthwiseConv2D)  (None, 112, 112, 32)     288       \n",
            "                                                                 \n",
            " conv_dw_1_bn (BatchNormaliz  (None, 112, 112, 32)     128       \n",
            " ation)                                                          \n",
            "                                                                 \n",
            " conv_dw_1_relu (ReLU)       (None, 112, 112, 32)      0         \n",
            "                                                                 \n",
            " conv_pw_1 (Conv2D)          (None, 112, 112, 64)      2048      \n",
            "                                                                 \n",
            " conv_pw_1_bn (BatchNormaliz  (None, 112, 112, 64)     256       \n",
            " ation)                                                          \n",
            "                                                                 \n",
            " conv_pw_1_relu (ReLU)       (None, 112, 112, 64)      0         \n",
            "                                                                 \n",
            " conv_pad_2 (ZeroPadding2D)  (None, 113, 113, 64)      0         \n",
            "                                                                 \n",
            " conv_dw_2 (DepthwiseConv2D)  (None, 56, 56, 64)       576       \n",
            "                                                                 \n",
            " conv_dw_2_bn (BatchNormaliz  (None, 56, 56, 64)       256       \n",
            " ation)                                                          \n",
            "                                                                 \n",
            " conv_dw_2_relu (ReLU)       (None, 56, 56, 64)        0         \n",
            "                                                                 \n",
            " conv_pw_2 (Conv2D)          (None, 56, 56, 128)       8192      \n",
            "                                                                 \n",
            " conv_pw_2_bn (BatchNormaliz  (None, 56, 56, 128)      512       \n",
            " ation)                                                          \n",
            "                                                                 \n",
            " conv_pw_2_relu (ReLU)       (None, 56, 56, 128)       0         \n",
            "                                                                 \n",
            " conv_dw_3 (DepthwiseConv2D)  (None, 56, 56, 128)      1152      \n",
            "                                                                 \n",
            " conv_dw_3_bn (BatchNormaliz  (None, 56, 56, 128)      512       \n",
            " ation)                                                          \n",
            "                                                                 \n",
            " conv_dw_3_relu (ReLU)       (None, 56, 56, 128)       0         \n",
            "                                                                 \n",
            " conv_pw_3 (Conv2D)          (None, 56, 56, 128)       16384     \n",
            "                                                                 \n",
            " conv_pw_3_bn (BatchNormaliz  (None, 56, 56, 128)      512       \n",
            " ation)                                                          \n",
            "                                                                 \n",
            " conv_pw_3_relu (ReLU)       (None, 56, 56, 128)       0         \n",
            "                                                                 \n",
            " conv_pad_4 (ZeroPadding2D)  (None, 57, 57, 128)       0         \n",
            "                                                                 \n",
            " conv_dw_4 (DepthwiseConv2D)  (None, 28, 28, 128)      1152      \n",
            "                                                                 \n",
            " conv_dw_4_bn (BatchNormaliz  (None, 28, 28, 128)      512       \n",
            " ation)                                                          \n",
            "                                                                 \n",
            " conv_dw_4_relu (ReLU)       (None, 28, 28, 128)       0         \n",
            "                                                                 \n",
            " conv_pw_4 (Conv2D)          (None, 28, 28, 256)       32768     \n",
            "                                                                 \n",
            " conv_pw_4_bn (BatchNormaliz  (None, 28, 28, 256)      1024      \n",
            " ation)                                                          \n",
            "                                                                 \n",
            " conv_pw_4_relu (ReLU)       (None, 28, 28, 256)       0         \n",
            "                                                                 \n",
            " conv_dw_5 (DepthwiseConv2D)  (None, 28, 28, 256)      2304      \n",
            "                                                                 \n",
            " conv_dw_5_bn (BatchNormaliz  (None, 28, 28, 256)      1024      \n",
            " ation)                                                          \n",
            "                                                                 \n",
            " conv_dw_5_relu (ReLU)       (None, 28, 28, 256)       0         \n",
            "                                                                 \n",
            " conv_pw_5 (Conv2D)          (None, 28, 28, 256)       65536     \n",
            "                                                                 \n",
            " conv_pw_5_bn (BatchNormaliz  (None, 28, 28, 256)      1024      \n",
            " ation)                                                          \n",
            "                                                                 \n",
            " conv_pw_5_relu (ReLU)       (None, 28, 28, 256)       0         \n",
            "                                                                 \n",
            " conv_pad_6 (ZeroPadding2D)  (None, 29, 29, 256)       0         \n",
            "                                                                 \n",
            " conv_dw_6 (DepthwiseConv2D)  (None, 14, 14, 256)      2304      \n",
            "                                                                 \n",
            " conv_dw_6_bn (BatchNormaliz  (None, 14, 14, 256)      1024      \n",
            " ation)                                                          \n",
            "                                                                 \n",
            " conv_dw_6_relu (ReLU)       (None, 14, 14, 256)       0         \n",
            "                                                                 \n",
            " conv_pw_6 (Conv2D)          (None, 14, 14, 512)       131072    \n",
            "                                                                 \n",
            " conv_pw_6_bn (BatchNormaliz  (None, 14, 14, 512)      2048      \n",
            " ation)                                                          \n",
            "                                                                 \n",
            " conv_pw_6_relu (ReLU)       (None, 14, 14, 512)       0         \n",
            "                                                                 \n",
            " conv_dw_7 (DepthwiseConv2D)  (None, 14, 14, 512)      4608      \n",
            "                                                                 \n",
            " conv_dw_7_bn (BatchNormaliz  (None, 14, 14, 512)      2048      \n",
            " ation)                                                          \n",
            "                                                                 \n",
            " conv_dw_7_relu (ReLU)       (None, 14, 14, 512)       0         \n",
            "                                                                 \n",
            " conv_pw_7 (Conv2D)          (None, 14, 14, 512)       262144    \n",
            "                                                                 \n",
            " conv_pw_7_bn (BatchNormaliz  (None, 14, 14, 512)      2048      \n",
            " ation)                                                          \n",
            "                                                                 \n",
            " conv_pw_7_relu (ReLU)       (None, 14, 14, 512)       0         \n",
            "                                                                 \n",
            " conv_dw_8 (DepthwiseConv2D)  (None, 14, 14, 512)      4608      \n",
            "                                                                 \n",
            " conv_dw_8_bn (BatchNormaliz  (None, 14, 14, 512)      2048      \n",
            " ation)                                                          \n",
            "                                                                 \n",
            " conv_dw_8_relu (ReLU)       (None, 14, 14, 512)       0         \n",
            "                                                                 \n",
            " conv_pw_8 (Conv2D)          (None, 14, 14, 512)       262144    \n",
            "                                                                 \n",
            " conv_pw_8_bn (BatchNormaliz  (None, 14, 14, 512)      2048      \n",
            " ation)                                                          \n",
            "                                                                 \n",
            " conv_pw_8_relu (ReLU)       (None, 14, 14, 512)       0         \n",
            "                                                                 \n",
            " conv_dw_9 (DepthwiseConv2D)  (None, 14, 14, 512)      4608      \n",
            "                                                                 \n",
            " conv_dw_9_bn (BatchNormaliz  (None, 14, 14, 512)      2048      \n",
            " ation)                                                          \n",
            "                                                                 \n",
            " conv_dw_9_relu (ReLU)       (None, 14, 14, 512)       0         \n",
            "                                                                 \n",
            " conv_pw_9 (Conv2D)          (None, 14, 14, 512)       262144    \n",
            "                                                                 \n",
            " conv_pw_9_bn (BatchNormaliz  (None, 14, 14, 512)      2048      \n",
            " ation)                                                          \n",
            "                                                                 \n",
            " conv_pw_9_relu (ReLU)       (None, 14, 14, 512)       0         \n",
            "                                                                 \n",
            " conv_dw_10 (DepthwiseConv2D  (None, 14, 14, 512)      4608      \n",
            " )                                                               \n",
            "                                                                 \n",
            " conv_dw_10_bn (BatchNormali  (None, 14, 14, 512)      2048      \n",
            " zation)                                                         \n",
            "                                                                 \n",
            " conv_dw_10_relu (ReLU)      (None, 14, 14, 512)       0         \n",
            "                                                                 \n",
            " conv_pw_10 (Conv2D)         (None, 14, 14, 512)       262144    \n",
            "                                                                 \n",
            " conv_pw_10_bn (BatchNormali  (None, 14, 14, 512)      2048      \n",
            " zation)                                                         \n",
            "                                                                 \n",
            " conv_pw_10_relu (ReLU)      (None, 14, 14, 512)       0         \n",
            "                                                                 \n",
            " conv_dw_11 (DepthwiseConv2D  (None, 14, 14, 512)      4608      \n",
            " )                                                               \n",
            "                                                                 \n",
            " conv_dw_11_bn (BatchNormali  (None, 14, 14, 512)      2048      \n",
            " zation)                                                         \n",
            "                                                                 \n",
            " conv_dw_11_relu (ReLU)      (None, 14, 14, 512)       0         \n",
            "                                                                 \n",
            " conv_pw_11 (Conv2D)         (None, 14, 14, 512)       262144    \n",
            "                                                                 \n",
            " conv_pw_11_bn (BatchNormali  (None, 14, 14, 512)      2048      \n",
            " zation)                                                         \n",
            "                                                                 \n",
            " conv_pw_11_relu (ReLU)      (None, 14, 14, 512)       0         \n",
            "                                                                 \n",
            " conv_pad_12 (ZeroPadding2D)  (None, 15, 15, 512)      0         \n",
            "                                                                 \n",
            " conv_dw_12 (DepthwiseConv2D  (None, 7, 7, 512)        4608      \n",
            " )                                                               \n",
            "                                                                 \n",
            " conv_dw_12_bn (BatchNormali  (None, 7, 7, 512)        2048      \n",
            " zation)                                                         \n",
            "                                                                 \n",
            " conv_dw_12_relu (ReLU)      (None, 7, 7, 512)         0         \n",
            "                                                                 \n",
            " conv_pw_12 (Conv2D)         (None, 7, 7, 1024)        524288    \n",
            "                                                                 \n",
            " conv_pw_12_bn (BatchNormali  (None, 7, 7, 1024)       4096      \n",
            " zation)                                                         \n",
            "                                                                 \n",
            " conv_pw_12_relu (ReLU)      (None, 7, 7, 1024)        0         \n",
            "                                                                 \n",
            " conv_dw_13 (DepthwiseConv2D  (None, 7, 7, 1024)       9216      \n",
            " )                                                               \n",
            "                                                                 \n",
            " conv_dw_13_bn (BatchNormali  (None, 7, 7, 1024)       4096      \n",
            " zation)                                                         \n",
            "                                                                 \n",
            " conv_dw_13_relu (ReLU)      (None, 7, 7, 1024)        0         \n",
            "                                                                 \n",
            " conv_pw_13 (Conv2D)         (None, 7, 7, 1024)        1048576   \n",
            "                                                                 \n",
            " conv_pw_13_bn (BatchNormali  (None, 7, 7, 1024)       4096      \n",
            " zation)                                                         \n",
            "                                                                 \n",
            " conv_pw_13_relu (ReLU)      (None, 7, 7, 1024)        0         \n",
            "                                                                 \n",
            " global_average_pooling2d (G  (None, 1024)             0         \n",
            " lobalAveragePooling2D)                                          \n",
            "                                                                 \n",
            " dense_5 (Dense)             (None, 1024)              1049600   \n",
            "                                                                 \n",
            " dropout_7 (Dropout)         (None, 1024)              0         \n",
            "                                                                 \n",
            " dense_6 (Dense)             (None, 512)               524800    \n",
            "                                                                 \n",
            " dropout_8 (Dropout)         (None, 512)               0         \n",
            "                                                                 \n",
            " dense_7 (Dense)             (None, 2)                 1026      \n",
            "                                                                 \n",
            "=================================================================\n",
            "Total params: 4,804,290\n",
            "Trainable params: 4,782,402\n",
            "Non-trainable params: 21,888\n",
            "_________________________________________________________________\n"
          ]
        },
        {
          "output_type": "error",
          "ename": "AttributeError",
          "evalue": "ignored",
          "traceback": [
            "\u001b[0;31m---------------------------------------------------------------------------\u001b[0m",
            "\u001b[0;31mAttributeError\u001b[0m                            Traceback (most recent call last)",
            "\u001b[0;32m<ipython-input-40-c1fc08fe2126>\u001b[0m in \u001b[0;36m<cell line: 14>\u001b[0;34m()\u001b[0m\n\u001b[1;32m     12\u001b[0m \u001b[0;34m\u001b[0m\u001b[0m\n\u001b[1;32m     13\u001b[0m \u001b[0;31m# Get the size of the model in bytes\u001b[0m\u001b[0;34m\u001b[0m\u001b[0;34m\u001b[0m\u001b[0m\n\u001b[0;32m---> 14\u001b[0;31m \u001b[0mmodel_size\u001b[0m \u001b[0;34m=\u001b[0m \u001b[0mloaded_model\u001b[0m\u001b[0;34m.\u001b[0m\u001b[0mcount_params\u001b[0m\u001b[0;34m(\u001b[0m\u001b[0;34m)\u001b[0m \u001b[0;34m*\u001b[0m \u001b[0mloaded_model\u001b[0m\u001b[0;34m.\u001b[0m\u001b[0mdtype\u001b[0m\u001b[0;34m.\u001b[0m\u001b[0mitemsize\u001b[0m\u001b[0;34m\u001b[0m\u001b[0;34m\u001b[0m\u001b[0m\n\u001b[0m\u001b[1;32m     15\u001b[0m \u001b[0mprint\u001b[0m\u001b[0;34m(\u001b[0m\u001b[0;34mf\"Size of the model: {model_size} bytes\"\u001b[0m\u001b[0;34m)\u001b[0m\u001b[0;34m\u001b[0m\u001b[0;34m\u001b[0m\u001b[0m\n",
            "\u001b[0;31mAttributeError\u001b[0m: 'str' object has no attribute 'itemsize'"
          ]
        }
      ]
    },
    {
      "cell_type": "code",
      "source": [
        "acc = model.history['accuracy']\n",
        "val_acc = model.history['val_accuracy']\n",
        "loss = model.history['loss']\n",
        "val_loss = model.history['val_loss']\n",
        "epochs = range(1, len(acc) + 1)\n",
        "\n",
        "plt.title('Training and validation accuracy')\n",
        "plt.plot(epochs, acc, 'red', label='Training acc')\n",
        "plt.plot(epochs, val_acc, 'blue', label='Validation acc')\n",
        "plt.legend()\n",
        "\n",
        "plt.figure()\n",
        "plt.title('Training and validation loss')\n",
        "plt.plot(epochs, loss, 'red', label='Training loss')\n",
        "plt.plot(epochs, val_loss, 'blue', label='Validation loss')\n",
        "\n",
        "plt.legend()\n",
        "\n",
        "plt.show()"
      ],
      "metadata": {
        "id": "9jgMfEYiHC8B",
        "colab": {
          "base_uri": "https://localhost:8080/",
          "height": 266
        },
        "outputId": "5d630a96-0e4c-496d-a6ac-33285021f3f8"
      },
      "execution_count": null,
      "outputs": [
        {
          "output_type": "error",
          "ename": "TypeError",
          "evalue": "ignored",
          "traceback": [
            "\u001b[0;31m---------------------------------------------------------------------------\u001b[0m",
            "\u001b[0;31mTypeError\u001b[0m                                 Traceback (most recent call last)",
            "\u001b[0;32m<ipython-input-11-af3da4e3c9ee>\u001b[0m in \u001b[0;36m<cell line: 1>\u001b[0;34m()\u001b[0m\n\u001b[0;32m----> 1\u001b[0;31m \u001b[0macc\u001b[0m \u001b[0;34m=\u001b[0m \u001b[0mmodel\u001b[0m\u001b[0;34m.\u001b[0m\u001b[0mhistory\u001b[0m\u001b[0;34m[\u001b[0m\u001b[0;34m'accuracy'\u001b[0m\u001b[0;34m]\u001b[0m\u001b[0;34m\u001b[0m\u001b[0;34m\u001b[0m\u001b[0m\n\u001b[0m\u001b[1;32m      2\u001b[0m \u001b[0mval_acc\u001b[0m \u001b[0;34m=\u001b[0m \u001b[0mmodel\u001b[0m\u001b[0;34m.\u001b[0m\u001b[0mhistory\u001b[0m\u001b[0;34m[\u001b[0m\u001b[0;34m'val_accuracy'\u001b[0m\u001b[0;34m]\u001b[0m\u001b[0;34m\u001b[0m\u001b[0;34m\u001b[0m\u001b[0m\n\u001b[1;32m      3\u001b[0m \u001b[0mloss\u001b[0m \u001b[0;34m=\u001b[0m \u001b[0mmodel\u001b[0m\u001b[0;34m.\u001b[0m\u001b[0mhistory\u001b[0m\u001b[0;34m[\u001b[0m\u001b[0;34m'loss'\u001b[0m\u001b[0;34m]\u001b[0m\u001b[0;34m\u001b[0m\u001b[0;34m\u001b[0m\u001b[0m\n\u001b[1;32m      4\u001b[0m \u001b[0mval_loss\u001b[0m \u001b[0;34m=\u001b[0m \u001b[0mmodel\u001b[0m\u001b[0;34m.\u001b[0m\u001b[0mhistory\u001b[0m\u001b[0;34m[\u001b[0m\u001b[0;34m'val_loss'\u001b[0m\u001b[0;34m]\u001b[0m\u001b[0;34m\u001b[0m\u001b[0;34m\u001b[0m\u001b[0m\n\u001b[1;32m      5\u001b[0m \u001b[0mepochs\u001b[0m \u001b[0;34m=\u001b[0m \u001b[0mrange\u001b[0m\u001b[0;34m(\u001b[0m\u001b[0;36m1\u001b[0m\u001b[0;34m,\u001b[0m \u001b[0mlen\u001b[0m\u001b[0;34m(\u001b[0m\u001b[0macc\u001b[0m\u001b[0;34m)\u001b[0m \u001b[0;34m+\u001b[0m \u001b[0;36m1\u001b[0m\u001b[0;34m)\u001b[0m\u001b[0;34m\u001b[0m\u001b[0;34m\u001b[0m\u001b[0m\n",
            "\u001b[0;31mTypeError\u001b[0m: 'History' object is not subscriptable"
          ]
        }
      ]
    },
    {
      "cell_type": "code",
      "source": [
        "from tensorflow.keras.utils import plot_model\n",
        "plot_model(model, to_file = \"hybrid.png\", show_layer_names = True , show_shapes = True)"
      ],
      "metadata": {
        "colab": {
          "base_uri": "https://localhost:8080/",
          "height": 1000
        },
        "id": "9bmElCLdXQck",
        "outputId": "fbb0c5f4-fb45-4a6e-9b11-b18b76ee523a"
      },
      "execution_count": null,
      "outputs": [
        {
          "output_type": "execute_result",
          "data": {
            "image/png": "[encoded data removed]",
            "text/plain": [
              "<IPython.core.display.Image object>"
            ]
          },
          "metadata": {},
          "execution_count": 5
        }
      ]
    },
    {
      "cell_type": "code",
      "source": [],
      "metadata": {
        "id": "C0iFRH7vMIoG"
      },
      "execution_count": null,
      "outputs": []
    },
    {
      "cell_type": "code",
      "source": [
        "from keras.layers import Input, Dropout, Conv2D, MaxPooling2D, LSTM, TimeDistributed, Flatten, Dense, BatchNormalization\n",
        "from keras.models import Model\n",
        "\n",
        "# Input layer\n",
        "inputs = Input(shape=(224, 224, 3))\n",
        "\n",
        "# CNN layer\n",
        "x = Conv2D(16, (2, 2), activation='relu', padding='same')(inputs)\n",
        "x = BatchNormalization()(x)\n",
        "x = MaxPooling2D(2,2)(x)\n",
        "x = (Dropout(0.2))(x)\n",
        "\n",
        "x = Conv2D(32, (2, 2), activation='relu', padding='same')(x)\n",
        "x = BatchNormalization()(x)\n",
        "x = MaxPooling2D(2,2)(x)\n",
        "x = (Dropout(0.2))(x)\n",
        "\n",
        "x = Conv2D(64, (2, 2), activation='relu', padding='same')(x)\n",
        "x = BatchNormalization()(x)\n",
        "x = MaxPooling2D(2,2)(x)\n",
        "x = (Dropout(0.2))(x)\n",
        "\n",
        "\n",
        "# LSTM layer\n",
        "x = TimeDistributed(Flatten())(x)\n",
        "x = LSTM(128)(x)\n",
        "x = (Dropout(0.2))(x)\n",
        "\n",
        "# Fully connected layer\n",
        "x = Dense(128, activation='relu')(x)\n",
        "x = (Dropout(0.2))(x)\n",
        "x = Dense(64, activation='relu')(x)\n",
        "x = (Dropout(0.2))(x)\n",
        "x = Dense(2, activation='softmax')(x)\n",
        "\n",
        "# Create model\n",
        "model = Model(inputs, x)\n",
        "model.summary()\n"
      ],
      "metadata": {
        "colab": {
          "base_uri": "https://localhost:8080/",
          "height": 283
        },
        "id": "izBBlUKQXdZP",
        "outputId": "b3cb97d2-fd1e-45a9-eb77-15e97b5889dc"
      },
      "execution_count": null,
      "outputs": [
        {
          "output_type": "error",
          "ename": "TypeError",
          "evalue": "ignored",
          "traceback": [
            "\u001b[0;31m---------------------------------------------------------------------------\u001b[0m",
            "\u001b[0;31mTypeError\u001b[0m                                 Traceback (most recent call last)",
            "\u001b[0;32m<ipython-input-14-556ee6175a10>\u001b[0m in \u001b[0;36m<module>\u001b[0;34m\u001b[0m\n\u001b[1;32m      1\u001b[0m \u001b[0;32mfrom\u001b[0m \u001b[0mkeras\u001b[0m\u001b[0;34m.\u001b[0m\u001b[0mlayers\u001b[0m \u001b[0;32mimport\u001b[0m \u001b[0mInput\u001b[0m\u001b[0;34m,\u001b[0m \u001b[0mDropout\u001b[0m\u001b[0;34m,\u001b[0m \u001b[0mConv2D\u001b[0m\u001b[0;34m,\u001b[0m \u001b[0mMaxPooling2D\u001b[0m\u001b[0;34m,\u001b[0m \u001b[0mLSTM\u001b[0m\u001b[0;34m,\u001b[0m \u001b[0mTimeDistributed\u001b[0m\u001b[0;34m,\u001b[0m \u001b[0mFlatten\u001b[0m\u001b[0;34m,\u001b[0m \u001b[0mDense\u001b[0m\u001b[0;34m,\u001b[0m \u001b[0mBatchNormalization\u001b[0m\u001b[0;34m\u001b[0m\u001b[0;34m\u001b[0m\u001b[0m\n\u001b[1;32m      2\u001b[0m \u001b[0minputs\u001b[0m \u001b[0;34m=\u001b[0m \u001b[0mInput\u001b[0m\u001b[0;34m(\u001b[0m\u001b[0mshape\u001b[0m\u001b[0;34m=\u001b[0m\u001b[0;34m(\u001b[0m\u001b[0;36m28\u001b[0m\u001b[0;34m,\u001b[0m \u001b[0;36m28\u001b[0m\u001b[0;34m,\u001b[0m \u001b[0;36m64\u001b[0m\u001b[0;34m)\u001b[0m\u001b[0;34m)\u001b[0m\u001b[0;34m\u001b[0m\u001b[0;34m\u001b[0m\u001b[0m\n\u001b[0;32m----> 3\u001b[0;31m \u001b[0mx\u001b[0m \u001b[0;34m=\u001b[0m \u001b[0mTimeDistributed\u001b[0m\u001b[0;34m(\u001b[0m\u001b[0mMaxPooling2D\u001b[0m\u001b[0;34m(\u001b[0m\u001b[0;36m2\u001b[0m\u001b[0;34m,\u001b[0m\u001b[0;36m2\u001b[0m\u001b[0;34m)\u001b[0m\u001b[0;34m,\u001b[0m \u001b[0minputs\u001b[0m\u001b[0;34m)\u001b[0m\u001b[0;34m(\u001b[0m\u001b[0mx\u001b[0m\u001b[0;34m)\u001b[0m\u001b[0;34m\u001b[0m\u001b[0;34m\u001b[0m\u001b[0m\n\u001b[0m\u001b[1;32m      4\u001b[0m \u001b[0mx\u001b[0m \u001b[0;34m=\u001b[0m \u001b[0mTimeDistributed\u001b[0m\u001b[0;34m(\u001b[0m\u001b[0mFlatten\u001b[0m\u001b[0;34m(\u001b[0m\u001b[0;34m)\u001b[0m\u001b[0;34m)\u001b[0m\u001b[0;34m(\u001b[0m\u001b[0mx\u001b[0m\u001b[0;34m)\u001b[0m\u001b[0;34m\u001b[0m\u001b[0;34m\u001b[0m\u001b[0m\n\u001b[1;32m      5\u001b[0m \u001b[0mx\u001b[0m \u001b[0;34m=\u001b[0m \u001b[0mLSTM\u001b[0m\u001b[0;34m(\u001b[0m\u001b[0;36m128\u001b[0m\u001b[0;34m)\u001b[0m\u001b[0;34m(\u001b[0m\u001b[0mx\u001b[0m\u001b[0;34m)\u001b[0m\u001b[0;34m\u001b[0m\u001b[0;34m\u001b[0m\u001b[0m\n",
            "\u001b[0;31mTypeError\u001b[0m: __init__() takes 2 positional arguments but 3 were given"
          ]
        }
      ]
    },
    {
      "cell_type": "markdown",
      "source": [
        "Xception"
      ],
      "metadata": {
        "id": "BXyH6A1pfcNO"
      }
    },
    {
      "cell_type": "code",
      "source": [
        "import pandas as pd\n",
        "import numpy as np\n",
        "import datetime as dt\n",
        "import os\n",
        "import os.path\n",
        "from pathlib import Path\n",
        "import glob\n",
        "import cv2\n",
        "import matplotlib.pyplot as plt\n",
        "import seaborn as sns\n",
        "from sklearn.model_selection import train_test_split\n",
        "from sklearn.preprocessing import LabelEncoder\n",
        "from tensorflow.keras.preprocessing.image import ImageDataGenerator, img_to_array, load_img\n",
        "from tensorflow.keras.callbacks import EarlyStopping\n",
        "from tensorflow.keras.models import Sequential\n",
        "from tensorflow.keras.layers import Conv2D, MaxPooling2D, Dropout, Flatten, Dense, BatchNormalization, GlobalAveragePooling2D, SpatialDropout2D\n",
        "from tensorflow.keras import layers\n",
        "from tensorflow.keras.applications.inception_v3 import InceptionV3\n",
        "from tensorflow.keras.applications.xception import Xception\n",
        "from tensorflow.keras.applications.vgg16 import VGG16\n",
        "from tensorflow.keras.applications.mobilenet import MobileNet\n",
        "from tensorflow.keras.optimizers import RMSprop\n",
        "from tensorflow.keras.models import Model\n",
        "from tensorflow.keras.utils import plot_model\n",
        "from sklearn.metrics import confusion_matrix, classification_report, recall_score, precision_score, f1_score, roc_auc_score, roc_curve\n",
        "from tensorflow.keras.preprocessing import image\n",
        "from PIL import Image"
      ],
      "metadata": {
        "id": "9ZqLAh3wM54f"
      },
      "execution_count": null,
      "outputs": []
    },
    {
      "cell_type": "code",
      "source": [
        "from keras.layers import Input, Dropout, Conv2D, MaxPooling2D, LSTM, TimeDistributed, Flatten, Dense, BatchNormalization\n",
        "from keras.models import Model"
      ],
      "metadata": {
        "id": "GF4MdKGhOTRb"
      },
      "execution_count": null,
      "outputs": []
    },
    {
      "cell_type": "code",
      "source": [
        "CNN_base_xcep = Xception(input_shape = (224, 224, 3), include_top = False, weights = 'imagenet')\n",
        "CNN_base_xcep.trainable = False"
      ],
      "metadata": {
        "id": "R_HK57IBMfzq",
        "colab": {
          "base_uri": "https://localhost:8080/"
        },
        "outputId": "b4001289-fe94-49a2-b1e5-b8943a9865d6"
      },
      "execution_count": null,
      "outputs": [
        {
          "output_type": "stream",
          "name": "stdout",
          "text": [
            "Downloading data from https://storage.googleapis.com/tensorflow/keras-applications/xception/xception_weights_tf_dim_ordering_tf_kernels_notop.h5\n",
            "83683744/83683744 [==============================] - 1s 0us/step\n"
          ]
        }
      ]
    },
    {
      "cell_type": "code",
      "source": [
        "CNN_xcep = Sequential()\n",
        "CNN_xcep.add(CNN_base_xcep)\n",
        "CNN_xcep.add(GlobalAveragePooling2D())\n",
        "CNN_xcep.add(Dense(128))\n",
        "CNN_xcep.add(Dropout(0.1))\n",
        "CNN_xcep.add(Dense(2, activation = 'sigmoid'))\n",
        "\n",
        "CNN_xcep.summary()"
      ],
      "metadata": {
        "colab": {
          "base_uri": "https://localhost:8080/"
        },
        "id": "j41uj5_0fIUQ",
        "outputId": "bab9060d-d21f-42c3-9a86-1e37518deaaf"
      },
      "execution_count": null,
      "outputs": [
        {
          "output_type": "stream",
          "name": "stdout",
          "text": [
            "Model: \"sequential_2\"\n",
            "_________________________________________________________________\n",
            " Layer (type)                Output Shape              Param #   \n",
            "=================================================================\n",
            " xception (Functional)       (None, 7, 7, 2048)        20861480  \n",
            "                                                                 \n",
            " global_average_pooling2d_2   (None, 2048)             0         \n",
            " (GlobalAveragePooling2D)                                        \n",
            "                                                                 \n",
            " dense_9 (Dense)             (None, 128)               262272    \n",
            "                                                                 \n",
            " dropout_10 (Dropout)        (None, 128)               0         \n",
            "                                                                 \n",
            " dense_10 (Dense)            (None, 2)                 258       \n",
            "                                                                 \n",
            "=================================================================\n",
            "Total params: 21,124,010\n",
            "Trainable params: 262,530\n",
            "Non-trainable params: 20,861,480\n",
            "_________________________________________________________________\n"
          ]
        }
      ]
    },
    {
      "cell_type": "code",
      "source": [
        "from tensorflow.keras.utils import plot_model\n",
        "plot_model(CNN_xcep, to_file = \"xcepmod.png\", show_layer_names = True , show_shapes = True)"
      ],
      "metadata": {
        "colab": {
          "base_uri": "https://localhost:8080/",
          "height": 644
        },
        "id": "H6BzPFqVpZqc",
        "outputId": "7d8a35c8-af09-43ca-fdf4-97c83b6291e7"
      },
      "execution_count": null,
      "outputs": [
        {
          "output_type": "execute_result",
          "data": {
            "image/png": "[encoded data removed]",
            "text/plain": [
              "<IPython.core.display.Image object>"
            ]
          },
          "metadata": {},
          "execution_count": 35
        }
      ]
    },
    {
      "cell_type": "code",
      "source": [
        "CNN_xcep.compile(\n",
        "  loss='categorical_crossentropy',\n",
        "  optimizer='adam',\n",
        "  metrics=['accuracy']\n",
        ")"
      ],
      "metadata": {
        "id": "r3ONqlD8fgNS"
      },
      "execution_count": null,
      "outputs": []
    },
    {
      "cell_type": "code",
      "source": [
        "import time\n",
        "\n",
        "# Start the timer\n",
        "start_time = time.time()\n",
        "\n",
        "# Compile the model\n",
        "CNN_xcep.compile(optimizer='adam', loss='categorical_crossentropy', metrics=['accuracy'])\n",
        "\n",
        "# Train the model\n",
        "#history = model.fit(train_images, train_labels, validation_data=(val_images, val_labels), epochs=10)\n",
        "history = CNN_xcep.fit(\n",
        "  training_set,\n",
        "  validation_data=test_set,\n",
        "  epochs=50,\n",
        "  steps_per_epoch=len(training_set),\n",
        "  validation_steps=len(test_set)\n",
        ")\n",
        "\n",
        "# End the timer and calculate the elapsed time\n",
        "end_time = time.time()\n",
        "elapsed_time = end_time - start_time\n",
        "print(\"Elapsed time: {:.2f} seconds\".format(elapsed_time))\n"
      ],
      "metadata": {
        "colab": {
          "base_uri": "https://localhost:8080/"
        },
        "id": "OUeQp2RfkvlM",
        "outputId": "7ccd1a32-7b94-438d-d6bd-4a51d983a189"
      },
      "execution_count": null,
      "outputs": [
        {
          "output_type": "stream",
          "name": "stdout",
          "text": [
            "Epoch 1/50\n",
            "7/7 [==============================] - 22s 2s/step - loss: 0.3627 - accuracy: 0.7946 - val_loss: 0.1825 - val_accuracy: 0.9500\n",
            "Epoch 2/50\n",
            "7/7 [==============================] - 14s 2s/step - loss: 0.0743 - accuracy: 0.9777 - val_loss: 0.0289 - val_accuracy: 0.9833\n",
            "Epoch 3/50\n",
            "7/7 [==============================] - 12s 2s/step - loss: 0.0406 - accuracy: 0.9821 - val_loss: 0.0174 - val_accuracy: 1.0000\n",
            "Epoch 5/50\n",
            "7/7 [==============================] - 13s 2s/step - loss: 0.0558 - accuracy: 0.9911 - val_loss: 0.0162 - val_accuracy: 1.0000\n",
            "Epoch 6/50\n",
            "7/7 [==============================] - 13s 2s/step - loss: 0.0269 - accuracy: 0.9955 - val_loss: 0.0177 - val_accuracy: 1.0000\n",
            "Epoch 7/50\n",
            "7/7 [==============================] - 14s 2s/step - loss: 0.0201 - accuracy: 0.9955 - val_loss: 0.0413 - val_accuracy: 0.9833\n",
            "Epoch 8/50\n",
            "7/7 [==============================] - 12s 2s/step - loss: 0.0169 - accuracy: 0.9911 - val_loss: 0.0671 - val_accuracy: 0.9500\n",
            "Epoch 9/50\n",
            "7/7 [==============================] - 12s 2s/step - loss: 0.0046 - accuracy: 1.0000 - val_loss: 0.0712 - val_accuracy: 0.9500\n",
            "Epoch 10/50\n",
            "7/7 [==============================] - 12s 2s/step - loss: 0.0151 - accuracy: 0.9955 - val_loss: 0.0937 - val_accuracy: 0.9500\n",
            "Epoch 11/50\n",
            "7/7 [==============================] - 12s 2s/step - loss: 0.0387 - accuracy: 0.9866 - val_loss: 0.0758 - val_accuracy: 0.9500\n",
            "Epoch 12/50\n",
            "7/7 [==============================] - 12s 2s/step - loss: 0.0089 - accuracy: 0.9955 - val_loss: 0.0237 - val_accuracy: 0.9833\n",
            "Epoch 13/50\n",
            "7/7 [==============================] - 12s 2s/step - loss: 0.0295 - accuracy: 0.9955 - val_loss: 0.0137 - val_accuracy: 1.0000\n",
            "Epoch 14/50\n",
            "7/7 [==============================] - 12s 2s/step - loss: 0.0042 - accuracy: 1.0000 - val_loss: 0.0355 - val_accuracy: 0.9833\n",
            "Epoch 15/50\n",
            "7/7 [==============================] - 12s 2s/step - loss: 0.0057 - accuracy: 1.0000 - val_loss: 0.0488 - val_accuracy: 0.9833\n",
            "Epoch 16/50\n",
            "7/7 [==============================] - 12s 2s/step - loss: 0.0121 - accuracy: 0.9911 - val_loss: 0.0258 - val_accuracy: 0.9833\n",
            "Epoch 17/50\n",
            "7/7 [==============================] - 12s 2s/step - loss: 0.0011 - accuracy: 1.0000 - val_loss: 0.0058 - val_accuracy: 1.0000\n",
            "Epoch 18/50\n",
            "7/7 [==============================] - 12s 2s/step - loss: 0.0216 - accuracy: 0.9911 - val_loss: 0.0115 - val_accuracy: 1.0000\n",
            "Epoch 19/50\n",
            "7/7 [==============================] - 12s 2s/step - loss: 0.0117 - accuracy: 0.9911 - val_loss: 0.0361 - val_accuracy: 0.9833\n",
            "Epoch 20/50\n",
            "7/7 [==============================] - 12s 2s/step - loss: 0.0034 - accuracy: 1.0000 - val_loss: 0.0233 - val_accuracy: 0.9833\n",
            "Epoch 21/50\n",
            "7/7 [==============================] - 12s 2s/step - loss: 0.0247 - accuracy: 0.9955 - val_loss: 0.0293 - val_accuracy: 0.9833\n",
            "Epoch 22/50\n",
            "7/7 [==============================] - 12s 2s/step - loss: 0.0131 - accuracy: 0.9911 - val_loss: 0.0595 - val_accuracy: 0.9833\n",
            "Epoch 23/50\n",
            "7/7 [==============================] - 12s 2s/step - loss: 0.0059 - accuracy: 1.0000 - val_loss: 0.0337 - val_accuracy: 0.9833\n",
            "Epoch 24/50\n",
            "7/7 [==============================] - 13s 2s/step - loss: 0.0081 - accuracy: 0.9955 - val_loss: 0.0242 - val_accuracy: 0.9833\n",
            "Epoch 25/50\n",
            "7/7 [==============================] - 13s 2s/step - loss: 0.0013 - accuracy: 1.0000 - val_loss: 0.0180 - val_accuracy: 0.9833\n",
            "Epoch 26/50\n",
            "7/7 [==============================] - 13s 2s/step - loss: 0.0026 - accuracy: 1.0000 - val_loss: 0.0212 - val_accuracy: 0.9833\n",
            "Epoch 27/50\n",
            "7/7 [==============================] - 13s 2s/step - loss: 7.8673e-04 - accuracy: 1.0000 - val_loss: 0.0222 - val_accuracy: 0.9833\n",
            "Epoch 28/50\n",
            "7/7 [==============================] - 13s 2s/step - loss: 0.0013 - accuracy: 1.0000 - val_loss: 0.0194 - val_accuracy: 0.9833\n",
            "Epoch 29/50\n",
            "7/7 [==============================] - 13s 2s/step - loss: 0.0010 - accuracy: 1.0000 - val_loss: 0.0138 - val_accuracy: 0.9833\n",
            "Epoch 30/50\n",
            "7/7 [==============================] - 13s 2s/step - loss: 0.0048 - accuracy: 1.0000 - val_loss: 0.0139 - val_accuracy: 0.9833\n",
            "Epoch 31/50\n",
            "7/7 [==============================] - 12s 2s/step - loss: 0.0022 - accuracy: 1.0000 - val_loss: 0.0214 - val_accuracy: 0.9833\n",
            "Epoch 32/50\n",
            "7/7 [==============================] - 13s 2s/step - loss: 0.0018 - accuracy: 1.0000 - val_loss: 0.0216 - val_accuracy: 0.9833\n",
            "Epoch 33/50\n",
            "7/7 [==============================] - 13s 2s/step - loss: 0.0013 - accuracy: 1.0000 - val_loss: 0.0232 - val_accuracy: 0.9833\n",
            "Epoch 34/50\n",
            "7/7 [==============================] - 13s 2s/step - loss: 0.0022 - accuracy: 1.0000 - val_loss: 0.0192 - val_accuracy: 0.9833\n",
            "Epoch 35/50\n",
            "7/7 [==============================] - 13s 2s/step - loss: 5.4210e-04 - accuracy: 1.0000 - val_loss: 0.0159 - val_accuracy: 0.9833\n",
            "Epoch 36/50\n",
            "7/7 [==============================] - 13s 2s/step - loss: 3.4253e-04 - accuracy: 1.0000 - val_loss: 0.0142 - val_accuracy: 0.9833\n",
            "Epoch 37/50\n",
            "7/7 [==============================] - 13s 2s/step - loss: 0.0012 - accuracy: 1.0000 - val_loss: 0.0103 - val_accuracy: 1.0000\n",
            "Epoch 38/50\n",
            "7/7 [==============================] - 13s 2s/step - loss: 0.0013 - accuracy: 1.0000 - val_loss: 0.0115 - val_accuracy: 1.0000\n",
            "Epoch 39/50\n",
            "7/7 [==============================] - 13s 2s/step - loss: 0.0116 - accuracy: 0.9955 - val_loss: 0.0350 - val_accuracy: 0.9833\n",
            "Epoch 40/50\n",
            "7/7 [==============================] - 14s 2s/step - loss: 0.0032 - accuracy: 1.0000 - val_loss: 0.0444 - val_accuracy: 0.9833\n",
            "Epoch 41/50\n",
            "7/7 [==============================] - 13s 2s/step - loss: 0.0022 - accuracy: 1.0000 - val_loss: 0.0236 - val_accuracy: 0.9833\n",
            "Epoch 42/50\n",
            "7/7 [==============================] - 13s 2s/step - loss: 0.0012 - accuracy: 1.0000 - val_loss: 0.0123 - val_accuracy: 1.0000\n",
            "Epoch 43/50\n",
            "7/7 [==============================] - 12s 2s/step - loss: 8.1196e-04 - accuracy: 1.0000 - val_loss: 0.0086 - val_accuracy: 1.0000\n",
            "Epoch 44/50\n",
            "7/7 [==============================] - 13s 2s/step - loss: 0.0012 - accuracy: 1.0000 - val_loss: 0.0079 - val_accuracy: 1.0000\n",
            "Epoch 45/50\n",
            "7/7 [==============================] - 12s 2s/step - loss: 0.0027 - accuracy: 1.0000 - val_loss: 0.0223 - val_accuracy: 0.9833\n",
            "Epoch 46/50\n",
            "7/7 [==============================] - 12s 2s/step - loss: 0.0060 - accuracy: 0.9955 - val_loss: 0.0259 - val_accuracy: 0.9833\n",
            "Epoch 47/50\n",
            "7/7 [==============================] - 14s 2s/step - loss: 7.2690e-04 - accuracy: 1.0000 - val_loss: 0.0057 - val_accuracy: 1.0000\n",
            "Epoch 48/50\n",
            "7/7 [==============================] - 12s 2s/step - loss: 0.0038 - accuracy: 1.0000 - val_loss: 0.0057 - val_accuracy: 1.0000\n",
            "Epoch 49/50\n",
            "7/7 [==============================] - 13s 2s/step - loss: 5.6465e-04 - accuracy: 1.0000 - val_loss: 0.0172 - val_accuracy: 0.9833\n",
            "Epoch 50/50\n",
            "7/7 [==============================] - 12s 2s/step - loss: 3.3560e-04 - accuracy: 1.0000 - val_loss: 0.0221 - val_accuracy: 0.9833\n",
            "Elapsed time: 747.24 seconds\n"
          ]
        }
      ]
    },
    {
      "cell_type": "code",
      "source": [
        "##################################\n",
        "import numpy as np\n",
        "\n",
        "# Generate predictions for test set\n",
        "y_pred = CNN_xcep.predict(test_set)\n",
        "\n",
        "# Convert predicted probabilities to binary class labels\n",
        "y_pred = np.argmax(y_pred, axis=1)\n",
        "\n",
        "# Get true labels\n",
        "y_true = test_set.classes\n",
        "\n",
        "# Calculate evaluation metrics\n",
        "from sklearn.metrics import accuracy_score, precision_score, recall_score, f1_score\n",
        "\n",
        "accuracy = accuracy_score(y_true, y_pred)\n",
        "precision = precision_score(y_true, y_pred)\n",
        "recall = recall_score(y_true, y_pred)\n",
        "f1score = f1_score(y_true, y_pred)\n",
        "\n",
        "print(\"Accuracy:\", accuracy)\n",
        "print(\"Precision:\", precision)\n",
        "print(\"Recall:\", recall)\n",
        "print(\"F1-Score:\", f1score)\n",
        "####################################"
      ],
      "metadata": {
        "colab": {
          "base_uri": "https://localhost:8080/"
        },
        "id": "zz5deUYRk1d9",
        "outputId": "382af1bf-5105-410c-d30d-fa380a3a1427"
      },
      "execution_count": null,
      "outputs": [
        {
          "output_type": "stream",
          "name": "stdout",
          "text": [
            "2/2 [==============================] - 3s 830ms/step\n",
            "Accuracy: 0.45\n",
            "Precision: 0.45161290322580644\n",
            "Recall: 0.4666666666666667\n",
            "F1-Score: 0.45901639344262296\n"
          ]
        }
      ]
    },
    {
      "cell_type": "markdown",
      "source": [
        "#test\n"
      ],
      "metadata": {
        "id": "gRgWEzYtnl71"
      }
    },
    {
      "cell_type": "code",
      "source": [
        "import torch\n",
        "print(torch.__version__)"
      ],
      "metadata": {
        "colab": {
          "base_uri": "https://localhost:8080/"
        },
        "id": "MTLE-ZmpnliB",
        "outputId": "e9426dfa-6081-4caa-9ca1-501b2552720a"
      },
      "execution_count": null,
      "outputs": [
        {
          "output_type": "stream",
          "name": "stdout",
          "text": [
            "2.0.0+cu118\n"
          ]
        }
      ]
    },
    {
      "cell_type": "code",
      "source": [
        "import torch\n",
        "import torchvision.models as models\n",
        "\n",
        "# Download MobileNet model and print architecture diagram\n",
        "mobilenet = models.mobilenet_v2(pretrained=True)\n",
        "torch.save(mobilenet, 'mobilenet.pt')\n",
        "print(mobilenet)\n",
        "\n",
        "# Download VGG19 model and print architecture diagram\n",
        "vgg19 = models.vgg19(pretrained=True)\n",
        "torch.save(vgg19, 'vgg19.pt')\n",
        "print(vgg19)\n",
        "\n",
        "# Download Xception model and print architecture diagram\n",
        "xception = models.xception(pretrained=True)\n",
        "torch.save(xception, 'xception.pt')\n",
        "print(xception)\n"
      ],
      "metadata": {
        "id": "Hp8ecqr4nxF8",
        "colab": {
          "base_uri": "https://localhost:8080/",
          "height": 1000
        },
        "outputId": "fbd596c0-f80c-47b4-d152-df654e2576ec"
      },
      "execution_count": null,
      "outputs": [
        {
          "output_type": "stream",
          "name": "stderr",
          "text": [
            "/usr/local/lib/python3.9/dist-packages/torchvision/models/_utils.py:208: UserWarning: The parameter 'pretrained' is deprecated since 0.13 and may be removed in the future, please use 'weights' instead.\n",
            "  warnings.warn(\n",
            "/usr/local/lib/python3.9/dist-packages/torchvision/models/_utils.py:223: UserWarning: Arguments other than a weight enum or `None` for 'weights' are deprecated since 0.13 and may be removed in the future. The current behavior is equivalent to passing `weights=MobileNet_V2_Weights.IMAGENET1K_V1`. You can also use `weights=MobileNet_V2_Weights.DEFAULT` to get the most up-to-date weights.\n",
            "  warnings.warn(msg)\n",
            "Downloading: \"https://download.pytorch.org/models/mobilenet_v2-b0353104.pth\" to /root/.cache/torch/hub/checkpoints/mobilenet_v2-b0353104.pth\n",
            "100%|██████████| 13.6M/13.6M [00:00<00:00, 153MB/s]\n",
            "/usr/local/lib/python3.9/dist-packages/torchvision/models/_utils.py:223: UserWarning: Arguments other than a weight enum or `None` for 'weights' are deprecated since 0.13 and may be removed in the future. The current behavior is equivalent to passing `weights=VGG19_Weights.IMAGENET1K_V1`. You can also use `weights=VGG19_Weights.DEFAULT` to get the most up-to-date weights.\n",
            "  warnings.warn(msg)\n"
          ]
        },
        {
          "output_type": "stream",
          "name": "stdout",
          "text": [
            "MobileNetV2(\n",
            "  (features): Sequential(\n",
            "    (0): Conv2dNormActivation(\n",
            "      (0): Conv2d(3, 32, kernel_size=(3, 3), stride=(2, 2), padding=(1, 1), bias=False)\n",
            "      (1): BatchNorm2d(32, eps=1e-05, momentum=0.1, affine=True, track_running_stats=True)\n",
            "      (2): ReLU6(inplace=True)\n",
            "    )\n",
            "    (1): InvertedResidual(\n",
            "      (conv): Sequential(\n",
            "        (0): Conv2dNormActivation(\n",
            "          (0): Conv2d(32, 32, kernel_size=(3, 3), stride=(1, 1), padding=(1, 1), groups=32, bias=False)\n",
            "          (1): BatchNorm2d(32, eps=1e-05, momentum=0.1, affine=True, track_running_stats=True)\n",
            "          (2): ReLU6(inplace=True)\n",
            "        )\n",
            "        (1): Conv2d(32, 16, kernel_size=(1, 1), stride=(1, 1), bias=False)\n",
            "        (2): BatchNorm2d(16, eps=1e-05, momentum=0.1, affine=True, track_running_stats=True)\n",
            "      )\n",
            "    )\n",
            "    (2): InvertedResidual(\n",
            "      (conv): Sequential(\n",
            "        (0): Conv2dNormActivation(\n",
            "          (0): Conv2d(16, 96, kernel_size=(1, 1), stride=(1, 1), bias=False)\n",
            "          (1): BatchNorm2d(96, eps=1e-05, momentum=0.1, affine=True, track_running_stats=True)\n",
            "          (2): ReLU6(inplace=True)\n",
            "        )\n",
            "        (1): Conv2dNormActivation(\n",
            "          (0): Conv2d(96, 96, kernel_size=(3, 3), stride=(2, 2), padding=(1, 1), groups=96, bias=False)\n",
            "          (1): BatchNorm2d(96, eps=1e-05, momentum=0.1, affine=True, track_running_stats=True)\n",
            "          (2): ReLU6(inplace=True)\n",
            "        )\n",
            "        (2): Conv2d(96, 24, kernel_size=(1, 1), stride=(1, 1), bias=False)\n",
            "        (3): BatchNorm2d(24, eps=1e-05, momentum=0.1, affine=True, track_running_stats=True)\n",
            "      )\n",
            "    )\n",
            "    (3): InvertedResidual(\n",
            "      (conv): Sequential(\n",
            "        (0): Conv2dNormActivation(\n",
            "          (0): Conv2d(24, 144, kernel_size=(1, 1), stride=(1, 1), bias=False)\n",
            "          (1): BatchNorm2d(144, eps=1e-05, momentum=0.1, affine=True, track_running_stats=True)\n",
            "          (2): ReLU6(inplace=True)\n",
            "        )\n",
            "        (1): Conv2dNormActivation(\n",
            "          (0): Conv2d(144, 144, kernel_size=(3, 3), stride=(1, 1), padding=(1, 1), groups=144, bias=False)\n",
            "          (1): BatchNorm2d(144, eps=1e-05, momentum=0.1, affine=True, track_running_stats=True)\n",
            "          (2): ReLU6(inplace=True)\n",
            "        )\n",
            "        (2): Conv2d(144, 24, kernel_size=(1, 1), stride=(1, 1), bias=False)\n",
            "        (3): BatchNorm2d(24, eps=1e-05, momentum=0.1, affine=True, track_running_stats=True)\n",
            "      )\n",
            "    )\n",
            "    (4): InvertedResidual(\n",
            "      (conv): Sequential(\n",
            "        (0): Conv2dNormActivation(\n",
            "          (0): Conv2d(24, 144, kernel_size=(1, 1), stride=(1, 1), bias=False)\n",
            "          (1): BatchNorm2d(144, eps=1e-05, momentum=0.1, affine=True, track_running_stats=True)\n",
            "          (2): ReLU6(inplace=True)\n",
            "        )\n",
            "        (1): Conv2dNormActivation(\n",
            "          (0): Conv2d(144, 144, kernel_size=(3, 3), stride=(2, 2), padding=(1, 1), groups=144, bias=False)\n",
            "          (1): BatchNorm2d(144, eps=1e-05, momentum=0.1, affine=True, track_running_stats=True)\n",
            "          (2): ReLU6(inplace=True)\n",
            "        )\n",
            "        (2): Conv2d(144, 32, kernel_size=(1, 1), stride=(1, 1), bias=False)\n",
            "        (3): BatchNorm2d(32, eps=1e-05, momentum=0.1, affine=True, track_running_stats=True)\n",
            "      )\n",
            "    )\n",
            "    (5): InvertedResidual(\n",
            "      (conv): Sequential(\n",
            "        (0): Conv2dNormActivation(\n",
            "          (0): Conv2d(32, 192, kernel_size=(1, 1), stride=(1, 1), bias=False)\n",
            "          (1): BatchNorm2d(192, eps=1e-05, momentum=0.1, affine=True, track_running_stats=True)\n",
            "          (2): ReLU6(inplace=True)\n",
            "        )\n",
            "        (1): Conv2dNormActivation(\n",
            "          (0): Conv2d(192, 192, kernel_size=(3, 3), stride=(1, 1), padding=(1, 1), groups=192, bias=False)\n",
            "          (1): BatchNorm2d(192, eps=1e-05, momentum=0.1, affine=True, track_running_stats=True)\n",
            "          (2): ReLU6(inplace=True)\n",
            "        )\n",
            "        (2): Conv2d(192, 32, kernel_size=(1, 1), stride=(1, 1), bias=False)\n",
            "        (3): BatchNorm2d(32, eps=1e-05, momentum=0.1, affine=True, track_running_stats=True)\n",
            "      )\n",
            "    )\n",
            "    (6): InvertedResidual(\n",
            "      (conv): Sequential(\n",
            "        (0): Conv2dNormActivation(\n",
            "          (0): Conv2d(32, 192, kernel_size=(1, 1), stride=(1, 1), bias=False)\n",
            "          (1): BatchNorm2d(192, eps=1e-05, momentum=0.1, affine=True, track_running_stats=True)\n",
            "          (2): ReLU6(inplace=True)\n",
            "        )\n",
            "        (1): Conv2dNormActivation(\n",
            "          (0): Conv2d(192, 192, kernel_size=(3, 3), stride=(1, 1), padding=(1, 1), groups=192, bias=False)\n",
            "          (1): BatchNorm2d(192, eps=1e-05, momentum=0.1, affine=True, track_running_stats=True)\n",
            "          (2): ReLU6(inplace=True)\n",
            "        )\n",
            "        (2): Conv2d(192, 32, kernel_size=(1, 1), stride=(1, 1), bias=False)\n",
            "        (3): BatchNorm2d(32, eps=1e-05, momentum=0.1, affine=True, track_running_stats=True)\n",
            "      )\n",
            "    )\n",
            "    (7): InvertedResidual(\n",
            "      (conv): Sequential(\n",
            "        (0): Conv2dNormActivation(\n",
            "          (0): Conv2d(32, 192, kernel_size=(1, 1), stride=(1, 1), bias=False)\n",
            "          (1): BatchNorm2d(192, eps=1e-05, momentum=0.1, affine=True, track_running_stats=True)\n",
            "          (2): ReLU6(inplace=True)\n",
            "        )\n",
            "        (1): Conv2dNormActivation(\n",
            "          (0): Conv2d(192, 192, kernel_size=(3, 3), stride=(2, 2), padding=(1, 1), groups=192, bias=False)\n",
            "          (1): BatchNorm2d(192, eps=1e-05, momentum=0.1, affine=True, track_running_stats=True)\n",
            "          (2): ReLU6(inplace=True)\n",
            "        )\n",
            "        (2): Conv2d(192, 64, kernel_size=(1, 1), stride=(1, 1), bias=False)\n",
            "        (3): BatchNorm2d(64, eps=1e-05, momentum=0.1, affine=True, track_running_stats=True)\n",
            "      )\n",
            "    )\n",
            "    (8): InvertedResidual(\n",
            "      (conv): Sequential(\n",
            "        (0): Conv2dNormActivation(\n",
            "          (0): Conv2d(64, 384, kernel_size=(1, 1), stride=(1, 1), bias=False)\n",
            "          (1): BatchNorm2d(384, eps=1e-05, momentum=0.1, affine=True, track_running_stats=True)\n",
            "          (2): ReLU6(inplace=True)\n",
            "        )\n",
            "        (1): Conv2dNormActivation(\n",
            "          (0): Conv2d(384, 384, kernel_size=(3, 3), stride=(1, 1), padding=(1, 1), groups=384, bias=False)\n",
            "          (1): BatchNorm2d(384, eps=1e-05, momentum=0.1, affine=True, track_running_stats=True)\n",
            "          (2): ReLU6(inplace=True)\n",
            "        )\n",
            "        (2): Conv2d(384, 64, kernel_size=(1, 1), stride=(1, 1), bias=False)\n",
            "        (3): BatchNorm2d(64, eps=1e-05, momentum=0.1, affine=True, track_running_stats=True)\n",
            "      )\n",
            "    )\n",
            "    (9): InvertedResidual(\n",
            "      (conv): Sequential(\n",
            "        (0): Conv2dNormActivation(\n",
            "          (0): Conv2d(64, 384, kernel_size=(1, 1), stride=(1, 1), bias=False)\n",
            "          (1): BatchNorm2d(384, eps=1e-05, momentum=0.1, affine=True, track_running_stats=True)\n",
            "          (2): ReLU6(inplace=True)\n",
            "        )\n",
            "        (1): Conv2dNormActivation(\n",
            "          (0): Conv2d(384, 384, kernel_size=(3, 3), stride=(1, 1), padding=(1, 1), groups=384, bias=False)\n",
            "          (1): BatchNorm2d(384, eps=1e-05, momentum=0.1, affine=True, track_running_stats=True)\n",
            "          (2): ReLU6(inplace=True)\n",
            "        )\n",
            "        (2): Conv2d(384, 64, kernel_size=(1, 1), stride=(1, 1), bias=False)\n",
            "        (3): BatchNorm2d(64, eps=1e-05, momentum=0.1, affine=True, track_running_stats=True)\n",
            "      )\n",
            "    )\n",
            "    (10): InvertedResidual(\n",
            "      (conv): Sequential(\n",
            "        (0): Conv2dNormActivation(\n",
            "          (0): Conv2d(64, 384, kernel_size=(1, 1), stride=(1, 1), bias=False)\n",
            "          (1): BatchNorm2d(384, eps=1e-05, momentum=0.1, affine=True, track_running_stats=True)\n",
            "          (2): ReLU6(inplace=True)\n",
            "        )\n",
            "        (1): Conv2dNormActivation(\n",
            "          (0): Conv2d(384, 384, kernel_size=(3, 3), stride=(1, 1), padding=(1, 1), groups=384, bias=False)\n",
            "          (1): BatchNorm2d(384, eps=1e-05, momentum=0.1, affine=True, track_running_stats=True)\n",
            "          (2): ReLU6(inplace=True)\n",
            "        )\n",
            "        (2): Conv2d(384, 64, kernel_size=(1, 1), stride=(1, 1), bias=False)\n",
            "        (3): BatchNorm2d(64, eps=1e-05, momentum=0.1, affine=True, track_running_stats=True)\n",
            "      )\n",
            "    )\n",
            "    (11): InvertedResidual(\n",
            "      (conv): Sequential(\n",
            "        (0): Conv2dNormActivation(\n",
            "          (0): Conv2d(64, 384, kernel_size=(1, 1), stride=(1, 1), bias=False)\n",
            "          (1): BatchNorm2d(384, eps=1e-05, momentum=0.1, affine=True, track_running_stats=True)\n",
            "          (2): ReLU6(inplace=True)\n",
            "        )\n",
            "        (1): Conv2dNormActivation(\n",
            "          (0): Conv2d(384, 384, kernel_size=(3, 3), stride=(1, 1), padding=(1, 1), groups=384, bias=False)\n",
            "          (1): BatchNorm2d(384, eps=1e-05, momentum=0.1, affine=True, track_running_stats=True)\n",
            "          (2): ReLU6(inplace=True)\n",
            "        )\n",
            "        (2): Conv2d(384, 96, kernel_size=(1, 1), stride=(1, 1), bias=False)\n",
            "        (3): BatchNorm2d(96, eps=1e-05, momentum=0.1, affine=True, track_running_stats=True)\n",
            "      )\n",
            "    )\n",
            "    (12): InvertedResidual(\n",
            "      (conv): Sequential(\n",
            "        (0): Conv2dNormActivation(\n",
            "          (0): Conv2d(96, 576, kernel_size=(1, 1), stride=(1, 1), bias=False)\n",
            "          (1): BatchNorm2d(576, eps=1e-05, momentum=0.1, affine=True, track_running_stats=True)\n",
            "          (2): ReLU6(inplace=True)\n",
            "        )\n",
            "        (1): Conv2dNormActivation(\n",
            "          (0): Conv2d(576, 576, kernel_size=(3, 3), stride=(1, 1), padding=(1, 1), groups=576, bias=False)\n",
            "          (1): BatchNorm2d(576, eps=1e-05, momentum=0.1, affine=True, track_running_stats=True)\n",
            "          (2): ReLU6(inplace=True)\n",
            "        )\n",
            "        (2): Conv2d(576, 96, kernel_size=(1, 1), stride=(1, 1), bias=False)\n",
            "        (3): BatchNorm2d(96, eps=1e-05, momentum=0.1, affine=True, track_running_stats=True)\n",
            "      )\n",
            "    )\n",
            "    (13): InvertedResidual(\n",
            "      (conv): Sequential(\n",
            "        (0): Conv2dNormActivation(\n",
            "          (0): Conv2d(96, 576, kernel_size=(1, 1), stride=(1, 1), bias=False)\n",
            "          (1): BatchNorm2d(576, eps=1e-05, momentum=0.1, affine=True, track_running_stats=True)\n",
            "          (2): ReLU6(inplace=True)\n",
            "        )\n",
            "        (1): Conv2dNormActivation(\n",
            "          (0): Conv2d(576, 576, kernel_size=(3, 3), stride=(1, 1), padding=(1, 1), groups=576, bias=False)\n",
            "          (1): BatchNorm2d(576, eps=1e-05, momentum=0.1, affine=True, track_running_stats=True)\n",
            "          (2): ReLU6(inplace=True)\n",
            "        )\n",
            "        (2): Conv2d(576, 96, kernel_size=(1, 1), stride=(1, 1), bias=False)\n",
            "        (3): BatchNorm2d(96, eps=1e-05, momentum=0.1, affine=True, track_running_stats=True)\n",
            "      )\n",
            "    )\n",
            "    (14): InvertedResidual(\n",
            "      (conv): Sequential(\n",
            "        (0): Conv2dNormActivation(\n",
            "          (0): Conv2d(96, 576, kernel_size=(1, 1), stride=(1, 1), bias=False)\n",
            "          (1): BatchNorm2d(576, eps=1e-05, momentum=0.1, affine=True, track_running_stats=True)\n",
            "          (2): ReLU6(inplace=True)\n",
            "        )\n",
            "        (1): Conv2dNormActivation(\n",
            "          (0): Conv2d(576, 576, kernel_size=(3, 3), stride=(2, 2), padding=(1, 1), groups=576, bias=False)\n",
            "          (1): BatchNorm2d(576, eps=1e-05, momentum=0.1, affine=True, track_running_stats=True)\n",
            "          (2): ReLU6(inplace=True)\n",
            "        )\n",
            "        (2): Conv2d(576, 160, kernel_size=(1, 1), stride=(1, 1), bias=False)\n",
            "        (3): BatchNorm2d(160, eps=1e-05, momentum=0.1, affine=True, track_running_stats=True)\n",
            "      )\n",
            "    )\n",
            "    (15): InvertedResidual(\n",
            "      (conv): Sequential(\n",
            "        (0): Conv2dNormActivation(\n",
            "          (0): Conv2d(160, 960, kernel_size=(1, 1), stride=(1, 1), bias=False)\n",
            "          (1): BatchNorm2d(960, eps=1e-05, momentum=0.1, affine=True, track_running_stats=True)\n",
            "          (2): ReLU6(inplace=True)\n",
            "        )\n",
            "        (1): Conv2dNormActivation(\n",
            "          (0): Conv2d(960, 960, kernel_size=(3, 3), stride=(1, 1), padding=(1, 1), groups=960, bias=False)\n",
            "          (1): BatchNorm2d(960, eps=1e-05, momentum=0.1, affine=True, track_running_stats=True)\n",
            "          (2): ReLU6(inplace=True)\n",
            "        )\n",
            "        (2): Conv2d(960, 160, kernel_size=(1, 1), stride=(1, 1), bias=False)\n",
            "        (3): BatchNorm2d(160, eps=1e-05, momentum=0.1, affine=True, track_running_stats=True)\n",
            "      )\n",
            "    )\n",
            "    (16): InvertedResidual(\n",
            "      (conv): Sequential(\n",
            "        (0): Conv2dNormActivation(\n",
            "          (0): Conv2d(160, 960, kernel_size=(1, 1), stride=(1, 1), bias=False)\n",
            "          (1): BatchNorm2d(960, eps=1e-05, momentum=0.1, affine=True, track_running_stats=True)\n",
            "          (2): ReLU6(inplace=True)\n",
            "        )\n",
            "        (1): Conv2dNormActivation(\n",
            "          (0): Conv2d(960, 960, kernel_size=(3, 3), stride=(1, 1), padding=(1, 1), groups=960, bias=False)\n",
            "          (1): BatchNorm2d(960, eps=1e-05, momentum=0.1, affine=True, track_running_stats=True)\n",
            "          (2): ReLU6(inplace=True)\n",
            "        )\n",
            "        (2): Conv2d(960, 160, kernel_size=(1, 1), stride=(1, 1), bias=False)\n",
            "        (3): BatchNorm2d(160, eps=1e-05, momentum=0.1, affine=True, track_running_stats=True)\n",
            "      )\n",
            "    )\n",
            "    (17): InvertedResidual(\n",
            "      (conv): Sequential(\n",
            "        (0): Conv2dNormActivation(\n",
            "          (0): Conv2d(160, 960, kernel_size=(1, 1), stride=(1, 1), bias=False)\n",
            "          (1): BatchNorm2d(960, eps=1e-05, momentum=0.1, affine=True, track_running_stats=True)\n",
            "          (2): ReLU6(inplace=True)\n",
            "        )\n",
            "        (1): Conv2dNormActivation(\n",
            "          (0): Conv2d(960, 960, kernel_size=(3, 3), stride=(1, 1), padding=(1, 1), groups=960, bias=False)\n",
            "          (1): BatchNorm2d(960, eps=1e-05, momentum=0.1, affine=True, track_running_stats=True)\n",
            "          (2): ReLU6(inplace=True)\n",
            "        )\n",
            "        (2): Conv2d(960, 320, kernel_size=(1, 1), stride=(1, 1), bias=False)\n",
            "        (3): BatchNorm2d(320, eps=1e-05, momentum=0.1, affine=True, track_running_stats=True)\n",
            "      )\n",
            "    )\n",
            "    (18): Conv2dNormActivation(\n",
            "      (0): Conv2d(320, 1280, kernel_size=(1, 1), stride=(1, 1), bias=False)\n",
            "      (1): BatchNorm2d(1280, eps=1e-05, momentum=0.1, affine=True, track_running_stats=True)\n",
            "      (2): ReLU6(inplace=True)\n",
            "    )\n",
            "  )\n",
            "  (classifier): Sequential(\n",
            "    (0): Dropout(p=0.2, inplace=False)\n",
            "    (1): Linear(in_features=1280, out_features=1000, bias=True)\n",
            "  )\n",
            ")\n"
          ]
        },
        {
          "output_type": "stream",
          "name": "stderr",
          "text": [
            "Downloading: \"https://download.pytorch.org/models/vgg19-dcbb9e9d.pth\" to /root/.cache/torch/hub/checkpoints/vgg19-dcbb9e9d.pth\n",
            "100%|██████████| 548M/548M [00:05<00:00, 111MB/s] \n"
          ]
        },
        {
          "output_type": "stream",
          "name": "stdout",
          "text": [
            "VGG(\n",
            "  (features): Sequential(\n",
            "    (0): Conv2d(3, 64, kernel_size=(3, 3), stride=(1, 1), padding=(1, 1))\n",
            "    (1): ReLU(inplace=True)\n",
            "    (2): Conv2d(64, 64, kernel_size=(3, 3), stride=(1, 1), padding=(1, 1))\n",
            "    (3): ReLU(inplace=True)\n",
            "    (4): MaxPool2d(kernel_size=2, stride=2, padding=0, dilation=1, ceil_mode=False)\n",
            "    (5): Conv2d(64, 128, kernel_size=(3, 3), stride=(1, 1), padding=(1, 1))\n",
            "    (6): ReLU(inplace=True)\n",
            "    (7): Conv2d(128, 128, kernel_size=(3, 3), stride=(1, 1), padding=(1, 1))\n",
            "    (8): ReLU(inplace=True)\n",
            "    (9): MaxPool2d(kernel_size=2, stride=2, padding=0, dilation=1, ceil_mode=False)\n",
            "    (10): Conv2d(128, 256, kernel_size=(3, 3), stride=(1, 1), padding=(1, 1))\n",
            "    (11): ReLU(inplace=True)\n",
            "    (12): Conv2d(256, 256, kernel_size=(3, 3), stride=(1, 1), padding=(1, 1))\n",
            "    (13): ReLU(inplace=True)\n",
            "    (14): Conv2d(256, 256, kernel_size=(3, 3), stride=(1, 1), padding=(1, 1))\n",
            "    (15): ReLU(inplace=True)\n",
            "    (16): Conv2d(256, 256, kernel_size=(3, 3), stride=(1, 1), padding=(1, 1))\n",
            "    (17): ReLU(inplace=True)\n",
            "    (18): MaxPool2d(kernel_size=2, stride=2, padding=0, dilation=1, ceil_mode=False)\n",
            "    (19): Conv2d(256, 512, kernel_size=(3, 3), stride=(1, 1), padding=(1, 1))\n",
            "    (20): ReLU(inplace=True)\n",
            "    (21): Conv2d(512, 512, kernel_size=(3, 3), stride=(1, 1), padding=(1, 1))\n",
            "    (22): ReLU(inplace=True)\n",
            "    (23): Conv2d(512, 512, kernel_size=(3, 3), stride=(1, 1), padding=(1, 1))\n",
            "    (24): ReLU(inplace=True)\n",
            "    (25): Conv2d(512, 512, kernel_size=(3, 3), stride=(1, 1), padding=(1, 1))\n",
            "    (26): ReLU(inplace=True)\n",
            "    (27): MaxPool2d(kernel_size=2, stride=2, padding=0, dilation=1, ceil_mode=False)\n",
            "    (28): Conv2d(512, 512, kernel_size=(3, 3), stride=(1, 1), padding=(1, 1))\n",
            "    (29): ReLU(inplace=True)\n",
            "    (30): Conv2d(512, 512, kernel_size=(3, 3), stride=(1, 1), padding=(1, 1))\n",
            "    (31): ReLU(inplace=True)\n",
            "    (32): Conv2d(512, 512, kernel_size=(3, 3), stride=(1, 1), padding=(1, 1))\n",
            "    (33): ReLU(inplace=True)\n",
            "    (34): Conv2d(512, 512, kernel_size=(3, 3), stride=(1, 1), padding=(1, 1))\n",
            "    (35): ReLU(inplace=True)\n",
            "    (36): MaxPool2d(kernel_size=2, stride=2, padding=0, dilation=1, ceil_mode=False)\n",
            "  )\n",
            "  (avgpool): AdaptiveAvgPool2d(output_size=(7, 7))\n",
            "  (classifier): Sequential(\n",
            "    (0): Linear(in_features=25088, out_features=4096, bias=True)\n",
            "    (1): ReLU(inplace=True)\n",
            "    (2): Dropout(p=0.5, inplace=False)\n",
            "    (3): Linear(in_features=4096, out_features=4096, bias=True)\n",
            "    (4): ReLU(inplace=True)\n",
            "    (5): Dropout(p=0.5, inplace=False)\n",
            "    (6): Linear(in_features=4096, out_features=1000, bias=True)\n",
            "  )\n",
            ")\n"
          ]
        },
        {
          "output_type": "error",
          "ename": "AttributeError",
          "evalue": "ignored",
          "traceback": [
            "\u001b[0;31m---------------------------------------------------------------------------\u001b[0m",
            "\u001b[0;31mAttributeError\u001b[0m                            Traceback (most recent call last)",
            "\u001b[0;32m<ipython-input-1-66293b4d2bcd>\u001b[0m in \u001b[0;36m<cell line: 15>\u001b[0;34m()\u001b[0m\n\u001b[1;32m     13\u001b[0m \u001b[0;34m\u001b[0m\u001b[0m\n\u001b[1;32m     14\u001b[0m \u001b[0;31m# Download Xception model and print architecture diagram\u001b[0m\u001b[0;34m\u001b[0m\u001b[0;34m\u001b[0m\u001b[0m\n\u001b[0;32m---> 15\u001b[0;31m \u001b[0mxception\u001b[0m \u001b[0;34m=\u001b[0m \u001b[0mmodels\u001b[0m\u001b[0;34m.\u001b[0m\u001b[0mxception\u001b[0m\u001b[0;34m(\u001b[0m\u001b[0mpretrained\u001b[0m\u001b[0;34m=\u001b[0m\u001b[0;32mTrue\u001b[0m\u001b[0;34m)\u001b[0m\u001b[0;34m\u001b[0m\u001b[0;34m\u001b[0m\u001b[0m\n\u001b[0m\u001b[1;32m     16\u001b[0m \u001b[0mtorch\u001b[0m\u001b[0;34m.\u001b[0m\u001b[0msave\u001b[0m\u001b[0;34m(\u001b[0m\u001b[0mxception\u001b[0m\u001b[0;34m,\u001b[0m \u001b[0;34m'xception.pt'\u001b[0m\u001b[0;34m)\u001b[0m\u001b[0;34m\u001b[0m\u001b[0;34m\u001b[0m\u001b[0m\n\u001b[1;32m     17\u001b[0m \u001b[0mprint\u001b[0m\u001b[0;34m(\u001b[0m\u001b[0mxception\u001b[0m\u001b[0;34m)\u001b[0m\u001b[0;34m\u001b[0m\u001b[0;34m\u001b[0m\u001b[0m\n",
            "\u001b[0;31mAttributeError\u001b[0m: module 'torchvision.models' has no attribute 'xception'"
          ]
        }
      ]
    }
  ],
  "metadata": {
    "accelerator": "GPU",
    "colab": {
      "provenance": [],
      "include_colab_link": true
    },
    "kernelspec": {
      "display_name": "Python 3 (ipykernel)",
      "language": "python",
      "name": "python3"
    },
    "language_info": {
      "codemirror_mode": {
        "name": "ipython",
        "version": 3
      },
      "file_extension": ".py",
      "mimetype": "text/x-python",
      "name": "python",
      "nbconvert_exporter": "python",
      "pygments_lexer": "ipython3",
      "version": "3.8.8"
    },
    "gpuClass": "standard"
  },
  "nbformat": 4,
  "nbformat_minor": 0
}
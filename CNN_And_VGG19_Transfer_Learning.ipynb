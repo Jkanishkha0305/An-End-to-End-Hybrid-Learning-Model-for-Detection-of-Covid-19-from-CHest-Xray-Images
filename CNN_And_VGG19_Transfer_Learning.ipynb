{
  "cells": [
    {
      "cell_type": "markdown",
      "metadata": {
        "id": "view-in-github",
        "colab_type": "text"
      },
      "source": [
        "<a href=\"https://colab.research.google.com/github/Jkanishkha0305/Covid-19/blob/main/CNN_And_VGG19_Transfer_Learning.ipynb\" target=\"_parent\"><img src=\"https://colab.research.google.com/assets/colab-badge.svg\" alt=\"Open In Colab\"/></a>"
      ]
    },
    {
      "cell_type": "markdown",
      "metadata": {
        "id": "9Fwp1sISOpBu"
      },
      "source": [
        "## Creating a CNN model from Scratch And Using Transfer Learning(VGG-19) and choosing the best model"
      ]
    },
    {
      "cell_type": "code",
      "source": [
        "#mounting the drive so that it will be easier to read datasets and no need to upload in the colab everytime\n",
        "from google.colab import drive \n",
        "drive.mount('/content/drive')"
      ],
      "metadata": {
        "colab": {
          "base_uri": "https://localhost:8080/"
        },
        "id": "tQxRCJrjOuM0",
        "outputId": "4211a12f-8f58-4bf5-d4e1-4d57cc2eeeab"
      },
      "execution_count": null,
      "outputs": [
        {
          "output_type": "stream",
          "name": "stdout",
          "text": [
            "Mounted at /content/drive\n"
          ]
        }
      ]
    },
    {
      "cell_type": "code",
      "execution_count": null,
      "metadata": {
        "id": "HzQpue1cOpB0"
      },
      "outputs": [],
      "source": [
        "# importing the requiredlibraries \n",
        "\n",
        "from tensorflow.keras.layers import Input, Lambda, Dense, Flatten,Conv2D\n",
        "from tensorflow.keras.models import Model\n",
        "from tensorflow.keras.applications.vgg19 import VGG19\n",
        "from tensorflow.keras.applications.resnet50 import preprocess_input\n",
        "from tensorflow.keras.preprocessing import image\n",
        "from tensorflow.keras.preprocessing.image import ImageDataGenerator,load_img\n",
        "from tensorflow.keras.models import Sequential\n",
        "import numpy as np\n",
        "from glob import glob\n",
        "import matplotlib.pyplot as plt"
      ]
    },
    {
      "cell_type": "code",
      "execution_count": null,
      "metadata": {
        "id": "FYutSZ5oOpB2"
      },
      "outputs": [],
      "source": [
        "# re-size all the images to this\n",
        "IMAGE_SIZE = [224, 224]\n",
        "\n",
        "train_path = 'drive/MyDrive/Colab_Assignments/ML/CovidDataset/Train'\n",
        "valid_path = 'drive/MyDrive/Colab_Assignments/ML/CovidDataset/Test'\n"
      ]
    },
    {
      "cell_type": "markdown",
      "source": [
        "Creating a CNN Model from Scratch"
      ],
      "metadata": {
        "id": "yhLvfIB1O4bP"
      }
    },
    {
      "cell_type": "code",
      "execution_count": null,
      "metadata": {
        "id": "cwIEQdmZOpB3"
      },
      "outputs": [],
      "source": [
        "from tensorflow.keras.layers import MaxPooling2D"
      ]
    },
    {
      "cell_type": "code",
      "execution_count": null,
      "metadata": {
        "colab": {
          "base_uri": "https://localhost:8080/"
        },
        "id": "zSsHfLU3OpB3",
        "outputId": "756f7cea-dc74-40ba-9bb6-c9315cc43267"
      },
      "outputs": [
        {
          "output_type": "stream",
          "name": "stdout",
          "text": [
            "Model: \"sequential\"\n",
            "_________________________________________________________________\n",
            " Layer (type)                Output Shape              Param #   \n",
            "=================================================================\n",
            " conv2d (Conv2D)             (None, 224, 224, 16)      208       \n",
            "                                                                 \n",
            " max_pooling2d (MaxPooling2D  (None, 112, 112, 16)     0         \n",
            " )                                                               \n",
            "                                                                 \n",
            " conv2d_1 (Conv2D)           (None, 112, 112, 32)      2080      \n",
            "                                                                 \n",
            " max_pooling2d_1 (MaxPooling  (None, 56, 56, 32)       0         \n",
            " 2D)                                                             \n",
            "                                                                 \n",
            " conv2d_2 (Conv2D)           (None, 56, 56, 64)        8256      \n",
            "                                                                 \n",
            " max_pooling2d_2 (MaxPooling  (None, 28, 28, 64)       0         \n",
            " 2D)                                                             \n",
            "                                                                 \n",
            " flatten (Flatten)           (None, 50176)             0         \n",
            "                                                                 \n",
            " dense (Dense)               (None, 500)               25088500  \n",
            "                                                                 \n",
            " dense_1 (Dense)             (None, 2)                 1002      \n",
            "                                                                 \n",
            "=================================================================\n",
            "Total params: 25,100,046\n",
            "Trainable params: 25,100,046\n",
            "Non-trainable params: 0\n",
            "_________________________________________________________________\n"
          ]
        }
      ],
      "source": [
        "### Create Model architecture from scratch using CNN (5 layers)\n",
        "model=Sequential()\n",
        "model.add(Conv2D(filters=16,kernel_size=2,padding=\"same\",activation=\"relu\",input_shape=(224,224,3)))\n",
        "model.add(MaxPooling2D(pool_size=2))\n",
        "model.add(Conv2D(filters=32,kernel_size=2,padding=\"same\",activation =\"relu\"))\n",
        "model.add(MaxPooling2D(pool_size=2))\n",
        "model.add(Conv2D(filters=64,kernel_size=2,padding=\"same\",activation=\"relu\"))\n",
        "model.add(MaxPooling2D(pool_size=2))\n",
        "model.add(Flatten())\n",
        "model.add(Dense(500,activation=\"relu\"))\n",
        "model.add(Dense(2,activation=\"softmax\"))\n",
        "model.summary()"
      ]
    },
    {
      "cell_type": "code",
      "execution_count": null,
      "metadata": {
        "id": "mygB4pc5OpB4"
      },
      "outputs": [],
      "source": [
        "# tell the model what cost and optimization method to use\n",
        "model.compile(\n",
        "  loss='categorical_crossentropy',\n",
        "  optimizer='adam',\n",
        "  metrics=['accuracy']\n",
        ")\n"
      ]
    },
    {
      "cell_type": "code",
      "execution_count": null,
      "metadata": {
        "id": "rP09476NOpB5"
      },
      "outputs": [],
      "source": [
        "# We use the Image Data Generator to import the images from the dataset\n",
        "from tensorflow.keras.preprocessing.image import ImageDataGenerator\n",
        "#Here we are augmenting the images\n",
        "train_datagen = ImageDataGenerator(rescale = 1./255,\n",
        "                                   shear_range = 0.2,\n",
        "                                   zoom_range = 0.2,\n",
        "                                   horizontal_flip = True)\n",
        "\n",
        "test_datagen = ImageDataGenerator(rescale = 1./255)"
      ]
    },
    {
      "cell_type": "code",
      "execution_count": null,
      "metadata": {
        "colab": {
          "base_uri": "https://localhost:8080/"
        },
        "id": "7VrYvM8VOpB6",
        "outputId": "cda1ef4e-a972-4880-e489-6cc2a0d40f73"
      },
      "outputs": [
        {
          "output_type": "stream",
          "name": "stdout",
          "text": [
            "Found 224 images belonging to 2 classes.\n"
          ]
        }
      ],
      "source": [
        "# Creating trainset with image size of dimension (224,224)\n",
        "training_set = train_datagen.flow_from_directory('drive/MyDrive/Colab_Assignments/ML/CovidDataset/Train',\n",
        "                                                 target_size = (224, 224),\n",
        "                                                 batch_size = 32,\n",
        "                                                 class_mode = 'categorical')"
      ]
    },
    {
      "cell_type": "code",
      "execution_count": null,
      "metadata": {
        "colab": {
          "base_uri": "https://localhost:8080/"
        },
        "id": "uxIuR_2VOpB7",
        "outputId": "0734070e-eb15-4796-b87d-b3b5d980bcae"
      },
      "outputs": [
        {
          "output_type": "execute_result",
          "data": {
            "text/plain": [
              "<keras.preprocessing.image.DirectoryIterator at 0x7f0295a2d090>"
            ]
          },
          "metadata": {},
          "execution_count": 11
        }
      ],
      "source": [
        "training_set"
      ]
    },
    {
      "cell_type": "code",
      "execution_count": null,
      "metadata": {
        "colab": {
          "base_uri": "https://localhost:8080/"
        },
        "id": "AOIS5OmEOpB8",
        "outputId": "bc07bcdc-2ebe-42b1-f55a-093fa11c5cdb"
      },
      "outputs": [
        {
          "output_type": "stream",
          "name": "stdout",
          "text": [
            "Found 60 images belonging to 2 classes.\n"
          ]
        }
      ],
      "source": [
        "# Creating testset with image size of dimension (224,224)\n",
        "test_set = test_datagen.flow_from_directory('drive/MyDrive/Colab_Assignments/ML/CovidDataset/Test',\n",
        "                                            target_size = (224, 224),\n",
        "                                            batch_size = 32,\n",
        "                                            class_mode = 'categorical')"
      ]
    },
    {
      "cell_type": "code",
      "execution_count": null,
      "metadata": {
        "scrolled": true,
        "colab": {
          "base_uri": "https://localhost:8080/"
        },
        "id": "VfEvxRKNOpB8",
        "outputId": "5f6ef830-f7ff-4259-f417-3cac880a905c"
      },
      "outputs": [
        {
          "output_type": "stream",
          "name": "stderr",
          "text": [
            "/usr/local/lib/python3.7/dist-packages/ipykernel_launcher.py:8: UserWarning: `Model.fit_generator` is deprecated and will be removed in a future version. Please use `Model.fit`, which supports generators.\n",
            "  \n"
          ]
        },
        {
          "output_type": "stream",
          "name": "stdout",
          "text": [
            "Epoch 1/50\n",
            "7/7 [==============================] - 48s 6s/step - loss: 1.8525 - accuracy: 0.5982 - val_loss: 0.5027 - val_accuracy: 0.7000\n",
            "Epoch 2/50\n",
            "7/7 [==============================] - 9s 1s/step - loss: 0.5726 - accuracy: 0.7232 - val_loss: 0.3116 - val_accuracy: 0.9167\n",
            "Epoch 3/50\n",
            "7/7 [==============================] - 9s 1s/step - loss: 0.3565 - accuracy: 0.8259 - val_loss: 0.2182 - val_accuracy: 0.9500\n",
            "Epoch 4/50\n",
            "7/7 [==============================] - 9s 1s/step - loss: 0.3104 - accuracy: 0.8527 - val_loss: 0.1846 - val_accuracy: 0.9667\n",
            "Epoch 5/50\n",
            "7/7 [==============================] - 9s 1s/step - loss: 0.2791 - accuracy: 0.8795 - val_loss: 0.1512 - val_accuracy: 0.9500\n",
            "Epoch 6/50\n",
            "7/7 [==============================] - 9s 1s/step - loss: 0.2020 - accuracy: 0.9196 - val_loss: 0.1272 - val_accuracy: 0.9667\n",
            "Epoch 7/50\n",
            "7/7 [==============================] - 9s 1s/step - loss: 0.1397 - accuracy: 0.9598 - val_loss: 0.1107 - val_accuracy: 0.9667\n",
            "Epoch 8/50\n",
            "7/7 [==============================] - 9s 1s/step - loss: 0.1073 - accuracy: 0.9732 - val_loss: 0.0911 - val_accuracy: 0.9667\n",
            "Epoch 9/50\n",
            "7/7 [==============================] - 9s 1s/step - loss: 0.0590 - accuracy: 0.9777 - val_loss: 0.0883 - val_accuracy: 0.9667\n",
            "Epoch 10/50\n",
            "7/7 [==============================] - 9s 1s/step - loss: 0.0575 - accuracy: 0.9777 - val_loss: 0.0603 - val_accuracy: 0.9667\n",
            "Epoch 11/50\n",
            "7/7 [==============================] - 9s 1s/step - loss: 0.0522 - accuracy: 0.9911 - val_loss: 0.1838 - val_accuracy: 0.9667\n",
            "Epoch 12/50\n",
            "7/7 [==============================] - 9s 1s/step - loss: 0.0391 - accuracy: 0.9866 - val_loss: 0.0930 - val_accuracy: 0.9667\n",
            "Epoch 13/50\n",
            "7/7 [==============================] - 9s 1s/step - loss: 0.0321 - accuracy: 0.9911 - val_loss: 0.0946 - val_accuracy: 0.9667\n",
            "Epoch 14/50\n",
            "7/7 [==============================] - 9s 1s/step - loss: 0.0290 - accuracy: 0.9866 - val_loss: 0.1032 - val_accuracy: 0.9667\n",
            "Epoch 15/50\n",
            "7/7 [==============================] - 9s 1s/step - loss: 0.0584 - accuracy: 0.9732 - val_loss: 0.1801 - val_accuracy: 0.9667\n",
            "Epoch 16/50\n",
            "7/7 [==============================] - 9s 1s/step - loss: 0.0411 - accuracy: 0.9911 - val_loss: 0.1101 - val_accuracy: 0.9667\n",
            "Epoch 17/50\n",
            "7/7 [==============================] - 9s 1s/step - loss: 0.0173 - accuracy: 0.9955 - val_loss: 0.1197 - val_accuracy: 0.9667\n",
            "Epoch 18/50\n",
            "7/7 [==============================] - 9s 1s/step - loss: 0.0166 - accuracy: 0.9911 - val_loss: 0.1041 - val_accuracy: 0.9667\n",
            "Epoch 19/50\n",
            "7/7 [==============================] - 9s 1s/step - loss: 0.0153 - accuracy: 0.9955 - val_loss: 0.1412 - val_accuracy: 0.9667\n",
            "Epoch 20/50\n",
            "7/7 [==============================] - 9s 1s/step - loss: 0.0387 - accuracy: 0.9777 - val_loss: 0.1038 - val_accuracy: 0.9667\n",
            "Epoch 21/50\n",
            "7/7 [==============================] - 9s 1s/step - loss: 0.0166 - accuracy: 0.9866 - val_loss: 0.1246 - val_accuracy: 0.9667\n",
            "Epoch 22/50\n",
            "7/7 [==============================] - 9s 1s/step - loss: 0.0124 - accuracy: 0.9955 - val_loss: 0.1026 - val_accuracy: 0.9667\n",
            "Epoch 23/50\n",
            "7/7 [==============================] - 9s 1s/step - loss: 0.0209 - accuracy: 0.9911 - val_loss: 0.1456 - val_accuracy: 0.9667\n",
            "Epoch 24/50\n",
            "7/7 [==============================] - 9s 1s/step - loss: 0.0147 - accuracy: 0.9955 - val_loss: 0.1724 - val_accuracy: 0.9667\n",
            "Epoch 25/50\n",
            "7/7 [==============================] - 9s 1s/step - loss: 0.0235 - accuracy: 0.9866 - val_loss: 0.0969 - val_accuracy: 0.9667\n",
            "Epoch 26/50\n",
            "7/7 [==============================] - 9s 1s/step - loss: 0.0115 - accuracy: 0.9955 - val_loss: 0.1854 - val_accuracy: 0.9667\n",
            "Epoch 27/50\n",
            "7/7 [==============================] - 9s 1s/step - loss: 0.0318 - accuracy: 0.9866 - val_loss: 0.1150 - val_accuracy: 0.9667\n",
            "Epoch 28/50\n",
            "7/7 [==============================] - 9s 1s/step - loss: 0.0303 - accuracy: 0.9821 - val_loss: 0.2335 - val_accuracy: 0.9667\n",
            "Epoch 29/50\n",
            "7/7 [==============================] - 9s 1s/step - loss: 0.0167 - accuracy: 0.9911 - val_loss: 0.0974 - val_accuracy: 0.9667\n",
            "Epoch 30/50\n",
            "7/7 [==============================] - 9s 1s/step - loss: 0.0178 - accuracy: 0.9955 - val_loss: 0.1766 - val_accuracy: 0.9667\n",
            "Epoch 31/50\n",
            "7/7 [==============================] - 9s 1s/step - loss: 0.0093 - accuracy: 0.9955 - val_loss: 0.1140 - val_accuracy: 0.9667\n",
            "Epoch 32/50\n",
            "7/7 [==============================] - 9s 1s/step - loss: 0.0220 - accuracy: 0.9911 - val_loss: 0.1798 - val_accuracy: 0.9667\n",
            "Epoch 33/50\n",
            "7/7 [==============================] - 9s 1s/step - loss: 0.0193 - accuracy: 0.9911 - val_loss: 0.1755 - val_accuracy: 0.9667\n",
            "Epoch 34/50\n",
            "7/7 [==============================] - 9s 1s/step - loss: 0.0084 - accuracy: 1.0000 - val_loss: 0.1090 - val_accuracy: 0.9667\n",
            "Epoch 35/50\n",
            "7/7 [==============================] - 9s 1s/step - loss: 0.0239 - accuracy: 0.9911 - val_loss: 0.1518 - val_accuracy: 0.9667\n",
            "Epoch 36/50\n",
            "7/7 [==============================] - 9s 1s/step - loss: 0.0223 - accuracy: 0.9866 - val_loss: 0.1229 - val_accuracy: 0.9667\n",
            "Epoch 37/50\n",
            "7/7 [==============================] - 9s 1s/step - loss: 0.0288 - accuracy: 0.9911 - val_loss: 0.2043 - val_accuracy: 0.9667\n",
            "Epoch 38/50\n",
            "7/7 [==============================] - 9s 1s/step - loss: 0.0177 - accuracy: 0.9911 - val_loss: 0.1004 - val_accuracy: 0.9667\n",
            "Epoch 39/50\n",
            "7/7 [==============================] - 9s 1s/step - loss: 0.0250 - accuracy: 0.9911 - val_loss: 0.0662 - val_accuracy: 0.9833\n",
            "Epoch 40/50\n",
            "7/7 [==============================] - 9s 1s/step - loss: 0.0122 - accuracy: 0.9955 - val_loss: 0.2285 - val_accuracy: 0.9667\n",
            "Epoch 41/50\n",
            "7/7 [==============================] - 9s 1s/step - loss: 0.0226 - accuracy: 0.9911 - val_loss: 0.1162 - val_accuracy: 0.9667\n",
            "Epoch 42/50\n",
            "7/7 [==============================] - 9s 1s/step - loss: 0.0292 - accuracy: 0.9866 - val_loss: 0.4029 - val_accuracy: 0.9500\n",
            "Epoch 43/50\n",
            "7/7 [==============================] - 9s 1s/step - loss: 0.0471 - accuracy: 0.9821 - val_loss: 0.0713 - val_accuracy: 0.9667\n",
            "Epoch 44/50\n",
            "7/7 [==============================] - 9s 1s/step - loss: 0.0244 - accuracy: 0.9955 - val_loss: 0.1570 - val_accuracy: 0.9667\n",
            "Epoch 45/50\n",
            "7/7 [==============================] - 9s 1s/step - loss: 0.0210 - accuracy: 0.9911 - val_loss: 0.0859 - val_accuracy: 0.9667\n",
            "Epoch 46/50\n",
            "7/7 [==============================] - 9s 1s/step - loss: 0.0120 - accuracy: 0.9955 - val_loss: 0.0904 - val_accuracy: 0.9667\n",
            "Epoch 47/50\n",
            "7/7 [==============================] - 9s 1s/step - loss: 0.0193 - accuracy: 0.9911 - val_loss: 0.0987 - val_accuracy: 0.9667\n",
            "Epoch 48/50\n",
            "7/7 [==============================] - 9s 1s/step - loss: 0.0058 - accuracy: 1.0000 - val_loss: 0.1256 - val_accuracy: 0.9667\n",
            "Epoch 49/50\n",
            "7/7 [==============================] - 9s 1s/step - loss: 0.0021 - accuracy: 1.0000 - val_loss: 0.1446 - val_accuracy: 0.9667\n",
            "Epoch 50/50\n",
            "7/7 [==============================] - 9s 1s/step - loss: 0.0015 - accuracy: 1.0000 - val_loss: 0.0987 - val_accuracy: 0.9667\n"
          ]
        }
      ],
      "source": [
        "# fit the model\n",
        "# Training the model with 50 epochs\n",
        "r = model.fit_generator(\n",
        "  training_set,\n",
        "  validation_data=test_set,\n",
        "  epochs=50,\n",
        "  steps_per_epoch=len(training_set),\n",
        "  validation_steps=len(test_set)\n",
        ")"
      ]
    },
    {
      "cell_type": "code",
      "execution_count": null,
      "metadata": {
        "colab": {
          "base_uri": "https://localhost:8080/",
          "height": 562
        },
        "id": "Ny8kY7qoOpB8",
        "outputId": "d0706c9b-6cef-4850-fefb-896e1d2dc998"
      },
      "outputs": [
        {
          "output_type": "display_data",
          "data": {
            "text/plain": [
              "<Figure size 432x288 with 1 Axes>"
            ],
            "image/png": "[encoded data removed]"
          },
          "metadata": {
            "needs_background": "light"
          }
        },
        {
          "output_type": "display_data",
          "data": {
            "text/plain": [
              "<Figure size 432x288 with 1 Axes>"
            ],
            "image/png": "[encoded data removed]"
          },
          "metadata": {
            "needs_background": "light"
          }
        },
        {
          "output_type": "display_data",
          "data": {
            "text/plain": [
              "<Figure size 432x288 with 0 Axes>"
            ]
          },
          "metadata": {}
        }
      ],
      "source": [
        "# plot the loss\n",
        "plt.plot(r.history['loss'], label='train loss')\n",
        "plt.plot(r.history['val_loss'], label='val loss')\n",
        "plt.title('Training and validation loss')\n",
        "plt.legend()\n",
        "plt.show()\n",
        "plt.savefig('LossVal_loss')\n",
        "\n",
        "# plot the accuracy\n",
        "plt.plot(r.history['accuracy'], label='train acc')\n",
        "plt.plot(r.history['val_accuracy'], label='val acc')\n",
        "plt.title('Training and validation accuracy')\n",
        "plt.legend()\n",
        "plt.show()\n",
        "plt.savefig('AccVal_acc')"
      ]
    },
    {
      "cell_type": "code",
      "execution_count": null,
      "metadata": {
        "colab": {
          "base_uri": "https://localhost:8080/"
        },
        "id": "nILrCvgpOpB9",
        "outputId": "157a5da0-5e6f-4784-e209-a59affbaeddd"
      },
      "outputs": [
        {
          "output_type": "stream",
          "name": "stdout",
          "text": [
            "2/2 [==============================] - 2s 580ms/step - loss: 0.0987 - accuracy: 0.9667\n"
          ]
        }
      ],
      "source": [
        "loss,accuracy = model.evaluate(test_set)"
      ]
    },
    {
      "cell_type": "code",
      "execution_count": null,
      "metadata": {
        "colab": {
          "base_uri": "https://localhost:8080/"
        },
        "id": "RcNQImUlOpB9",
        "outputId": "f34a9755-5f14-4e57-e5a3-8ffa29558eb7"
      },
      "outputs": [
        {
          "output_type": "stream",
          "name": "stdout",
          "text": [
            "test accuracy: 96.66666388511658\n",
            "test loss: 9.86519306898117\n"
          ]
        }
      ],
      "source": [
        "print(\"test accuracy: \"+ str(accuracy*100))\n",
        "print(\"test loss: \"+ str(loss*100))"
      ]
    },
    {
      "cell_type": "code",
      "execution_count": null,
      "metadata": {
        "id": "LLXcmFwFOpB9"
      },
      "outputs": [],
      "source": [
        "# save the model as a h5 file\n",
        "\n",
        "from tensorflow.keras.models import load_model\n",
        "\n",
        "model.save('drive/MyDrive/Colab_Assignments/ML/CNN.h5')"
      ]
    },
    {
      "cell_type": "code",
      "execution_count": null,
      "metadata": {
        "id": "uOvrz5buOpB9"
      },
      "outputs": [],
      "source": [
        ""
      ]
    },
    {
      "cell_type": "code",
      "execution_count": null,
      "metadata": {
        "id": "mRk5KzSbOpB-"
      },
      "outputs": [],
      "source": [
        "\n",
        "y_pred = model.predict(test_set)\n"
      ]
    },
    {
      "cell_type": "code",
      "execution_count": null,
      "metadata": {
        "colab": {
          "base_uri": "https://localhost:8080/"
        },
        "id": "wa_jXph4OpB-",
        "outputId": "f9ad4be3-df3e-4a54-e3bb-dd2746f12ff2"
      },
      "outputs": [
        {
          "output_type": "execute_result",
          "data": {
            "text/plain": [
              "array([[9.99982476e-01, 1.74780726e-05],\n",
              "       [9.99992371e-01, 7.58701026e-06],\n",
              "       [1.07392509e-06, 9.99998927e-01],\n",
              "       [9.99507546e-01, 4.92419349e-04],\n",
              "       [9.99999523e-01, 4.31149374e-07],\n",
              "       [9.99997497e-01, 2.49141203e-06],\n",
              "       [1.13143551e-06, 9.99998927e-01],\n",
              "       [9.86491621e-01, 1.35084027e-02],\n",
              "       [9.99999762e-01, 1.92869251e-07],\n",
              "       [8.84559512e-01, 1.15440451e-01],\n",
              "       [8.67007515e-08, 9.99999881e-01],\n",
              "       [2.48759206e-05, 9.99975085e-01],\n",
              "       [5.89865112e-06, 9.99994159e-01],\n",
              "       [1.00000000e+00, 3.87292820e-09],\n",
              "       [9.85437989e-01, 1.45620164e-02],\n",
              "       [3.22919675e-07, 9.99999642e-01],\n",
              "       [9.99928474e-01, 7.15000351e-05],\n",
              "       [2.45613342e-06, 9.99997497e-01],\n",
              "       [7.65128476e-08, 9.99999881e-01],\n",
              "       [1.44243870e-06, 9.99998569e-01],\n",
              "       [3.83571605e-04, 9.99616385e-01],\n",
              "       [9.99999881e-01, 6.81303831e-08],\n",
              "       [1.00000000e+00, 1.15354872e-08],\n",
              "       [9.99996185e-01, 3.87163391e-06],\n",
              "       [6.61328603e-10, 1.00000000e+00],\n",
              "       [7.88563028e-08, 9.99999881e-01],\n",
              "       [9.99994278e-01, 5.74758678e-06],\n",
              "       [2.74077792e-07, 9.99999762e-01],\n",
              "       [9.99962568e-01, 3.73919611e-05],\n",
              "       [9.99971271e-01, 2.86726972e-05],\n",
              "       [3.51492508e-06, 9.99996543e-01],\n",
              "       [9.99784648e-01, 2.15392152e-04],\n",
              "       [9.99984980e-01, 1.50230435e-05],\n",
              "       [3.25158135e-06, 9.99996781e-01],\n",
              "       [3.39917528e-06, 9.99996543e-01],\n",
              "       [9.99998689e-01, 1.26619170e-06],\n",
              "       [1.74080953e-04, 9.99825895e-01],\n",
              "       [3.27757066e-09, 1.00000000e+00],\n",
              "       [5.20392181e-03, 9.94796097e-01],\n",
              "       [9.99999642e-01, 3.23011477e-07],\n",
              "       [6.50727429e-07, 9.99999404e-01],\n",
              "       [9.99985814e-01, 1.41297423e-05],\n",
              "       [9.99488235e-01, 5.11783001e-04],\n",
              "       [9.75867748e-01, 2.41322014e-02],\n",
              "       [1.12807335e-07, 9.99999881e-01],\n",
              "       [9.99994278e-01, 5.77878836e-06],\n",
              "       [1.18476947e-07, 9.99999881e-01],\n",
              "       [1.97294594e-05, 9.99980211e-01],\n",
              "       [9.99999523e-01, 4.76167770e-07],\n",
              "       [2.54401893e-05, 9.99974608e-01],\n",
              "       [3.23843160e-05, 9.99967575e-01],\n",
              "       [9.99999642e-01, 3.67211840e-07],\n",
              "       [1.17842291e-07, 9.99999881e-01],\n",
              "       [9.99786079e-01, 2.13941792e-04],\n",
              "       [9.99992847e-01, 7.18922320e-06],\n",
              "       [9.99999881e-01, 8.38569676e-08],\n",
              "       [7.60681578e-05, 9.99923944e-01],\n",
              "       [2.41177549e-08, 1.00000000e+00],\n",
              "       [1.00000000e+00, 6.94359181e-10],\n",
              "       [9.99993443e-01, 6.61483318e-06]], dtype=float32)"
            ]
          },
          "metadata": {},
          "execution_count": 19
        }
      ],
      "source": [
        "y_pred"
      ]
    },
    {
      "cell_type": "code",
      "execution_count": null,
      "metadata": {
        "id": "8stksavQOpB-"
      },
      "outputs": [],
      "source": [
        "import numpy as np\n",
        "y_pred = np.argmax(y_pred, axis=1)"
      ]
    },
    {
      "cell_type": "code",
      "execution_count": null,
      "metadata": {
        "colab": {
          "base_uri": "https://localhost:8080/"
        },
        "id": "0H3l2D-TOpB-",
        "outputId": "1d583876-9039-4a7e-c82e-8f82e19173ec"
      },
      "outputs": [
        {
          "output_type": "execute_result",
          "data": {
            "text/plain": [
              "array([0, 0, 1, 0, 0, 0, 1, 0, 0, 0, 1, 1, 1, 0, 0, 1, 0, 1, 1, 1, 1, 0,\n",
              "       0, 0, 1, 1, 0, 1, 0, 0, 1, 0, 0, 1, 1, 0, 1, 1, 1, 0, 1, 0, 0, 0,\n",
              "       1, 0, 1, 1, 0, 1, 1, 0, 1, 0, 0, 0, 1, 1, 0, 0])"
            ]
          },
          "metadata": {},
          "execution_count": 21
        }
      ],
      "source": [
        "y_pred"
      ]
    },
    {
      "cell_type": "code",
      "execution_count": null,
      "metadata": {
        "id": "EWsOZHelOpB_"
      },
      "outputs": [],
      "source": [
        ""
      ]
    },
    {
      "cell_type": "code",
      "execution_count": null,
      "metadata": {
        "id": "kbsuR2WJOpB_"
      },
      "outputs": [],
      "source": [
        "from tensorflow.keras.models import load_model\n",
        "from tensorflow.keras.preprocessing import image"
      ]
    },
    {
      "cell_type": "code",
      "execution_count": null,
      "metadata": {
        "id": "C4hxp891OpB_"
      },
      "outputs": [],
      "source": [
        "model=load_model('drive/MyDrive/Colab_Assignments/ML/CNN.h5')"
      ]
    },
    {
      "cell_type": "code",
      "execution_count": null,
      "metadata": {
        "id": "0GmSCaHIOpB_"
      },
      "outputs": [],
      "source": [
        ""
      ]
    },
    {
      "cell_type": "code",
      "execution_count": null,
      "metadata": {
        "id": "9osz_RfLOpB_"
      },
      "outputs": [],
      "source": [
        "#img=image.load_img('drive/MyDrive/Colab_Assignments/ML/CovidDataset/Test/Normal/NORMAL2-IM-0894-0001.jpeg',target_size=(224,224))\n",
        "\n",
        "img=image.load_img('drive/MyDrive/Colab_Assignments/ML/CovidDataset/Test/Covid/4e43e48d52c9e2d4c6c1fb9bc1544f_jumbo.jpeg',target_size=(224,224))\n"
      ]
    },
    {
      "cell_type": "code",
      "execution_count": null,
      "metadata": {
        "colab": {
          "base_uri": "https://localhost:8080/"
        },
        "id": "gJYqb3PLOpB_",
        "outputId": "755863ce-559f-4dee-febe-a903bbe5edc9"
      },
      "outputs": [
        {
          "output_type": "execute_result",
          "data": {
            "text/plain": [
              "array([[[ 0.,  0.,  0.],\n",
              "        [ 0.,  0.,  0.],\n",
              "        [ 0.,  0.,  0.],\n",
              "        ...,\n",
              "        [ 0.,  0.,  0.],\n",
              "        [ 0.,  0.,  0.],\n",
              "        [ 0.,  0.,  0.]],\n",
              "\n",
              "       [[ 0.,  0.,  0.],\n",
              "        [ 0.,  0.,  0.],\n",
              "        [ 0.,  0.,  0.],\n",
              "        ...,\n",
              "        [ 0.,  0.,  0.],\n",
              "        [ 0.,  0.,  0.],\n",
              "        [ 0.,  0.,  0.]],\n",
              "\n",
              "       [[ 0.,  0.,  0.],\n",
              "        [ 1.,  1.,  1.],\n",
              "        [ 1.,  1.,  1.],\n",
              "        ...,\n",
              "        [ 0.,  0.,  0.],\n",
              "        [ 0.,  0.,  0.],\n",
              "        [ 0.,  0.,  0.]],\n",
              "\n",
              "       ...,\n",
              "\n",
              "       [[37., 37., 37.],\n",
              "        [32., 32., 32.],\n",
              "        [35., 35., 35.],\n",
              "        ...,\n",
              "        [55., 55., 55.],\n",
              "        [43., 43., 43.],\n",
              "        [55., 55., 55.]],\n",
              "\n",
              "       [[32., 32., 32.],\n",
              "        [30., 30., 30.],\n",
              "        [35., 35., 35.],\n",
              "        ...,\n",
              "        [55., 55., 55.],\n",
              "        [43., 43., 43.],\n",
              "        [55., 55., 55.]],\n",
              "\n",
              "       [[30., 30., 30.],\n",
              "        [27., 27., 27.],\n",
              "        [32., 32., 32.],\n",
              "        ...,\n",
              "        [55., 55., 55.],\n",
              "        [43., 43., 43.],\n",
              "        [55., 55., 55.]]], dtype=float32)"
            ]
          },
          "metadata": {},
          "execution_count": 25
        }
      ],
      "source": [
        "x=image.img_to_array(img)\n",
        "x"
      ]
    },
    {
      "cell_type": "code",
      "execution_count": null,
      "metadata": {
        "colab": {
          "base_uri": "https://localhost:8080/"
        },
        "id": "cqkvxS_bOpCA",
        "outputId": "b35698f8-aab6-4d46-8c3c-f5bf2835aaac"
      },
      "outputs": [
        {
          "output_type": "execute_result",
          "data": {
            "text/plain": [
              "(224, 224, 3)"
            ]
          },
          "metadata": {},
          "execution_count": 26
        }
      ],
      "source": [
        "x.shape"
      ]
    },
    {
      "cell_type": "code",
      "execution_count": null,
      "metadata": {
        "id": "y6yBUGdROpCA"
      },
      "outputs": [],
      "source": [
        "x=x/255"
      ]
    },
    {
      "cell_type": "code",
      "execution_count": null,
      "metadata": {
        "colab": {
          "base_uri": "https://localhost:8080/"
        },
        "id": "0iFq8jjnOpCA",
        "outputId": "2d301a17-1a4a-4bc6-fcee-ce00cd56be88"
      },
      "outputs": [
        {
          "output_type": "execute_result",
          "data": {
            "text/plain": [
              "(1, 224, 224, 3)"
            ]
          },
          "metadata": {},
          "execution_count": 28
        }
      ],
      "source": [
        "x=np.expand_dims(x,axis=0)\n",
        "img_data=preprocess_input(x)\n",
        "img_data.shape"
      ]
    },
    {
      "cell_type": "code",
      "execution_count": null,
      "metadata": {
        "colab": {
          "base_uri": "https://localhost:8080/"
        },
        "id": "lODB2wEsOpCA",
        "outputId": "ea2f6db8-6c17-469a-dab7-c6c8573a8018"
      },
      "outputs": [
        {
          "output_type": "execute_result",
          "data": {
            "text/plain": [
              "array([[1., 0.]], dtype=float32)"
            ]
          },
          "metadata": {},
          "execution_count": 29
        }
      ],
      "source": [
        "model.predict(img_data)"
      ]
    },
    {
      "cell_type": "code",
      "execution_count": null,
      "metadata": {
        "id": "DxlPwPi9OpCB"
      },
      "outputs": [],
      "source": [
        "a=np.argmax(model.predict(img_data), axis=1)"
      ]
    },
    {
      "cell_type": "code",
      "execution_count": null,
      "metadata": {
        "colab": {
          "base_uri": "https://localhost:8080/"
        },
        "id": "jy1EgiEkOpCB",
        "outputId": "787ac634-06a2-4de0-c3ff-9677df9dc7e1"
      },
      "outputs": [
        {
          "output_type": "stream",
          "name": "stdout",
          "text": [
            "COVID-19 Positive\n"
          ]
        }
      ],
      "source": [
        "if(a==1):\n",
        "    print(\"COVID-19 Negative\")\n",
        "else:\n",
        "    print(\"COVID-19 Positive\")"
      ]
    },
    {
      "cell_type": "markdown",
      "source": [
        "Creating a VGG19 Model"
      ],
      "metadata": {
        "id": "pvuqeKy2Pb-f"
      }
    },
    {
      "cell_type": "code",
      "source": [
        "vgg19 = VGG19(input_shape = IMAGE_SIZE + [3],weights = 'imagenet',include_top = False)"
      ],
      "metadata": {
        "id": "RoFxWsUDPdlZ"
      },
      "execution_count": null,
      "outputs": []
    },
    {
      "cell_type": "code",
      "execution_count": null,
      "metadata": {
        "id": "IaXSk8ykOpCB"
      },
      "outputs": [],
      "source": [
        "# don't train existing weights\n",
        "for layer in vgg19.layers:\n",
        "    layer.trainable = False"
      ]
    },
    {
      "cell_type": "code",
      "execution_count": null,
      "metadata": {
        "id": "77epbGR2OpCB"
      },
      "outputs": [],
      "source": [
        "  # useful for getting number of output classes\n",
        "folders = glob('Dataset/Train/*')"
      ]
    },
    {
      "cell_type": "code",
      "execution_count": null,
      "metadata": {
        "id": "VmntNzkDOpCC",
        "outputId": "3e39e864-ba5c-40b0-c0e6-fb122b2496c3"
      },
      "outputs": [
        {
          "data": {
            "text/plain": [
              "['Dataset/Train\\\\Parasite', 'Dataset/Train\\\\Uninfected']"
            ]
          },
          "execution_count": 7,
          "metadata": {},
          "output_type": "execute_result"
        }
      ],
      "source": [
        "folders"
      ]
    },
    {
      "cell_type": "code",
      "execution_count": null,
      "metadata": {
        "id": "jUeVKzsWOpCC"
      },
      "outputs": [],
      "source": [
        "# our layers - you can add more if you want\n",
        "x = Flatten()(vgg19.output)"
      ]
    },
    {
      "cell_type": "code",
      "execution_count": null,
      "metadata": {
        "id": "jfgJJkHcOpCC"
      },
      "outputs": [],
      "source": [
        "# Import the Vgg 16 library as shown below and add preprocessing layer to the front of VGG\n",
        "# Here we will be using imagenet weights\n",
        "\n",
        "vgg19 = VGG19(input_shape=IMAGE_SIZE + [3], weights='imagenet', include_top=False)\n",
        "\n",
        "\n"
      ]
    },
    {
      "cell_type": "code",
      "execution_count": null,
      "metadata": {
        "id": "x9t2CPIbOpCC"
      },
      "outputs": [],
      "source": [
        "prediction = Dense(len(folders), activation='softmax')(x)\n",
        "\n",
        "# create a model object\n",
        "model = Model(inputs=vgg19.input, outputs=prediction)"
      ]
    },
    {
      "cell_type": "code",
      "execution_count": null,
      "metadata": {
        "id": "OHPIJEq3OpCD",
        "outputId": "9812ba06-d2fd-4559-8cad-af943ed3fe4b"
      },
      "outputs": [
        {
          "name": "stdout",
          "output_type": "stream",
          "text": [
            "Model: \"model_1\"\n",
            "_________________________________________________________________\n",
            "Layer (type)                 Output Shape              Param #   \n",
            "=================================================================\n",
            "input_1 (InputLayer)         [(None, 224, 224, 3)]     0         \n",
            "_________________________________________________________________\n",
            "block1_conv1 (Conv2D)        (None, 224, 224, 64)      1792      \n",
            "_________________________________________________________________\n",
            "block1_conv2 (Conv2D)        (None, 224, 224, 64)      36928     \n",
            "_________________________________________________________________\n",
            "block1_pool (MaxPooling2D)   (None, 112, 112, 64)      0         \n",
            "_________________________________________________________________\n",
            "block2_conv1 (Conv2D)        (None, 112, 112, 128)     73856     \n",
            "_________________________________________________________________\n",
            "block2_conv2 (Conv2D)        (None, 112, 112, 128)     147584    \n",
            "_________________________________________________________________\n",
            "block2_pool (MaxPooling2D)   (None, 56, 56, 128)       0         \n",
            "_________________________________________________________________\n",
            "block3_conv1 (Conv2D)        (None, 56, 56, 256)       295168    \n",
            "_________________________________________________________________\n",
            "block3_conv2 (Conv2D)        (None, 56, 56, 256)       590080    \n",
            "_________________________________________________________________\n",
            "block3_conv3 (Conv2D)        (None, 56, 56, 256)       590080    \n",
            "_________________________________________________________________\n",
            "block3_conv4 (Conv2D)        (None, 56, 56, 256)       590080    \n",
            "_________________________________________________________________\n",
            "block3_pool (MaxPooling2D)   (None, 28, 28, 256)       0         \n",
            "_________________________________________________________________\n",
            "block4_conv1 (Conv2D)        (None, 28, 28, 512)       1180160   \n",
            "_________________________________________________________________\n",
            "block4_conv2 (Conv2D)        (None, 28, 28, 512)       2359808   \n",
            "_________________________________________________________________\n",
            "block4_conv3 (Conv2D)        (None, 28, 28, 512)       2359808   \n",
            "_________________________________________________________________\n",
            "block4_conv4 (Conv2D)        (None, 28, 28, 512)       2359808   \n",
            "_________________________________________________________________\n",
            "block4_pool (MaxPooling2D)   (None, 14, 14, 512)       0         \n",
            "_________________________________________________________________\n",
            "block5_conv1 (Conv2D)        (None, 14, 14, 512)       2359808   \n",
            "_________________________________________________________________\n",
            "block5_conv2 (Conv2D)        (None, 14, 14, 512)       2359808   \n",
            "_________________________________________________________________\n",
            "block5_conv3 (Conv2D)        (None, 14, 14, 512)       2359808   \n",
            "_________________________________________________________________\n",
            "block5_conv4 (Conv2D)        (None, 14, 14, 512)       2359808   \n",
            "_________________________________________________________________\n",
            "block5_pool (MaxPooling2D)   (None, 7, 7, 512)         0         \n",
            "_________________________________________________________________\n",
            "flatten_2 (Flatten)          (None, 25088)             0         \n",
            "_________________________________________________________________\n",
            "dense_3 (Dense)              (None, 2)                 50178     \n",
            "=================================================================\n",
            "Total params: 20,074,562\n",
            "Trainable params: 50,178\n",
            "Non-trainable params: 20,024,384\n",
            "_________________________________________________________________\n"
          ]
        }
      ],
      "source": [
        "\n",
        "# view the structure of the model\n",
        "model.summary()\n"
      ]
    },
    {
      "cell_type": "code",
      "execution_count": null,
      "metadata": {
        "id": "7Afs1FnNOpCD"
      },
      "outputs": [],
      "source": [
        ""
      ]
    },
    {
      "cell_type": "code",
      "execution_count": null,
      "metadata": {
        "id": "lwXnBSEnOpCD"
      },
      "outputs": [],
      "source": [
        "# tell the model what cost and optimization method to use\n",
        "model.compile(\n",
        "  loss='categorical_crossentropy',\n",
        "  optimizer='adam',\n",
        "  metrics=['accuracy']\n",
        ")\n"
      ]
    },
    {
      "cell_type": "code",
      "execution_count": null,
      "metadata": {
        "id": "EnsQKpm7OpCD"
      },
      "outputs": [],
      "source": [
        "# Use the Image Data Generator to import the images from the dataset\n",
        "from tensorflow.keras.preprocessing.image import ImageDataGenerator\n",
        "\n",
        "train_datagen = ImageDataGenerator(rescale = 1./255,\n",
        "                                   shear_range = 0.2,\n",
        "                                   zoom_range = 0.2,\n",
        "                                   horizontal_flip = True)\n",
        "\n",
        "test_datagen = ImageDataGenerator(rescale = 1./255)"
      ]
    },
    {
      "cell_type": "code",
      "execution_count": null,
      "metadata": {
        "id": "eVQls0cMOpCE",
        "outputId": "5d6150fd-fd6a-47cb-e5e6-9c7356f6be04"
      },
      "outputs": [
        {
          "name": "stdout",
          "output_type": "stream",
          "text": [
            "Found 416 images belonging to 2 classes.\n"
          ]
        }
      ],
      "source": [
        "# Creating trainset with image size of dimension (224,224)\n",
        "training_set = train_datagen.flow_from_directory('drive/MyDrive/Colab_Assignments/ML/CovidDataset/Train',\n",
        "                                                 target_size = (224, 224),\n",
        "                                                 batch_size = 32,\n",
        "                                                 class_mode = 'categorical')"
      ]
    },
    {
      "cell_type": "code",
      "execution_count": null,
      "metadata": {
        "id": "N2Zirs2dOpCE",
        "outputId": "1701b1df-d612-4f87-a87d-1fddfcf85a26"
      },
      "outputs": [
        {
          "data": {
            "text/plain": [
              "<keras_preprocessing.image.directory_iterator.DirectoryIterator at 0x2bccf0d8488>"
            ]
          },
          "execution_count": 104,
          "metadata": {},
          "output_type": "execute_result"
        }
      ],
      "source": [
        "training_set"
      ]
    },
    {
      "cell_type": "code",
      "execution_count": null,
      "metadata": {
        "id": "aMs6wiQJOpCE",
        "outputId": "5dba81b1-10e7-4ad4-f7ee-6216a8a65f00"
      },
      "outputs": [
        {
          "name": "stdout",
          "output_type": "stream",
          "text": [
            "Found 134 images belonging to 2 classes.\n"
          ]
        }
      ],
      "source": [
        "# Creating testset with image size of dimension (224,224)\n",
        "test_set = test_datagen.flow_from_directory('drive/MyDrive/Colab_Assignments/ML/CovidDataset/Test',\n",
        "                                            target_size = (224, 224),\n",
        "                                            batch_size = 32,\n",
        "                                            class_mode = 'categorical')"
      ]
    },
    {
      "cell_type": "code",
      "execution_count": null,
      "metadata": {
        "scrolled": true,
        "id": "WNoTYpb8OpCE",
        "outputId": "60f02b97-d05e-4fe0-e256-bf4efffee472"
      },
      "outputs": [
        {
          "name": "stdout",
          "output_type": "stream",
          "text": [
            "WARNING:tensorflow:sample_weight modes were coerced from\n",
            "  ...\n",
            "    to  \n",
            "  ['...']\n",
            "WARNING:tensorflow:sample_weight modes were coerced from\n",
            "  ...\n",
            "    to  \n",
            "  ['...']\n",
            "Train for 13 steps, validate for 5 steps\n",
            "Epoch 1/50\n",
            "13/13 [==============================] - 6s 490ms/step - loss: 1.4529 - accuracy: 0.5048 - val_loss: 0.9426 - val_accuracy: 0.4179\n",
            "Epoch 2/50\n",
            "13/13 [==============================] - 6s 498ms/step - loss: 0.7403 - accuracy: 0.6010 - val_loss: 0.6418 - val_accuracy: 0.6791\n",
            "Epoch 3/50\n",
            "13/13 [==============================] - 6s 495ms/step - loss: 0.5256 - accuracy: 0.7524 - val_loss: 0.9822 - val_accuracy: 0.5224\n",
            "Epoch 4/50\n",
            "13/13 [==============================] - 6s 459ms/step - loss: 0.4426 - accuracy: 0.7788 - val_loss: 0.4205 - val_accuracy: 0.7761\n",
            "Epoch 5/50\n",
            "13/13 [==============================] - 6s 466ms/step - loss: 0.3296 - accuracy: 0.8630 - val_loss: 0.5563 - val_accuracy: 0.7015\n",
            "Epoch 6/50\n",
            "13/13 [==============================] - 6s 473ms/step - loss: 0.3186 - accuracy: 0.8654 - val_loss: 0.3651 - val_accuracy: 0.8358\n",
            "Epoch 7/50\n",
            "13/13 [==============================] - 6s 468ms/step - loss: 0.2774 - accuracy: 0.9014 - val_loss: 0.3622 - val_accuracy: 0.7910\n",
            "Epoch 8/50\n",
            "13/13 [==============================] - 6s 473ms/step - loss: 0.2810 - accuracy: 0.8822 - val_loss: 0.3307 - val_accuracy: 0.8433\n",
            "Epoch 9/50\n",
            "13/13 [==============================] - 6s 475ms/step - loss: 0.2592 - accuracy: 0.9135 - val_loss: 0.3152 - val_accuracy: 0.8284\n",
            "Epoch 10/50\n",
            "13/13 [==============================] - 6s 463ms/step - loss: 0.2235 - accuracy: 0.9279 - val_loss: 0.2885 - val_accuracy: 0.8881\n",
            "Epoch 11/50\n",
            "13/13 [==============================] - 6s 480ms/step - loss: 0.2190 - accuracy: 0.9255 - val_loss: 0.2744 - val_accuracy: 0.8731\n",
            "Epoch 12/50\n",
            "13/13 [==============================] - 6s 464ms/step - loss: 0.2206 - accuracy: 0.9303 - val_loss: 0.3062 - val_accuracy: 0.8731\n",
            "Epoch 13/50\n",
            "13/13 [==============================] - 6s 474ms/step - loss: 0.1917 - accuracy: 0.9495 - val_loss: 0.2626 - val_accuracy: 0.8881\n",
            "Epoch 14/50\n",
            "13/13 [==============================] - 6s 484ms/step - loss: 0.2047 - accuracy: 0.9351 - val_loss: 0.3098 - val_accuracy: 0.8507\n",
            "Epoch 15/50\n",
            "13/13 [==============================] - 6s 490ms/step - loss: 0.2383 - accuracy: 0.8966 - val_loss: 0.2602 - val_accuracy: 0.9104\n",
            "Epoch 16/50\n",
            "13/13 [==============================] - 6s 481ms/step - loss: 0.2286 - accuracy: 0.9087 - val_loss: 0.3670 - val_accuracy: 0.7910\n",
            "Epoch 17/50\n",
            "13/13 [==============================] - 6s 478ms/step - loss: 0.1809 - accuracy: 0.9423 - val_loss: 0.2570 - val_accuracy: 0.8955\n",
            "Epoch 18/50\n",
            " 2/13 [===>..........................] - ETA: 5s - loss: 0.1943 - accuracy: 0.9062"
          ]
        },
        {
          "ename": "KeyboardInterrupt",
          "evalue": "",
          "output_type": "error",
          "traceback": [
            "\u001b[1;31m---------------------------------------------------------------------------\u001b[0m",
            "\u001b[1;31mKeyboardInterrupt\u001b[0m                         Traceback (most recent call last)",
            "\u001b[1;32m<ipython-input-53-69229fe26ea3>\u001b[0m in \u001b[0;36m<module>\u001b[1;34m\u001b[0m\n\u001b[0;32m      6\u001b[0m   \u001b[0mepochs\u001b[0m\u001b[1;33m=\u001b[0m\u001b[1;36m50\u001b[0m\u001b[1;33m,\u001b[0m\u001b[1;33m\u001b[0m\u001b[1;33m\u001b[0m\u001b[0m\n\u001b[0;32m      7\u001b[0m   \u001b[0msteps_per_epoch\u001b[0m\u001b[1;33m=\u001b[0m\u001b[0mlen\u001b[0m\u001b[1;33m(\u001b[0m\u001b[0mtraining_set\u001b[0m\u001b[1;33m)\u001b[0m\u001b[1;33m,\u001b[0m\u001b[1;33m\u001b[0m\u001b[1;33m\u001b[0m\u001b[0m\n\u001b[1;32m----> 8\u001b[1;33m   \u001b[0mvalidation_steps\u001b[0m\u001b[1;33m=\u001b[0m\u001b[0mlen\u001b[0m\u001b[1;33m(\u001b[0m\u001b[0mtest_set\u001b[0m\u001b[1;33m)\u001b[0m\u001b[1;33m\u001b[0m\u001b[1;33m\u001b[0m\u001b[0m\n\u001b[0m\u001b[0;32m      9\u001b[0m )\n",
            "\u001b[1;32m~\\Anaconda3\\lib\\site-packages\\tensorflow_core\\python\\util\\deprecation.py\u001b[0m in \u001b[0;36mnew_func\u001b[1;34m(*args, **kwargs)\u001b[0m\n\u001b[0;32m    322\u001b[0m               \u001b[1;34m'in a future version'\u001b[0m \u001b[1;32mif\u001b[0m \u001b[0mdate\u001b[0m \u001b[1;32mis\u001b[0m \u001b[1;32mNone\u001b[0m \u001b[1;32melse\u001b[0m \u001b[1;33m(\u001b[0m\u001b[1;34m'after %s'\u001b[0m \u001b[1;33m%\u001b[0m \u001b[0mdate\u001b[0m\u001b[1;33m)\u001b[0m\u001b[1;33m,\u001b[0m\u001b[1;33m\u001b[0m\u001b[1;33m\u001b[0m\u001b[0m\n\u001b[0;32m    323\u001b[0m               instructions)\n\u001b[1;32m--> 324\u001b[1;33m       \u001b[1;32mreturn\u001b[0m \u001b[0mfunc\u001b[0m\u001b[1;33m(\u001b[0m\u001b[1;33m*\u001b[0m\u001b[0margs\u001b[0m\u001b[1;33m,\u001b[0m \u001b[1;33m**\u001b[0m\u001b[0mkwargs\u001b[0m\u001b[1;33m)\u001b[0m\u001b[1;33m\u001b[0m\u001b[1;33m\u001b[0m\u001b[0m\n\u001b[0m\u001b[0;32m    325\u001b[0m     return tf_decorator.make_decorator(\n\u001b[0;32m    326\u001b[0m         \u001b[0mfunc\u001b[0m\u001b[1;33m,\u001b[0m \u001b[0mnew_func\u001b[0m\u001b[1;33m,\u001b[0m \u001b[1;34m'deprecated'\u001b[0m\u001b[1;33m,\u001b[0m\u001b[1;33m\u001b[0m\u001b[1;33m\u001b[0m\u001b[0m\n",
            "\u001b[1;32m~\\Anaconda3\\lib\\site-packages\\tensorflow_core\\python\\keras\\engine\\training.py\u001b[0m in \u001b[0;36mfit_generator\u001b[1;34m(self, generator, steps_per_epoch, epochs, verbose, callbacks, validation_data, validation_steps, validation_freq, class_weight, max_queue_size, workers, use_multiprocessing, shuffle, initial_epoch)\u001b[0m\n\u001b[0;32m   1304\u001b[0m         \u001b[0muse_multiprocessing\u001b[0m\u001b[1;33m=\u001b[0m\u001b[0muse_multiprocessing\u001b[0m\u001b[1;33m,\u001b[0m\u001b[1;33m\u001b[0m\u001b[1;33m\u001b[0m\u001b[0m\n\u001b[0;32m   1305\u001b[0m         \u001b[0mshuffle\u001b[0m\u001b[1;33m=\u001b[0m\u001b[0mshuffle\u001b[0m\u001b[1;33m,\u001b[0m\u001b[1;33m\u001b[0m\u001b[1;33m\u001b[0m\u001b[0m\n\u001b[1;32m-> 1306\u001b[1;33m         initial_epoch=initial_epoch)\n\u001b[0m\u001b[0;32m   1307\u001b[0m \u001b[1;33m\u001b[0m\u001b[0m\n\u001b[0;32m   1308\u001b[0m   @deprecation.deprecated(\n",
            "\u001b[1;32m~\\Anaconda3\\lib\\site-packages\\tensorflow_core\\python\\keras\\engine\\training.py\u001b[0m in \u001b[0;36mfit\u001b[1;34m(self, x, y, batch_size, epochs, verbose, callbacks, validation_split, validation_data, shuffle, class_weight, sample_weight, initial_epoch, steps_per_epoch, validation_steps, validation_freq, max_queue_size, workers, use_multiprocessing, **kwargs)\u001b[0m\n\u001b[0;32m    817\u001b[0m         \u001b[0mmax_queue_size\u001b[0m\u001b[1;33m=\u001b[0m\u001b[0mmax_queue_size\u001b[0m\u001b[1;33m,\u001b[0m\u001b[1;33m\u001b[0m\u001b[1;33m\u001b[0m\u001b[0m\n\u001b[0;32m    818\u001b[0m         \u001b[0mworkers\u001b[0m\u001b[1;33m=\u001b[0m\u001b[0mworkers\u001b[0m\u001b[1;33m,\u001b[0m\u001b[1;33m\u001b[0m\u001b[1;33m\u001b[0m\u001b[0m\n\u001b[1;32m--> 819\u001b[1;33m         use_multiprocessing=use_multiprocessing)\n\u001b[0m\u001b[0;32m    820\u001b[0m \u001b[1;33m\u001b[0m\u001b[0m\n\u001b[0;32m    821\u001b[0m   def evaluate(self,\n",
            "\u001b[1;32m~\\Anaconda3\\lib\\site-packages\\tensorflow_core\\python\\keras\\engine\\training_v2.py\u001b[0m in \u001b[0;36mfit\u001b[1;34m(self, model, x, y, batch_size, epochs, verbose, callbacks, validation_split, validation_data, shuffle, class_weight, sample_weight, initial_epoch, steps_per_epoch, validation_steps, validation_freq, max_queue_size, workers, use_multiprocessing, **kwargs)\u001b[0m\n\u001b[0;32m    340\u001b[0m                 \u001b[0mmode\u001b[0m\u001b[1;33m=\u001b[0m\u001b[0mModeKeys\u001b[0m\u001b[1;33m.\u001b[0m\u001b[0mTRAIN\u001b[0m\u001b[1;33m,\u001b[0m\u001b[1;33m\u001b[0m\u001b[1;33m\u001b[0m\u001b[0m\n\u001b[0;32m    341\u001b[0m                 \u001b[0mtraining_context\u001b[0m\u001b[1;33m=\u001b[0m\u001b[0mtraining_context\u001b[0m\u001b[1;33m,\u001b[0m\u001b[1;33m\u001b[0m\u001b[1;33m\u001b[0m\u001b[0m\n\u001b[1;32m--> 342\u001b[1;33m                 total_epochs=epochs)\n\u001b[0m\u001b[0;32m    343\u001b[0m             \u001b[0mcbks\u001b[0m\u001b[1;33m.\u001b[0m\u001b[0mmake_logs\u001b[0m\u001b[1;33m(\u001b[0m\u001b[0mmodel\u001b[0m\u001b[1;33m,\u001b[0m \u001b[0mepoch_logs\u001b[0m\u001b[1;33m,\u001b[0m \u001b[0mtraining_result\u001b[0m\u001b[1;33m,\u001b[0m \u001b[0mModeKeys\u001b[0m\u001b[1;33m.\u001b[0m\u001b[0mTRAIN\u001b[0m\u001b[1;33m)\u001b[0m\u001b[1;33m\u001b[0m\u001b[1;33m\u001b[0m\u001b[0m\n\u001b[0;32m    344\u001b[0m \u001b[1;33m\u001b[0m\u001b[0m\n",
            "\u001b[1;32m~\\Anaconda3\\lib\\site-packages\\tensorflow_core\\python\\keras\\engine\\training_v2.py\u001b[0m in \u001b[0;36mrun_one_epoch\u001b[1;34m(model, iterator, execution_function, dataset_size, batch_size, strategy, steps_per_epoch, num_samples, mode, training_context, total_epochs)\u001b[0m\n\u001b[0;32m    126\u001b[0m         step=step, mode=mode, size=current_batch_size) as batch_logs:\n\u001b[0;32m    127\u001b[0m       \u001b[1;32mtry\u001b[0m\u001b[1;33m:\u001b[0m\u001b[1;33m\u001b[0m\u001b[1;33m\u001b[0m\u001b[0m\n\u001b[1;32m--> 128\u001b[1;33m         \u001b[0mbatch_outs\u001b[0m \u001b[1;33m=\u001b[0m \u001b[0mexecution_function\u001b[0m\u001b[1;33m(\u001b[0m\u001b[0miterator\u001b[0m\u001b[1;33m)\u001b[0m\u001b[1;33m\u001b[0m\u001b[1;33m\u001b[0m\u001b[0m\n\u001b[0m\u001b[0;32m    129\u001b[0m       \u001b[1;32mexcept\u001b[0m \u001b[1;33m(\u001b[0m\u001b[0mStopIteration\u001b[0m\u001b[1;33m,\u001b[0m \u001b[0merrors\u001b[0m\u001b[1;33m.\u001b[0m\u001b[0mOutOfRangeError\u001b[0m\u001b[1;33m)\u001b[0m\u001b[1;33m:\u001b[0m\u001b[1;33m\u001b[0m\u001b[1;33m\u001b[0m\u001b[0m\n\u001b[0;32m    130\u001b[0m         \u001b[1;31m# TODO(kaftan): File bug about tf function and errors.OutOfRangeError?\u001b[0m\u001b[1;33m\u001b[0m\u001b[1;33m\u001b[0m\u001b[1;33m\u001b[0m\u001b[0m\n",
            "\u001b[1;32m~\\Anaconda3\\lib\\site-packages\\tensorflow_core\\python\\keras\\engine\\training_v2_utils.py\u001b[0m in \u001b[0;36mexecution_function\u001b[1;34m(input_fn)\u001b[0m\n\u001b[0;32m     96\u001b[0m     \u001b[1;31m# `numpy` translates Tensors to values in Eager mode.\u001b[0m\u001b[1;33m\u001b[0m\u001b[1;33m\u001b[0m\u001b[1;33m\u001b[0m\u001b[0m\n\u001b[0;32m     97\u001b[0m     return nest.map_structure(_non_none_constant_value,\n\u001b[1;32m---> 98\u001b[1;33m                               distributed_function(input_fn))\n\u001b[0m\u001b[0;32m     99\u001b[0m \u001b[1;33m\u001b[0m\u001b[0m\n\u001b[0;32m    100\u001b[0m   \u001b[1;32mreturn\u001b[0m \u001b[0mexecution_function\u001b[0m\u001b[1;33m\u001b[0m\u001b[1;33m\u001b[0m\u001b[0m\n",
            "\u001b[1;32m~\\Anaconda3\\lib\\site-packages\\tensorflow_core\\python\\eager\\def_function.py\u001b[0m in \u001b[0;36m__call__\u001b[1;34m(self, *args, **kwds)\u001b[0m\n\u001b[0;32m    566\u001b[0m         \u001b[0mxla_context\u001b[0m\u001b[1;33m.\u001b[0m\u001b[0mExit\u001b[0m\u001b[1;33m(\u001b[0m\u001b[1;33m)\u001b[0m\u001b[1;33m\u001b[0m\u001b[1;33m\u001b[0m\u001b[0m\n\u001b[0;32m    567\u001b[0m     \u001b[1;32melse\u001b[0m\u001b[1;33m:\u001b[0m\u001b[1;33m\u001b[0m\u001b[1;33m\u001b[0m\u001b[0m\n\u001b[1;32m--> 568\u001b[1;33m       \u001b[0mresult\u001b[0m \u001b[1;33m=\u001b[0m \u001b[0mself\u001b[0m\u001b[1;33m.\u001b[0m\u001b[0m_call\u001b[0m\u001b[1;33m(\u001b[0m\u001b[1;33m*\u001b[0m\u001b[0margs\u001b[0m\u001b[1;33m,\u001b[0m \u001b[1;33m**\u001b[0m\u001b[0mkwds\u001b[0m\u001b[1;33m)\u001b[0m\u001b[1;33m\u001b[0m\u001b[1;33m\u001b[0m\u001b[0m\n\u001b[0m\u001b[0;32m    569\u001b[0m \u001b[1;33m\u001b[0m\u001b[0m\n\u001b[0;32m    570\u001b[0m     \u001b[1;32mif\u001b[0m \u001b[0mtracing_count\u001b[0m \u001b[1;33m==\u001b[0m \u001b[0mself\u001b[0m\u001b[1;33m.\u001b[0m\u001b[0m_get_tracing_count\u001b[0m\u001b[1;33m(\u001b[0m\u001b[1;33m)\u001b[0m\u001b[1;33m:\u001b[0m\u001b[1;33m\u001b[0m\u001b[1;33m\u001b[0m\u001b[0m\n",
            "\u001b[1;32m~\\Anaconda3\\lib\\site-packages\\tensorflow_core\\python\\eager\\def_function.py\u001b[0m in \u001b[0;36m_call\u001b[1;34m(self, *args, **kwds)\u001b[0m\n\u001b[0;32m    597\u001b[0m       \u001b[1;31m# In this case we have created variables on the first call, so we run the\u001b[0m\u001b[1;33m\u001b[0m\u001b[1;33m\u001b[0m\u001b[1;33m\u001b[0m\u001b[0m\n\u001b[0;32m    598\u001b[0m       \u001b[1;31m# defunned version which is guaranteed to never create variables.\u001b[0m\u001b[1;33m\u001b[0m\u001b[1;33m\u001b[0m\u001b[1;33m\u001b[0m\u001b[0m\n\u001b[1;32m--> 599\u001b[1;33m       \u001b[1;32mreturn\u001b[0m \u001b[0mself\u001b[0m\u001b[1;33m.\u001b[0m\u001b[0m_stateless_fn\u001b[0m\u001b[1;33m(\u001b[0m\u001b[1;33m*\u001b[0m\u001b[0margs\u001b[0m\u001b[1;33m,\u001b[0m \u001b[1;33m**\u001b[0m\u001b[0mkwds\u001b[0m\u001b[1;33m)\u001b[0m  \u001b[1;31m# pylint: disable=not-callable\u001b[0m\u001b[1;33m\u001b[0m\u001b[1;33m\u001b[0m\u001b[0m\n\u001b[0m\u001b[0;32m    600\u001b[0m     \u001b[1;32melif\u001b[0m \u001b[0mself\u001b[0m\u001b[1;33m.\u001b[0m\u001b[0m_stateful_fn\u001b[0m \u001b[1;32mis\u001b[0m \u001b[1;32mnot\u001b[0m \u001b[1;32mNone\u001b[0m\u001b[1;33m:\u001b[0m\u001b[1;33m\u001b[0m\u001b[1;33m\u001b[0m\u001b[0m\n\u001b[0;32m    601\u001b[0m       \u001b[1;31m# Release the lock early so that multiple threads can perform the call\u001b[0m\u001b[1;33m\u001b[0m\u001b[1;33m\u001b[0m\u001b[1;33m\u001b[0m\u001b[0m\n",
            "\u001b[1;32m~\\Anaconda3\\lib\\site-packages\\tensorflow_core\\python\\eager\\function.py\u001b[0m in \u001b[0;36m__call__\u001b[1;34m(self, *args, **kwargs)\u001b[0m\n\u001b[0;32m   2361\u001b[0m     \u001b[1;32mwith\u001b[0m \u001b[0mself\u001b[0m\u001b[1;33m.\u001b[0m\u001b[0m_lock\u001b[0m\u001b[1;33m:\u001b[0m\u001b[1;33m\u001b[0m\u001b[1;33m\u001b[0m\u001b[0m\n\u001b[0;32m   2362\u001b[0m       \u001b[0mgraph_function\u001b[0m\u001b[1;33m,\u001b[0m \u001b[0margs\u001b[0m\u001b[1;33m,\u001b[0m \u001b[0mkwargs\u001b[0m \u001b[1;33m=\u001b[0m \u001b[0mself\u001b[0m\u001b[1;33m.\u001b[0m\u001b[0m_maybe_define_function\u001b[0m\u001b[1;33m(\u001b[0m\u001b[0margs\u001b[0m\u001b[1;33m,\u001b[0m \u001b[0mkwargs\u001b[0m\u001b[1;33m)\u001b[0m\u001b[1;33m\u001b[0m\u001b[1;33m\u001b[0m\u001b[0m\n\u001b[1;32m-> 2363\u001b[1;33m     \u001b[1;32mreturn\u001b[0m \u001b[0mgraph_function\u001b[0m\u001b[1;33m.\u001b[0m\u001b[0m_filtered_call\u001b[0m\u001b[1;33m(\u001b[0m\u001b[0margs\u001b[0m\u001b[1;33m,\u001b[0m \u001b[0mkwargs\u001b[0m\u001b[1;33m)\u001b[0m  \u001b[1;31m# pylint: disable=protected-access\u001b[0m\u001b[1;33m\u001b[0m\u001b[1;33m\u001b[0m\u001b[0m\n\u001b[0m\u001b[0;32m   2364\u001b[0m \u001b[1;33m\u001b[0m\u001b[0m\n\u001b[0;32m   2365\u001b[0m   \u001b[1;33m@\u001b[0m\u001b[0mproperty\u001b[0m\u001b[1;33m\u001b[0m\u001b[1;33m\u001b[0m\u001b[0m\n",
            "\u001b[1;32m~\\Anaconda3\\lib\\site-packages\\tensorflow_core\\python\\eager\\function.py\u001b[0m in \u001b[0;36m_filtered_call\u001b[1;34m(self, args, kwargs)\u001b[0m\n\u001b[0;32m   1609\u001b[0m          if isinstance(t, (ops.Tensor,\n\u001b[0;32m   1610\u001b[0m                            resource_variable_ops.BaseResourceVariable))),\n\u001b[1;32m-> 1611\u001b[1;33m         self.captured_inputs)\n\u001b[0m\u001b[0;32m   1612\u001b[0m \u001b[1;33m\u001b[0m\u001b[0m\n\u001b[0;32m   1613\u001b[0m   \u001b[1;32mdef\u001b[0m \u001b[0m_call_flat\u001b[0m\u001b[1;33m(\u001b[0m\u001b[0mself\u001b[0m\u001b[1;33m,\u001b[0m \u001b[0margs\u001b[0m\u001b[1;33m,\u001b[0m \u001b[0mcaptured_inputs\u001b[0m\u001b[1;33m,\u001b[0m \u001b[0mcancellation_manager\u001b[0m\u001b[1;33m=\u001b[0m\u001b[1;32mNone\u001b[0m\u001b[1;33m)\u001b[0m\u001b[1;33m:\u001b[0m\u001b[1;33m\u001b[0m\u001b[1;33m\u001b[0m\u001b[0m\n",
            "\u001b[1;32m~\\Anaconda3\\lib\\site-packages\\tensorflow_core\\python\\eager\\function.py\u001b[0m in \u001b[0;36m_call_flat\u001b[1;34m(self, args, captured_inputs, cancellation_manager)\u001b[0m\n\u001b[0;32m   1690\u001b[0m       \u001b[1;31m# No tape is watching; skip to running the function.\u001b[0m\u001b[1;33m\u001b[0m\u001b[1;33m\u001b[0m\u001b[1;33m\u001b[0m\u001b[0m\n\u001b[0;32m   1691\u001b[0m       return self._build_call_outputs(self._inference_function.call(\n\u001b[1;32m-> 1692\u001b[1;33m           ctx, args, cancellation_manager=cancellation_manager))\n\u001b[0m\u001b[0;32m   1693\u001b[0m     forward_backward = self._select_forward_and_backward_functions(\n\u001b[0;32m   1694\u001b[0m         \u001b[0margs\u001b[0m\u001b[1;33m,\u001b[0m\u001b[1;33m\u001b[0m\u001b[1;33m\u001b[0m\u001b[0m\n",
            "\u001b[1;32m~\\Anaconda3\\lib\\site-packages\\tensorflow_core\\python\\eager\\function.py\u001b[0m in \u001b[0;36mcall\u001b[1;34m(self, ctx, args, cancellation_manager)\u001b[0m\n\u001b[0;32m    543\u001b[0m               \u001b[0minputs\u001b[0m\u001b[1;33m=\u001b[0m\u001b[0margs\u001b[0m\u001b[1;33m,\u001b[0m\u001b[1;33m\u001b[0m\u001b[1;33m\u001b[0m\u001b[0m\n\u001b[0;32m    544\u001b[0m               \u001b[0mattrs\u001b[0m\u001b[1;33m=\u001b[0m\u001b[1;33m(\u001b[0m\u001b[1;34m\"executor_type\"\u001b[0m\u001b[1;33m,\u001b[0m \u001b[0mexecutor_type\u001b[0m\u001b[1;33m,\u001b[0m \u001b[1;34m\"config_proto\"\u001b[0m\u001b[1;33m,\u001b[0m \u001b[0mconfig\u001b[0m\u001b[1;33m)\u001b[0m\u001b[1;33m,\u001b[0m\u001b[1;33m\u001b[0m\u001b[1;33m\u001b[0m\u001b[0m\n\u001b[1;32m--> 545\u001b[1;33m               ctx=ctx)\n\u001b[0m\u001b[0;32m    546\u001b[0m         \u001b[1;32melse\u001b[0m\u001b[1;33m:\u001b[0m\u001b[1;33m\u001b[0m\u001b[1;33m\u001b[0m\u001b[0m\n\u001b[0;32m    547\u001b[0m           outputs = execute.execute_with_cancellation(\n",
            "\u001b[1;32m~\\Anaconda3\\lib\\site-packages\\tensorflow_core\\python\\eager\\execute.py\u001b[0m in \u001b[0;36mquick_execute\u001b[1;34m(op_name, num_outputs, inputs, attrs, ctx, name)\u001b[0m\n\u001b[0;32m     59\u001b[0m     tensors = pywrap_tensorflow.TFE_Py_Execute(ctx._handle, device_name,\n\u001b[0;32m     60\u001b[0m                                                \u001b[0mop_name\u001b[0m\u001b[1;33m,\u001b[0m \u001b[0minputs\u001b[0m\u001b[1;33m,\u001b[0m \u001b[0mattrs\u001b[0m\u001b[1;33m,\u001b[0m\u001b[1;33m\u001b[0m\u001b[1;33m\u001b[0m\u001b[0m\n\u001b[1;32m---> 61\u001b[1;33m                                                num_outputs)\n\u001b[0m\u001b[0;32m     62\u001b[0m   \u001b[1;32mexcept\u001b[0m \u001b[0mcore\u001b[0m\u001b[1;33m.\u001b[0m\u001b[0m_NotOkStatusException\u001b[0m \u001b[1;32mas\u001b[0m \u001b[0me\u001b[0m\u001b[1;33m:\u001b[0m\u001b[1;33m\u001b[0m\u001b[1;33m\u001b[0m\u001b[0m\n\u001b[0;32m     63\u001b[0m     \u001b[1;32mif\u001b[0m \u001b[0mname\u001b[0m \u001b[1;32mis\u001b[0m \u001b[1;32mnot\u001b[0m \u001b[1;32mNone\u001b[0m\u001b[1;33m:\u001b[0m\u001b[1;33m\u001b[0m\u001b[1;33m\u001b[0m\u001b[0m\n",
            "\u001b[1;31mKeyboardInterrupt\u001b[0m: "
          ]
        }
      ],
      "source": [
        "# fit the model\n",
        "# Run the cell. It will take some time to execute\n",
        "r = model..fit_generator(\n",
        "  training_set,\n",
        "  validation_data=test_set,\n",
        "  epochs=50,\n",
        "  steps_per_epoch=len(training_set),\n",
        "  validation_steps=len(test_set)\n",
        ")"
      ]
    },
    {
      "cell_type": "code",
      "execution_count": null,
      "metadata": {
        "id": "UFP0O4e-OpCE",
        "outputId": "a3989bda-0802-4402-b3b0-b281e689c574"
      },
      "outputs": [
        {
          "data": {
            "image/png": "[encoded data removed]",
            "text/plain": [
              "<Figure size 432x288 with 1 Axes>"
            ]
          },
          "metadata": {
            "needs_background": "light"
          },
          "output_type": "display_data"
        },
        {
          "data": {
            "image/png": "[encoded data removed]",
            "text/plain": [
              "<Figure size 432x288 with 1 Axes>"
            ]
          },
          "metadata": {
            "needs_background": "light"
          },
          "output_type": "display_data"
        },
        {
          "data": {
            "text/plain": [
              "<Figure size 432x288 with 0 Axes>"
            ]
          },
          "metadata": {},
          "output_type": "display_data"
        }
      ],
      "source": [
        "# plot the loss\n",
        "plt.plot(r.history['loss'], label='train loss')\n",
        "plt.plot(r.history['val_loss'], label='val loss')\n",
        "plt.legend()\n",
        "plt.show()\n",
        "plt.savefig('LossVal_loss')\n",
        "\n",
        "# plot the accuracy\n",
        "plt.plot(r.history['accuracy'], label='train acc')\n",
        "plt.plot(r.history['val_accuracy'], label='val acc')\n",
        "plt.legend()\n",
        "plt.show()\n",
        "plt.savefig('AccVal_acc')"
      ]
    },
    {
      "cell_type": "code",
      "execution_count": null,
      "metadata": {
        "colab": {
          "base_uri": "https://localhost:8080/"
        },
        "id": "dsUYC6WYOpCF",
        "outputId": "bf6a218a-7187-4736-8885-09a3df580005"
      },
      "outputs": [
        {
          "output_type": "stream",
          "name": "stdout",
          "text": [
            "2/2 [==============================] - 4s 1s/step - loss: 0.2890 - accuracy: 0.9667\n"
          ]
        }
      ],
      "source": [
        "loss,accuracy = model.evaluate(test_set)"
      ]
    },
    {
      "cell_type": "code",
      "execution_count": null,
      "metadata": {
        "colab": {
          "base_uri": "https://localhost:8080/"
        },
        "id": "MiDqLrTDOpCF",
        "outputId": "14376085-99f2-450d-b379-42e2a1f2341b"
      },
      "outputs": [
        {
          "output_type": "stream",
          "name": "stdout",
          "text": [
            "test accuracy: 96.66666388511658\n",
            "test loss: 28.90319526195526\n"
          ]
        }
      ],
      "source": [
        "print(\"test accuracy: \"+ str(accuracy*100))\n",
        "print(\"test loss: \"+ str(loss*100))"
      ]
    },
    {
      "cell_type": "code",
      "execution_count": null,
      "metadata": {
        "id": "qqvojU7hOpCF"
      },
      "outputs": [],
      "source": [
        "# save it as a h5 file\n",
        "\n",
        "\n",
        "from tensorflow.keras.models import load_model\n",
        "\n",
        "model.save('model_vgg19.h5')"
      ]
    },
    {
      "cell_type": "code",
      "execution_count": null,
      "metadata": {
        "id": "GIdlI8MFOpCF"
      },
      "outputs": [],
      "source": [
        ""
      ]
    },
    {
      "cell_type": "code",
      "execution_count": null,
      "metadata": {
        "id": "7tCnG0s9OpCF"
      },
      "outputs": [],
      "source": [
        "\n",
        "y_pred = model.predict(test_set)\n"
      ]
    },
    {
      "cell_type": "code",
      "execution_count": null,
      "metadata": {
        "id": "5nocKvXcOpCF",
        "outputId": "0c7f4f00-3cc4-4c79-fc7a-0067e795e7bd"
      },
      "outputs": [
        {
          "data": {
            "text/plain": [
              "array([[9.99876857e-01, 1.23175341e-04],\n",
              "       [9.99977112e-01, 2.29190919e-05],\n",
              "       [7.58346558e-01, 2.41653457e-01],\n",
              "       [9.99925494e-01, 7.45595753e-05],\n",
              "       [9.90784764e-01, 9.21520963e-03],\n",
              "       [9.12076458e-02, 9.08792377e-01],\n",
              "       [2.70295113e-01, 7.29704857e-01],\n",
              "       [3.21944878e-02, 9.67805505e-01],\n",
              "       [9.62613881e-01, 3.73861678e-02],\n",
              "       [5.13265312e-01, 4.86734688e-01],\n",
              "       [9.87143576e-01, 1.28563549e-02],\n",
              "       [9.97780263e-01, 2.21971911e-03],\n",
              "       [9.32238042e-01, 6.77619576e-02],\n",
              "       [9.21115577e-01, 7.88843632e-02],\n",
              "       [3.17853913e-02, 9.68214571e-01],\n",
              "       [1.00000000e+00, 9.47071488e-09],\n",
              "       [2.65438944e-01, 7.34561086e-01],\n",
              "       [9.99419808e-01, 5.80202264e-04],\n",
              "       [9.40651655e-01, 5.93483634e-02],\n",
              "       [9.85742450e-01, 1.42575456e-02],\n",
              "       [9.99954581e-01, 4.54339461e-05],\n",
              "       [9.99656916e-01, 3.43117106e-04],\n",
              "       [5.88945560e-02, 9.41105425e-01],\n",
              "       [9.99902725e-01, 9.72729686e-05],\n",
              "       [7.31766939e-01, 2.68233061e-01],\n",
              "       [9.99747813e-01, 2.52151629e-04],\n",
              "       [1.64933771e-01, 8.35066259e-01],\n",
              "       [9.99608934e-01, 3.91100359e-04],\n",
              "       [9.99930501e-01, 6.94626651e-05],\n",
              "       [9.82600868e-01, 1.73991676e-02],\n",
              "       [9.97824430e-01, 2.17563682e-03],\n",
              "       [8.57747495e-02, 9.14225221e-01],\n",
              "       [8.22690725e-01, 1.77309304e-01],\n",
              "       [2.20711201e-01, 7.79288828e-01],\n",
              "       [1.74620345e-01, 8.25379610e-01],\n",
              "       [9.97595489e-01, 2.40448676e-03],\n",
              "       [9.78304744e-01, 2.16952953e-02],\n",
              "       [9.96270061e-01, 3.72986798e-03],\n",
              "       [9.99968529e-01, 3.14996905e-05],\n",
              "       [2.06163585e-01, 7.93836474e-01],\n",
              "       [2.74875015e-01, 7.25125015e-01],\n",
              "       [6.29736423e-01, 3.70263547e-01],\n",
              "       [7.74357736e-01, 2.25642264e-01],\n",
              "       [9.99867320e-01, 1.32690737e-04],\n",
              "       [9.60264862e-01, 3.97351012e-02],\n",
              "       [7.71383643e-01, 2.28616387e-01],\n",
              "       [6.15290999e-01, 3.84708971e-01],\n",
              "       [9.99967098e-01, 3.28774731e-05],\n",
              "       [9.95145261e-01, 4.85474942e-03],\n",
              "       [1.08196318e-01, 8.91803682e-01],\n",
              "       [3.59025478e-01, 6.40974522e-01],\n",
              "       [1.10499725e-01, 8.89500201e-01],\n",
              "       [2.25538373e-01, 7.74461687e-01],\n",
              "       [9.98749137e-01, 1.25089986e-03],\n",
              "       [1.90371588e-01, 8.09628427e-01],\n",
              "       [9.37200725e-01, 6.27992526e-02],\n",
              "       [9.99367177e-01, 6.32850570e-04],\n",
              "       [9.99963284e-01, 3.66732384e-05],\n",
              "       [9.48564351e-01, 5.14356568e-02],\n",
              "       [9.56201553e-01, 4.37984206e-02],\n",
              "       [6.51602149e-02, 9.34839785e-01],\n",
              "       [9.99999046e-01, 1.00051784e-06],\n",
              "       [9.98620391e-01, 1.37962191e-03],\n",
              "       [9.47624370e-02, 9.05237496e-01],\n",
              "       [7.12222219e-01, 2.87777781e-01],\n",
              "       [4.08830613e-01, 5.91169357e-01],\n",
              "       [4.01257932e-01, 5.98742008e-01],\n",
              "       [9.99981642e-01, 1.84092059e-05],\n",
              "       [9.86927807e-01, 1.30722430e-02],\n",
              "       [9.73069012e-01, 2.69310307e-02],\n",
              "       [9.92525339e-01, 7.47464644e-03],\n",
              "       [4.22180533e-01, 5.77819526e-01],\n",
              "       [3.74090314e-01, 6.25909686e-01],\n",
              "       [9.00554836e-01, 9.94452089e-02],\n",
              "       [9.96229827e-01, 3.77019821e-03],\n",
              "       [8.69540453e-01, 1.30459592e-01],\n",
              "       [9.18236852e-01, 8.17631558e-02],\n",
              "       [6.71503171e-02, 9.32849705e-01],\n",
              "       [2.67355323e-01, 7.32644677e-01],\n",
              "       [9.99998689e-01, 1.25849306e-06],\n",
              "       [9.99991894e-01, 8.13550105e-06],\n",
              "       [9.63819861e-01, 3.61801200e-02],\n",
              "       [1.12400115e-01, 8.87599885e-01],\n",
              "       [8.96893084e-01, 1.03106916e-01],\n",
              "       [9.99994040e-01, 5.97917688e-06],\n",
              "       [9.99433100e-01, 5.66851115e-04],\n",
              "       [9.99959230e-01, 4.08172818e-05],\n",
              "       [9.99471962e-01, 5.28042321e-04],\n",
              "       [1.00907192e-01, 8.99092853e-01],\n",
              "       [7.78602958e-01, 2.21397042e-01],\n",
              "       [9.42606330e-01, 5.73936440e-02],\n",
              "       [9.56334770e-02, 9.04366493e-01],\n",
              "       [7.15143263e-01, 2.84856737e-01],\n",
              "       [3.28363180e-01, 6.71636820e-01],\n",
              "       [1.33568943e-01, 8.66431057e-01],\n",
              "       [7.44434819e-02, 9.25556600e-01],\n",
              "       [9.26322997e-01, 7.36770183e-02],\n",
              "       [9.69936788e-01, 3.00631654e-02],\n",
              "       [4.12148356e-01, 5.87851644e-01],\n",
              "       [9.98996079e-01, 1.00392464e-03],\n",
              "       [9.97383654e-01, 2.61637894e-03],\n",
              "       [9.99999642e-01, 3.66045072e-07],\n",
              "       [8.30568254e-01, 1.69431791e-01],\n",
              "       [1.25899151e-01, 8.74100864e-01],\n",
              "       [6.11705780e-02, 9.38829422e-01],\n",
              "       [9.99969840e-01, 3.01911859e-05],\n",
              "       [9.97462153e-01, 2.53788382e-03],\n",
              "       [8.31490874e-01, 1.68509126e-01],\n",
              "       [2.56192029e-01, 7.43807971e-01],\n",
              "       [9.99974728e-01, 2.52405061e-05],\n",
              "       [7.60781288e-01, 2.39218742e-01],\n",
              "       [5.35193384e-01, 4.64806587e-01],\n",
              "       [9.99709666e-01, 2.90352647e-04],\n",
              "       [2.36094102e-01, 7.63905883e-01],\n",
              "       [9.99740064e-01, 2.59921653e-04],\n",
              "       [9.99999285e-01, 6.80445339e-07],\n",
              "       [1.00000000e+00, 8.55684501e-09],\n",
              "       [9.99842644e-01, 1.57280505e-04],\n",
              "       [9.69608068e-01, 3.03919483e-02],\n",
              "       [9.99734938e-01, 2.65098090e-04],\n",
              "       [8.61145318e-01, 1.38854623e-01],\n",
              "       [8.84838045e-01, 1.15161963e-01],\n",
              "       [1.26957521e-01, 8.73042524e-01],\n",
              "       [1.08776897e-01, 8.91223073e-01],\n",
              "       [9.85367537e-01, 1.46324970e-02],\n",
              "       [9.99420404e-01, 5.79623622e-04],\n",
              "       [2.22981453e-01, 7.77018547e-01],\n",
              "       [1.97749451e-01, 8.02250564e-01],\n",
              "       [9.99945760e-01, 5.42549496e-05],\n",
              "       [2.38410935e-01, 7.61589050e-01],\n",
              "       [9.18569207e-01, 8.14308450e-02],\n",
              "       [9.98411298e-01, 1.58868567e-03],\n",
              "       [1.78226024e-01, 8.21774006e-01],\n",
              "       [1.95776328e-01, 8.04223716e-01]], dtype=float32)"
            ]
          },
          "execution_count": 19,
          "metadata": {},
          "output_type": "execute_result"
        }
      ],
      "source": [
        "y_pred"
      ]
    },
    {
      "cell_type": "code",
      "execution_count": null,
      "metadata": {
        "id": "Edq7XNYTOpCG"
      },
      "outputs": [],
      "source": [
        "import numpy as np\n",
        "y_pred = np.argmax(y_pred, axis=1)"
      ]
    },
    {
      "cell_type": "code",
      "execution_count": null,
      "metadata": {
        "id": "eCsfxiynOpCG",
        "outputId": "a64acd87-9338-4042-e08a-db64bdc06f1a"
      },
      "outputs": [
        {
          "data": {
            "text/plain": [
              "array([0, 0, 0, 0, 0, 1, 1, 1, 0, 0, 0, 0, 0, 0, 1, 0, 1, 0, 0, 0, 0, 0,\n",
              "       1, 0, 0, 0, 1, 0, 0, 0, 0, 1, 0, 1, 1, 0, 0, 0, 0, 1, 1, 0, 0, 0,\n",
              "       0, 0, 0, 0, 0, 1, 1, 1, 1, 0, 1, 0, 0, 0, 0, 0, 1, 0, 0, 1, 0, 1,\n",
              "       1, 0, 0, 0, 0, 1, 1, 0, 0, 0, 0, 1, 1, 0, 0, 0, 1, 0, 0, 0, 0, 0,\n",
              "       1, 0, 0, 1, 0, 1, 1, 1, 0, 0, 1, 0, 0, 0, 0, 1, 1, 0, 0, 0, 1, 0,\n",
              "       0, 0, 0, 1, 0, 0, 0, 0, 0, 0, 0, 0, 1, 1, 0, 0, 1, 1, 0, 1, 0, 0,\n",
              "       1, 1], dtype=int64)"
            ]
          },
          "execution_count": 21,
          "metadata": {},
          "output_type": "execute_result"
        }
      ],
      "source": [
        "y_pred"
      ]
    },
    {
      "cell_type": "code",
      "execution_count": null,
      "metadata": {
        "id": "DCAGTTpQOpCG"
      },
      "outputs": [],
      "source": [
        ""
      ]
    },
    {
      "cell_type": "code",
      "execution_count": null,
      "metadata": {
        "id": "rgnFJdLzOpCG"
      },
      "outputs": [],
      "source": [
        "from tensorflow.keras.models import load_model\n",
        "from tensorflow.keras.preprocessing import image"
      ]
    },
    {
      "cell_type": "code",
      "execution_count": null,
      "metadata": {
        "id": "57n415_ZOpCG"
      },
      "outputs": [],
      "source": [
        "model=load_model('model_vgg19.h5')"
      ]
    },
    {
      "cell_type": "code",
      "execution_count": null,
      "metadata": {
        "id": "kuRBfQozOpCG"
      },
      "outputs": [],
      "source": [
        ""
      ]
    },
    {
      "cell_type": "code",
      "execution_count": null,
      "metadata": {
        "id": "3Ysz0iBeOpCG"
      },
      "outputs": [],
      "source": [
        "#img=image.load_img('drive/MyDrive/Colab_Assignments/ML/CovidDataset/Test/Normal/NORMAL2-IM-0894-0001.jpeg',target_size=(224,224))\n",
        "\n",
        "img=image.load_img('drive/MyDrive/Colab_Assignments/ML/CovidDataset/Test/Covid/4e43e48d52c9e2d4c6c1fb9bc1544f_jumbo.jpeg',target_size=(224,224))\n"
      ]
    },
    {
      "cell_type": "code",
      "execution_count": null,
      "metadata": {
        "id": "4J6N28nBOpCG",
        "outputId": "29eb8d6a-9d04-434d-bd5f-7ddf26006b6d"
      },
      "outputs": [
        {
          "data": {
            "text/plain": [
              "array([[[0., 0., 0.],\n",
              "        [0., 0., 0.],\n",
              "        [0., 0., 0.],\n",
              "        ...,\n",
              "        [0., 0., 0.],\n",
              "        [0., 0., 0.],\n",
              "        [0., 0., 0.]],\n",
              "\n",
              "       [[0., 0., 0.],\n",
              "        [0., 0., 0.],\n",
              "        [0., 0., 0.],\n",
              "        ...,\n",
              "        [0., 0., 0.],\n",
              "        [0., 0., 0.],\n",
              "        [0., 0., 0.]],\n",
              "\n",
              "       [[0., 0., 0.],\n",
              "        [0., 0., 0.],\n",
              "        [0., 0., 0.],\n",
              "        ...,\n",
              "        [0., 0., 0.],\n",
              "        [0., 0., 0.],\n",
              "        [0., 0., 0.]],\n",
              "\n",
              "       ...,\n",
              "\n",
              "       [[0., 0., 0.],\n",
              "        [0., 0., 0.],\n",
              "        [0., 0., 0.],\n",
              "        ...,\n",
              "        [0., 0., 0.],\n",
              "        [0., 0., 0.],\n",
              "        [0., 0., 0.]],\n",
              "\n",
              "       [[0., 0., 0.],\n",
              "        [0., 0., 0.],\n",
              "        [0., 0., 0.],\n",
              "        ...,\n",
              "        [0., 0., 0.],\n",
              "        [0., 0., 0.],\n",
              "        [0., 0., 0.]],\n",
              "\n",
              "       [[0., 0., 0.],\n",
              "        [0., 0., 0.],\n",
              "        [0., 0., 0.],\n",
              "        ...,\n",
              "        [0., 0., 0.],\n",
              "        [0., 0., 0.],\n",
              "        [0., 0., 0.]]], dtype=float32)"
            ]
          },
          "execution_count": 27,
          "metadata": {},
          "output_type": "execute_result"
        }
      ],
      "source": [
        "x=image.img_to_array(img)\n",
        "x"
      ]
    },
    {
      "cell_type": "code",
      "execution_count": null,
      "metadata": {
        "id": "vndlaTsCOpCH",
        "outputId": "c6125bef-f438-4008-9d8f-7e0b6efc4972"
      },
      "outputs": [
        {
          "data": {
            "text/plain": [
              "(224, 224, 3)"
            ]
          },
          "execution_count": 28,
          "metadata": {},
          "output_type": "execute_result"
        }
      ],
      "source": [
        "x.shape"
      ]
    },
    {
      "cell_type": "code",
      "execution_count": null,
      "metadata": {
        "id": "LAEcPCl4OpCH"
      },
      "outputs": [],
      "source": [
        "x=x/255"
      ]
    },
    {
      "cell_type": "code",
      "execution_count": null,
      "metadata": {
        "id": "_54iRi6EOpCH",
        "outputId": "345dae46-7985-4835-c2d5-7f60334df84a"
      },
      "outputs": [
        {
          "data": {
            "text/plain": [
              "(1, 224, 224, 3)"
            ]
          },
          "execution_count": 30,
          "metadata": {},
          "output_type": "execute_result"
        }
      ],
      "source": [
        "x=np.expand_dims(x,axis=0)\n",
        "img_data=preprocess_input(x)\n",
        "img_data.shape"
      ]
    },
    {
      "cell_type": "code",
      "execution_count": null,
      "metadata": {
        "id": "sNvU-nwvOpCH",
        "outputId": "b9e40c64-3a26-4188-f0fb-86224256d796"
      },
      "outputs": [
        {
          "data": {
            "text/plain": [
              "array([[0.01155142, 0.98844856]], dtype=float32)"
            ]
          },
          "execution_count": 31,
          "metadata": {},
          "output_type": "execute_result"
        }
      ],
      "source": [
        "model.predict(img_data)"
      ]
    },
    {
      "cell_type": "code",
      "execution_count": null,
      "metadata": {
        "id": "HtsQmIZIOpCH"
      },
      "outputs": [],
      "source": [
        "a=np.argmax(model.predict(img_data), axis=1)"
      ]
    },
    {
      "cell_type": "code",
      "execution_count": null,
      "metadata": {
        "id": "cUaBuAKHOpCI",
        "outputId": "2ddc2403-b5cf-4124-8601-6b7a94641e43"
      },
      "outputs": [
        {
          "name": "stdout",
          "output_type": "stream",
          "text": [
            "Uninfected\n"
          ]
        }
      ],
      "source": [
        "if(a==1):\n",
        "    print(\"Infected\")\n",
        "else:\n",
        "    print(\"Uninfected\")"
      ]
    },
    {
      "cell_type": "markdown",
      "source": [
        "Run webapp"
      ],
      "metadata": {
        "id": "UFiKb1MoR0Zt"
      }
    },
    {
      "cell_type": "code",
      "source": [
        "\n",
        "from __future__ import division, print_function\n",
        "# coding=utf-8\n",
        "import sys\n",
        "import os\n",
        "import glob\n",
        "import re\n",
        "import numpy as np\n",
        "\n",
        "# Keras\n",
        "from tensorflow.keras.applications.imagenet_utils import preprocess_input, decode_predictions\n",
        "from tensorflow.keras.models import load_model\n",
        "from tensorflow.keras.preprocessing import image\n",
        "\n",
        "# Flask utils\n",
        "from flask import Flask, redirect, url_for, request, render_template\n",
        "from werkzeug.utils import secure_filename\n",
        "#from gevent.pywsgi import WSGIServer\n",
        "\n",
        "# Define a flask app\n",
        "app = Flask(__name__)\n",
        "\n",
        "# Model saved with Keras model.save()\n",
        "MODEL_PATH ='drive/MyDrive/Colab_Assignments/ML/CNN.h5'\n",
        "\n",
        "# Load your trained model\n",
        "model = load_model(MODEL_PATH)\n",
        "\n",
        "\n",
        "\n",
        "\n",
        "\n",
        "def model_predict(img_path, model):\n",
        "    img = image.load_img(img_path, target_size=(224, 224))\n",
        "\n",
        "    # Preprocessing the image\n",
        "    x = image.img_to_array(img)\n",
        "    # x = np.true_divide(x, 255)\n",
        "    ## Scaling\n",
        "    x=x/255\n",
        "    x = np.expand_dims(x, axis=0)\n",
        "   \n",
        "\n",
        "    # Be careful how your trained model deals with the input\n",
        "    # otherwise, it won't make correct prediction!\n",
        "    x = preprocess_input(x)\n",
        "\n",
        "    preds = model.predict(x)\n",
        "    preds=np.argmax(preds, axis=1)\n",
        "    if preds==0:\n",
        "        preds=\"The Person is COVID-19 +VE\"\n",
        "    else:\n",
        "        preds=\"The Person is COVID-19 -VE\"\n",
        "    \n",
        "    \n",
        "    return preds\n",
        "\n",
        "\n",
        "@app.route('/', methods=['GET'])\n",
        "def index():\n",
        "    # Main page\n",
        "    return render_template('drive/MyDrive/Colab_Assignments/ML/templates/index.html')\n",
        "\n",
        "\n",
        "@app.route('/predict', methods=['GET', 'POST'])\n",
        "def upload():\n",
        "    if request.method == 'POST':\n",
        "        # Get the file from post request\n",
        "        f = request.files['file']\n",
        "\n",
        "        # Save the file to ./uploads\n",
        "        basepath = os.path.dirname(__file__)\n",
        "        file_path = os.path.join(\n",
        "            basepath, 'uploads', secure_filename(f.filename))\n",
        "        f.save(file_path)\n",
        "\n",
        "        # Make prediction\n",
        "        preds = model_predict(file_path, model)\n",
        "        result=preds\n",
        "        return result\n",
        "    return None\n",
        "\n",
        "\n",
        "if __name__ == '__main__':\n",
        "    app.run(debug=True)\n"
      ],
      "metadata": {
        "id": "qWQtfNtvSE0M"
      },
      "execution_count": null,
      "outputs": []
    }
  ],
  "metadata": {
    "kernelspec": {
      "display_name": "Python 3 (ipykernel)",
      "language": "python",
      "name": "python3"
    },
    "language_info": {
      "codemirror_mode": {
        "name": "ipython",
        "version": 3
      },
      "file_extension": ".py",
      "mimetype": "text/x-python",
      "name": "python",
      "nbconvert_exporter": "python",
      "pygments_lexer": "ipython3",
      "version": "3.8.8"
    },
    "colab": {
      "name": "CNN And VGG19 Transfer Learning.ipynb",
      "provenance": [],
      "include_colab_link": true
    },
    "accelerator": "GPU"
  },
  "nbformat": 4,
  "nbformat_minor": 0
}